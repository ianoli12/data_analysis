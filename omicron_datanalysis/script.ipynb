{
 "cells": [
  {
   "cell_type": "code",
   "execution_count": 418,
   "id": "009e597b-3137-4a7f-b5a8-93031f2e0697",
   "metadata": {
    "tags": []
   },
   "outputs": [
    {
     "data": {
      "text/html": [
       "<img src=\"https://i.imgur.com/b4qvycU.jpg\" width=\"700\" height=\"80\"/>"
      ],
      "text/plain": [
       "<IPython.core.display.Image object>"
      ]
     },
     "execution_count": 418,
     "metadata": {},
     "output_type": "execute_result"
    }
   ],
   "source": [
    "from IPython.display import Image\n",
    "from IPython.core.display import HTML\n",
    "Image(url= \"https://i.imgur.com/b4qvycU.jpg\", width=700, height=80) "
   ]
  },
  {
   "cell_type": "markdown",
   "id": "06790286-a9bb-4c53-8390-b85e5b201c6a",
   "metadata": {},
   "source": [
    "### Importando os dados"
   ]
  },
  {
   "cell_type": "code",
   "execution_count": 489,
   "id": "9cc12abe-5f30-4b54-8885-a21fbb05e768",
   "metadata": {
    "tags": []
   },
   "outputs": [],
   "source": [
    "from sklearn.preprocessing import LabelEncoder\n",
    "from mpl_toolkits.mplot3d import Axes3D\n",
    "import matplotlib.pyplot as plt # plotagem de dados\n",
    "import matplotlib.pyplot\n",
    "import numpy as np # algebra linear\n",
    "import os # acessar estrutura de diretórios\n",
    "import pandas as pd # processamento de dados\n",
    "import seaborn as sns\n",
    "import csv\n",
    "import warnings\n",
    "import plotly.express as px\n",
    "import plotly.graph_objects as go\n",
    "warnings.filterwarnings(\"ignore\")\n",
    "\n",
    "%matplotlib inline"
   ]
  },
  {
   "cell_type": "markdown",
   "id": "ee0e1344-3cb7-4948-81ad-d077cb9d9ff7",
   "metadata": {},
   "source": [
    "\n",
    "<ul>\n",
    " <li>Esse dataset possui a localização, datas, sequenciamentos e outras informações pertinentes as variantes da COVID-19. Apesar do tema dessa análise ser Omicrôn, vamos precisar dos dados de outras variantes para compararmos a evolução dessa mutação em cada país. A base de dados possui os registros mais recentes de novas variantes a fim de proporsionar uma análise mais atual do problema.</li>\n",
    " </ul>\n",
    " \n",
    "<blockquote>Esse dataset possui a localização, datas, sequenciamentos e outras informações pertinentes as variantes da COVID-19. Apesar do tema dessa análise ser Omicrôn, vamos precisar dos dados de outras variantes para compararmos a evolução dessa mutação em cada país. A base de dados possui os registros mais recentes de novas variantes a fim de proporsionar uma análise mais atual do problema.</blockquote>\n"
   ]
  },
  {
   "cell_type": "markdown",
   "id": "bd0ec982-3308-47f0-8cb2-51939780c0e7",
   "metadata": {},
   "source": [
    "<h2><span style=\"color:blue\">Descrição</span></h2>\n",
    "\n",
    "<div class=\"alert alert-block alert-success\">\n",
    "<b>location:</b> este é o país para o qual as informações das variantes são fornecidas;</br>\n",
    "<b>date:</b> data para a entrada de dados;</br>\n",
    "<b>variant:</b> esta é a variante correspondente a esta entrada de dados;</br>\n",
    "<b>num_sequences:</b> o número de sequências processadas (para o país, variante e data)</br>\n",
    "<b>perc_sequences:</b> percentual de sequências do número total de sequências (para o país, variante e data)</br>\n",
    "<b>num_sequences_total:</b> número total de sequências (para o país, variante e data)</br>\n",
    "    \n",
    "</div>"
   ]
  },
  {
   "cell_type": "code",
   "execution_count": 420,
   "id": "36a4245b-9045-4501-bbc0-c7f54d753fc3",
   "metadata": {
    "tags": []
   },
   "outputs": [
    {
     "data": {
      "text/html": [
       "<div>\n",
       "<style scoped>\n",
       "    .dataframe tbody tr th:only-of-type {\n",
       "        vertical-align: middle;\n",
       "    }\n",
       "\n",
       "    .dataframe tbody tr th {\n",
       "        vertical-align: top;\n",
       "    }\n",
       "\n",
       "    .dataframe thead th {\n",
       "        text-align: right;\n",
       "    }\n",
       "</style>\n",
       "<table border=\"1\" class=\"dataframe\">\n",
       "  <thead>\n",
       "    <tr style=\"text-align: right;\">\n",
       "      <th></th>\n",
       "      <th>location</th>\n",
       "      <th>date</th>\n",
       "      <th>variant</th>\n",
       "      <th>num_sequences</th>\n",
       "      <th>perc_sequences</th>\n",
       "      <th>num_sequences_total</th>\n",
       "    </tr>\n",
       "  </thead>\n",
       "  <tbody>\n",
       "    <tr>\n",
       "      <th>0</th>\n",
       "      <td>Angola</td>\n",
       "      <td>2020-07-06</td>\n",
       "      <td>Alpha</td>\n",
       "      <td>0</td>\n",
       "      <td>0.0</td>\n",
       "      <td>3</td>\n",
       "    </tr>\n",
       "    <tr>\n",
       "      <th>1</th>\n",
       "      <td>Angola</td>\n",
       "      <td>2020-07-06</td>\n",
       "      <td>B.1.1.277</td>\n",
       "      <td>0</td>\n",
       "      <td>0.0</td>\n",
       "      <td>3</td>\n",
       "    </tr>\n",
       "    <tr>\n",
       "      <th>2</th>\n",
       "      <td>Angola</td>\n",
       "      <td>2020-07-06</td>\n",
       "      <td>B.1.1.302</td>\n",
       "      <td>0</td>\n",
       "      <td>0.0</td>\n",
       "      <td>3</td>\n",
       "    </tr>\n",
       "    <tr>\n",
       "      <th>3</th>\n",
       "      <td>Angola</td>\n",
       "      <td>2020-07-06</td>\n",
       "      <td>B.1.1.519</td>\n",
       "      <td>0</td>\n",
       "      <td>0.0</td>\n",
       "      <td>3</td>\n",
       "    </tr>\n",
       "    <tr>\n",
       "      <th>4</th>\n",
       "      <td>Angola</td>\n",
       "      <td>2020-07-06</td>\n",
       "      <td>B.1.160</td>\n",
       "      <td>0</td>\n",
       "      <td>0.0</td>\n",
       "      <td>3</td>\n",
       "    </tr>\n",
       "  </tbody>\n",
       "</table>\n",
       "</div>"
      ],
      "text/plain": [
       "  location        date    variant  num_sequences  perc_sequences  \\\n",
       "0   Angola  2020-07-06      Alpha              0             0.0   \n",
       "1   Angola  2020-07-06  B.1.1.277              0             0.0   \n",
       "2   Angola  2020-07-06  B.1.1.302              0             0.0   \n",
       "3   Angola  2020-07-06  B.1.1.519              0             0.0   \n",
       "4   Angola  2020-07-06    B.1.160              0             0.0   \n",
       "\n",
       "   num_sequences_total  \n",
       "0                    3  \n",
       "1                    3  \n",
       "2                    3  \n",
       "3                    3  \n",
       "4                    3  "
      ]
     },
     "execution_count": 420,
     "metadata": {},
     "output_type": "execute_result"
    }
   ],
   "source": [
    "#df = pd.read_csv(\"covid-variants.csv\")\n",
    "#df.head(10)\n",
    "\n",
    "valores_incorretos = ['-','NaN','na','--','.','n/a']\n",
    "df = pd.read_csv(\"covid-variants.csv\", delimiter=',',na_values=valores_incorretos)\n",
    "df.head()"
   ]
  },
  {
   "cell_type": "markdown",
   "id": "deee0aa2-a674-4f74-830c-f806a43d7a07",
   "metadata": {},
   "source": [
    "### Verificando nulos e incorretos"
   ]
  },
  {
   "cell_type": "code",
   "execution_count": 421,
   "id": "e6b5dcab-970b-4694-8fd3-aa9085add1c6",
   "metadata": {},
   "outputs": [
    {
     "data": {
      "text/plain": [
       "location               0\n",
       "date                   0\n",
       "variant                0\n",
       "num_sequences          0\n",
       "perc_sequences         0\n",
       "num_sequences_total    0\n",
       "dtype: int64"
      ]
     },
     "execution_count": 421,
     "metadata": {},
     "output_type": "execute_result"
    }
   ],
   "source": [
    "df.isnull().sum()"
   ]
  },
  {
   "cell_type": "markdown",
   "id": "93e39272-46b4-403a-a6ae-25346c2f8b5b",
   "metadata": {},
   "source": [
    "### Definindo o tipo das colunas "
   ]
  },
  {
   "cell_type": "code",
   "execution_count": 422,
   "id": "b5d69ab5-98b5-44f5-8bcd-90cc64c017b0",
   "metadata": {},
   "outputs": [
    {
     "name": "stdout",
     "output_type": "stream",
     "text": [
      "<class 'pandas.core.frame.DataFrame'>\n",
      "RangeIndex: 100416 entries, 0 to 100415\n",
      "Data columns (total 6 columns):\n",
      " #   Column               Non-Null Count   Dtype  \n",
      "---  ------               --------------   -----  \n",
      " 0   location             100416 non-null  object \n",
      " 1   date                 100416 non-null  object \n",
      " 2   variant              100416 non-null  object \n",
      " 3   num_sequences        100416 non-null  int64  \n",
      " 4   perc_sequences       100416 non-null  float64\n",
      " 5   num_sequences_total  100416 non-null  int64  \n",
      "dtypes: float64(1), int64(2), object(3)\n",
      "memory usage: 4.6+ MB\n"
     ]
    }
   ],
   "source": [
    "# Conforme observado abaixo, vemos que algumas colunas são tipo object.\n",
    "# Para não haver conflitos na análise, vamos tipar essas colunas.\n",
    "\n",
    "df.info()"
   ]
  },
  {
   "cell_type": "code",
   "execution_count": 423,
   "id": "f861de25-75bc-4164-98c0-c5daecb29e70",
   "metadata": {
    "tags": []
   },
   "outputs": [],
   "source": [
    "colunas = ['location', 'date', 'variant']\n",
    "\n",
    "# Mudando o tipo de dados das colunas por meio do laço For\n",
    "for index, coluna in enumerate(colunas):\n",
    "    if index < 1:\n",
    "        df[f'{coluna}'] = df[f'{coluna}'].astype(\"string\")\n",
    "    elif index > 0 and index < 2:\n",
    "        df[f'{coluna}'] = df[f'{coluna}'].values.astype(\"datetime64\")\n",
    "    else:\n",
    "        df[f'{coluna}'] = df[f'{coluna}'].astype(\"string\")"
   ]
  },
  {
   "cell_type": "code",
   "execution_count": 424,
   "id": "37a7a4b6-e0a2-4f3a-9617-719165d1f9ae",
   "metadata": {},
   "outputs": [
    {
     "name": "stdout",
     "output_type": "stream",
     "text": [
      "<class 'pandas.core.frame.DataFrame'>\n",
      "RangeIndex: 100416 entries, 0 to 100415\n",
      "Data columns (total 6 columns):\n",
      " #   Column               Non-Null Count   Dtype         \n",
      "---  ------               --------------   -----         \n",
      " 0   location             100416 non-null  string        \n",
      " 1   date                 100416 non-null  datetime64[ns]\n",
      " 2   variant              100416 non-null  string        \n",
      " 3   num_sequences        100416 non-null  int64         \n",
      " 4   perc_sequences       100416 non-null  float64       \n",
      " 5   num_sequences_total  100416 non-null  int64         \n",
      "dtypes: datetime64[ns](1), float64(1), int64(2), string(2)\n",
      "memory usage: 4.6 MB\n"
     ]
    }
   ],
   "source": [
    "# Pronto. Colunas alteradas.\n",
    "df.info()"
   ]
  },
  {
   "cell_type": "markdown",
   "id": "6904e500-a388-4a18-8a8f-6ab10b997cc2",
   "metadata": {},
   "source": [
    "### Quais são as variantes a serem analisadas?"
   ]
  },
  {
   "cell_type": "code",
   "execution_count": 425,
   "id": "efa3ae97-8d61-41e3-80dd-ea123d416e58",
   "metadata": {
    "tags": []
   },
   "outputs": [
    {
     "data": {
      "text/html": [
       "<div>\n",
       "<style scoped>\n",
       "    .dataframe tbody tr th:only-of-type {\n",
       "        vertical-align: middle;\n",
       "    }\n",
       "\n",
       "    .dataframe tbody tr th {\n",
       "        vertical-align: top;\n",
       "    }\n",
       "\n",
       "    .dataframe thead th {\n",
       "        text-align: right;\n",
       "    }\n",
       "</style>\n",
       "<table border=\"1\" class=\"dataframe\">\n",
       "  <thead>\n",
       "    <tr style=\"text-align: right;\">\n",
       "      <th></th>\n",
       "    </tr>\n",
       "    <tr>\n",
       "      <th>variant</th>\n",
       "    </tr>\n",
       "  </thead>\n",
       "  <tbody>\n",
       "    <tr>\n",
       "      <th>Alpha</th>\n",
       "    </tr>\n",
       "    <tr>\n",
       "      <th>B.1.1.277</th>\n",
       "    </tr>\n",
       "    <tr>\n",
       "      <th>B.1.1.302</th>\n",
       "    </tr>\n",
       "    <tr>\n",
       "      <th>B.1.1.519</th>\n",
       "    </tr>\n",
       "    <tr>\n",
       "      <th>B.1.160</th>\n",
       "    </tr>\n",
       "    <tr>\n",
       "      <th>B.1.177</th>\n",
       "    </tr>\n",
       "    <tr>\n",
       "      <th>B.1.221</th>\n",
       "    </tr>\n",
       "    <tr>\n",
       "      <th>B.1.258</th>\n",
       "    </tr>\n",
       "    <tr>\n",
       "      <th>B.1.367</th>\n",
       "    </tr>\n",
       "    <tr>\n",
       "      <th>B.1.620</th>\n",
       "    </tr>\n",
       "    <tr>\n",
       "      <th>Beta</th>\n",
       "    </tr>\n",
       "    <tr>\n",
       "      <th>Delta</th>\n",
       "    </tr>\n",
       "    <tr>\n",
       "      <th>Epsilon</th>\n",
       "    </tr>\n",
       "    <tr>\n",
       "      <th>Eta</th>\n",
       "    </tr>\n",
       "    <tr>\n",
       "      <th>Gamma</th>\n",
       "    </tr>\n",
       "    <tr>\n",
       "      <th>Iota</th>\n",
       "    </tr>\n",
       "    <tr>\n",
       "      <th>Kappa</th>\n",
       "    </tr>\n",
       "    <tr>\n",
       "      <th>Lambda</th>\n",
       "    </tr>\n",
       "    <tr>\n",
       "      <th>Mu</th>\n",
       "    </tr>\n",
       "    <tr>\n",
       "      <th>Omicron</th>\n",
       "    </tr>\n",
       "    <tr>\n",
       "      <th>S:677H.Robin1</th>\n",
       "    </tr>\n",
       "    <tr>\n",
       "      <th>S:677P.Pelican</th>\n",
       "    </tr>\n",
       "    <tr>\n",
       "      <th>non_who</th>\n",
       "    </tr>\n",
       "    <tr>\n",
       "      <th>others</th>\n",
       "    </tr>\n",
       "  </tbody>\n",
       "</table>\n",
       "</div>"
      ],
      "text/plain": [
       "Empty DataFrame\n",
       "Columns: []\n",
       "Index: [Alpha, B.1.1.277, B.1.1.302, B.1.1.519, B.1.160, B.1.177, B.1.221, B.1.258, B.1.367, B.1.620, Beta, Delta, Epsilon, Eta, Gamma, Iota, Kappa, Lambda, Mu, Omicron, S:677H.Robin1, S:677P.Pelican, non_who, others]"
      ]
     },
     "execution_count": 425,
     "metadata": {},
     "output_type": "execute_result"
    }
   ],
   "source": [
    "df2 = df[['variant']].groupby(['variant']).sum()\n",
    "df2"
   ]
  },
  {
   "cell_type": "markdown",
   "id": "9641247e-111a-46d4-9adb-67fd64c95863",
   "metadata": {},
   "source": [
    "### Quais são os 30 países com maior número de sequenciamentos processados de variantes?"
   ]
  },
  {
   "cell_type": "code",
   "execution_count": 499,
   "id": "18e3d61c-e8f0-4691-b3e1-dab011419349",
   "metadata": {
    "tags": []
   },
   "outputs": [
    {
     "data": {
      "image/png": "[encoded data removed]",
      "text/plain": [
       "<Figure size 914.4x739.44 with 1 Axes>"
      ]
     },
     "metadata": {},
     "output_type": "display_data"
    }
   ],
   "source": [
    "df3=df[['location','num_sequences']].groupby(['location']).sum()\n",
    "df3 = df3.sort_values('num_sequences',ascending=False)\n",
    "df3['location'] = df3.index\n",
    "\n",
    "sns.set(rc={'figure.figsize':(12.7,10.27)})\n",
    "sns.barplot(y='location', x=\"num_sequences\",order=df3['location'][:30], data=df3, palette=\"OrRd_r\")\n",
    "\n",
    "paises = df.groupby(['location'])['num_sequences_total'].sum().sort_values(ascending = False).reset_index()\n"
   ]
  },
  {
   "cell_type": "markdown",
   "id": "3a4d9b3e-d855-4be3-926b-cd7ecd770c0f",
   "metadata": {},
   "source": [
    "### Mapa global de sequenciamentos totais em todos os períodos"
   ]
  },
  {
   "cell_type": "code",
   "execution_count": 527,
   "id": "4e4964c9-6ba0-4d63-9862-c25140201948",
   "metadata": {
    "tags": []
   },
   "outputs": [
    {
     "data": {
      "application/vnd.plotly.v1+json": {
       "config": {
        "plotlyServerURL": "https://plot.ly"
       },
       "data": [
        {
         "coloraxis": "coloraxis",
         "geo": "geo",
         "hovertemplate": "<b>%{hovertext}</b><br><br>location=%{location}<br>num_sequences_total=%{z}<extra></extra>",
         "hovertext": [
          "United States",
          "United Kingdom",
          "Germany",
          "Denmark",
          "Canada",
          "Japan",
          "France",
          "Sweden",
          "Switzerland",
          "India",
          "Brazil",
          "Netherlands",
          "Italy",
          "Spain",
          "Turkey",
          "Belgium",
          "Australia",
          "Ireland",
          "Slovenia",
          "Mexico",
          "Poland",
          "Norway",
          "Israel",
          "South Africa",
          "Lithuania",
          "Portugal",
          "Finland",
          "South Korea",
          "Czechia",
          "Luxembourg",
          "Slovakia",
          "Chile",
          "Croatia",
          "Philippines",
          "Austria",
          "Peru",
          "Greece",
          "Russia",
          "Indonesia",
          "Singapore",
          "Colombia",
          "Bulgaria",
          "Thailand",
          "Romania",
          "Argentina",
          "Iceland",
          "Estonia",
          "Malaysia",
          "Latvia",
          "Kenya",
          "New Zealand",
          "Qatar",
          "Bangladesh",
          "Nigeria",
          "Ecuador",
          "Papua New Guinea",
          "Aruba",
          "Hong Kong",
          "United Arab Emirates",
          "Sri Lanka",
          "Ghana",
          "Bahrain",
          "Botswana",
          "Costa Rica",
          "Cambodia",
          "Vietnam",
          "Sint Maarten (Dutch part)",
          "Pakistan",
          "Guatemala",
          "Trinidad and Tobago",
          "Egypt",
          "Jordan",
          "Zambia",
          "Angola",
          "Lebanon",
          "Bosnia and Herzegovina",
          "Kosovo",
          "Curacao",
          "Suriname",
          "Mozambique",
          "Paraguay",
          "Maldives",
          "Gambia",
          "Georgia",
          "Malawi",
          "Uganda",
          "Madagascar",
          "Benin",
          "North Macedonia",
          "Senegal",
          "Rwanda",
          "Zimbabwe",
          "Uruguay",
          "Ukraine",
          "Malta",
          "Cyprus",
          "Dominican Republic",
          "Seychelles",
          "Cameroon",
          "Fiji",
          "Ethiopia",
          "Serbia",
          "Mauritius",
          "Liechtenstein",
          "Montenegro",
          "Oman",
          "Kazakhstan",
          "Morocco",
          "Iran",
          "Nepal",
          "Djibouti",
          "Jamaica",
          "Togo",
          "Brunei",
          "Kuwait",
          "Hungary",
          "Belize",
          "Iraq",
          "Moldova",
          "Mongolia",
          "Monaco"
         ],
         "locationmode": "country names",
         "locations": [
          "United States",
          "United Kingdom",
          "Germany",
          "Denmark",
          "Canada",
          "Japan",
          "France",
          "Sweden",
          "Switzerland",
          "India",
          "Brazil",
          "Netherlands",
          "Italy",
          "Spain",
          "Turkey",
          "Belgium",
          "Australia",
          "Ireland",
          "Slovenia",
          "Mexico",
          "Poland",
          "Norway",
          "Israel",
          "South Africa",
          "Lithuania",
          "Portugal",
          "Finland",
          "South Korea",
          "Czechia",
          "Luxembourg",
          "Slovakia",
          "Chile",
          "Croatia",
          "Philippines",
          "Austria",
          "Peru",
          "Greece",
          "Russia",
          "Indonesia",
          "Singapore",
          "Colombia",
          "Bulgaria",
          "Thailand",
          "Romania",
          "Argentina",
          "Iceland",
          "Estonia",
          "Malaysia",
          "Latvia",
          "Kenya",
          "New Zealand",
          "Qatar",
          "Bangladesh",
          "Nigeria",
          "Ecuador",
          "Papua New Guinea",
          "Aruba",
          "Hong Kong",
          "United Arab Emirates",
          "Sri Lanka",
          "Ghana",
          "Bahrain",
          "Botswana",
          "Costa Rica",
          "Cambodia",
          "Vietnam",
          "Sint Maarten (Dutch part)",
          "Pakistan",
          "Guatemala",
          "Trinidad and Tobago",
          "Egypt",
          "Jordan",
          "Zambia",
          "Angola",
          "Lebanon",
          "Bosnia and Herzegovina",
          "Kosovo",
          "Curacao",
          "Suriname",
          "Mozambique",
          "Paraguay",
          "Maldives",
          "Gambia",
          "Georgia",
          "Malawi",
          "Uganda",
          "Madagascar",
          "Benin",
          "North Macedonia",
          "Senegal",
          "Rwanda",
          "Zimbabwe",
          "Uruguay",
          "Ukraine",
          "Malta",
          "Cyprus",
          "Dominican Republic",
          "Seychelles",
          "Cameroon",
          "Fiji",
          "Ethiopia",
          "Serbia",
          "Mauritius",
          "Liechtenstein",
          "Montenegro",
          "Oman",
          "Kazakhstan",
          "Morocco",
          "Iran",
          "Nepal",
          "Djibouti",
          "Jamaica",
          "Togo",
          "Brunei",
          "Kuwait",
          "Hungary",
          "Belize",
          "Iraq",
          "Moldova",
          "Mongolia",
          "Monaco"
         ],
         "name": "",
         "type": "choropleth",
         "z": [
          49960248,
          37427568,
          7851432,
          6728880,
          4365240,
          4268136,
          3602784,
          3308496,
          2392008,
          2184672,
          2160480,
          1985928,
          1910832,
          1877736,
          1844592,
          1800648,
          1132776,
          1090272,
          1048224,
          1027992,
          945216,
          903792,
          863928,
          623664,
          609192,
          549408,
          536640,
          499152,
          488688,
          455256,
          423552,
          418440,
          325656,
          305712,
          301920,
          293040,
          292896,
          276936,
          273864,
          247752,
          246840,
          245616,
          216432,
          205584,
          201864,
          198576,
          193008,
          173808,
          150960,
          127128,
          114216,
          97128,
          88800,
          88176,
          84552,
          80784,
          72000,
          60456,
          59760,
          56496,
          56232,
          53808,
          52800,
          51672,
          47472,
          43320,
          43152,
          37728,
          34776,
          34464,
          32040,
          28536,
          26808,
          25320,
          24216,
          23808,
          23760,
          23472,
          22344,
          22248,
          21096,
          20760,
          20712,
          20160,
          19464,
          19080,
          18528,
          18000,
          17712,
          16680,
          16536,
          16464,
          16368,
          14736,
          14472,
          14160,
          13560,
          13032,
          12864,
          12600,
          12528,
          11448,
          11232,
          11064,
          10728,
          10704,
          10296,
          9600,
          8856,
          8832,
          8808,
          8784,
          8112,
          7944,
          7872,
          7824,
          7536,
          4008,
          3648,
          3600,
          2016
         ]
        }
       ],
       "layout": {
        "autosize": true,
        "coloraxis": {
         "cmax": 1000000,
         "cmin": 1,
         "colorbar": {
          "title": {
           "text": "num_sequences_total"
          }
         },
         "colorscale": [
          [
           0,
           "rgb(127,0,0)"
          ],
          [
           0.125,
           "rgb(179,0,0)"
          ],
          [
           0.25,
           "rgb(215,48,31)"
          ],
          [
           0.375,
           "rgb(239,101,72)"
          ],
          [
           0.5,
           "rgb(252,141,89)"
          ],
          [
           0.625,
           "rgb(253,187,132)"
          ],
          [
           0.75,
           "rgb(253,212,158)"
          ],
          [
           0.875,
           "rgb(254,232,200)"
          ],
          [
           1,
           "rgb(255,247,236)"
          ]
         ]
        },
        "geo": {
         "center": {
          "lat": 0,
          "lon": 0
         },
         "domain": {
          "x": [
           0,
           1
          ],
          "y": [
           0,
           1
          ]
         },
         "fitbounds": false,
         "projection": {
          "rotation": {
           "lon": 0
          },
          "scale": 1
         }
        },
        "legend": {
         "tracegroupgap": 0
        },
        "margin": {
         "b": 30,
         "l": 10,
         "r": 10,
         "t": 30
        },
        "template": {
         "data": {
          "bar": [
           {
            "error_x": {
             "color": "#2a3f5f"
            },
            "error_y": {
             "color": "#2a3f5f"
            },
            "marker": {
             "line": {
              "color": "#E5ECF6",
              "width": 0.5
             },
             "pattern": {
              "fillmode": "overlay",
              "size": 10,
              "solidity": 0.2
             }
            },
            "type": "bar"
           }
          ],
          "barpolar": [
           {
            "marker": {
             "line": {
              "color": "#E5ECF6",
              "width": 0.5
             },
             "pattern": {
              "fillmode": "overlay",
              "size": 10,
              "solidity": 0.2
             }
            },
            "type": "barpolar"
           }
          ],
          "carpet": [
           {
            "aaxis": {
             "endlinecolor": "#2a3f5f",
             "gridcolor": "white",
             "linecolor": "white",
             "minorgridcolor": "white",
             "startlinecolor": "#2a3f5f"
            },
            "baxis": {
             "endlinecolor": "#2a3f5f",
             "gridcolor": "white",
             "linecolor": "white",
             "minorgridcolor": "white",
             "startlinecolor": "#2a3f5f"
            },
            "type": "carpet"
           }
          ],
          "choropleth": [
           {
            "colorbar": {
             "outlinewidth": 0,
             "ticks": ""
            },
            "type": "choropleth"
           }
          ],
          "contour": [
           {
            "colorbar": {
             "outlinewidth": 0,
             "ticks": ""
            },
            "colorscale": [
             [
              0,
              "#0d0887"
             ],
             [
              0.1111111111111111,
              "#46039f"
             ],
             [
              0.2222222222222222,
              "#7201a8"
             ],
             [
              0.3333333333333333,
              "#9c179e"
             ],
             [
              0.4444444444444444,
              "#bd3786"
             ],
             [
              0.5555555555555556,
              "#d8576b"
             ],
             [
              0.6666666666666666,
              "#ed7953"
             ],
             [
              0.7777777777777778,
              "#fb9f3a"
             ],
             [
              0.8888888888888888,
              "#fdca26"
             ],
             [
              1,
              "#f0f921"
             ]
            ],
            "type": "contour"
           }
          ],
          "contourcarpet": [
           {
            "colorbar": {
             "outlinewidth": 0,
             "ticks": ""
            },
            "type": "contourcarpet"
           }
          ],
          "heatmap": [
           {
            "colorbar": {
             "outlinewidth": 0,
             "ticks": ""
            },
            "colorscale": [
             [
              0,
              "#0d0887"
             ],
             [
              0.1111111111111111,
              "#46039f"
             ],
             [
              0.2222222222222222,
              "#7201a8"
             ],
             [
              0.3333333333333333,
              "#9c179e"
             ],
             [
              0.4444444444444444,
              "#bd3786"
             ],
             [
              0.5555555555555556,
              "#d8576b"
             ],
             [
              0.6666666666666666,
              "#ed7953"
             ],
             [
              0.7777777777777778,
              "#fb9f3a"
             ],
             [
              0.8888888888888888,
              "#fdca26"
             ],
             [
              1,
              "#f0f921"
             ]
            ],
            "type": "heatmap"
           }
          ],
          "heatmapgl": [
           {
            "colorbar": {
             "outlinewidth": 0,
             "ticks": ""
            },
            "colorscale": [
             [
              0,
              "#0d0887"
             ],
             [
              0.1111111111111111,
              "#46039f"
             ],
             [
              0.2222222222222222,
              "#7201a8"
             ],
             [
              0.3333333333333333,
              "#9c179e"
             ],
             [
              0.4444444444444444,
              "#bd3786"
             ],
             [
              0.5555555555555556,
              "#d8576b"
             ],
             [
              0.6666666666666666,
              "#ed7953"
             ],
             [
              0.7777777777777778,
              "#fb9f3a"
             ],
             [
              0.8888888888888888,
              "#fdca26"
             ],
             [
              1,
              "#f0f921"
             ]
            ],
            "type": "heatmapgl"
           }
          ],
          "histogram": [
           {
            "marker": {
             "pattern": {
              "fillmode": "overlay",
              "size": 10,
              "solidity": 0.2
             }
            },
            "type": "histogram"
           }
          ],
          "histogram2d": [
           {
            "colorbar": {
             "outlinewidth": 0,
             "ticks": ""
            },
            "colorscale": [
             [
              0,
              "#0d0887"
             ],
             [
              0.1111111111111111,
              "#46039f"
             ],
             [
              0.2222222222222222,
              "#7201a8"
             ],
             [
              0.3333333333333333,
              "#9c179e"
             ],
             [
              0.4444444444444444,
              "#bd3786"
             ],
             [
              0.5555555555555556,
              "#d8576b"
             ],
             [
              0.6666666666666666,
              "#ed7953"
             ],
             [
              0.7777777777777778,
              "#fb9f3a"
             ],
             [
              0.8888888888888888,
              "#fdca26"
             ],
             [
              1,
              "#f0f921"
             ]
            ],
            "type": "histogram2d"
           }
          ],
          "histogram2dcontour": [
           {
            "colorbar": {
             "outlinewidth": 0,
             "ticks": ""
            },
            "colorscale": [
             [
              0,
              "#0d0887"
             ],
             [
              0.1111111111111111,
              "#46039f"
             ],
             [
              0.2222222222222222,
              "#7201a8"
             ],
             [
              0.3333333333333333,
              "#9c179e"
             ],
             [
              0.4444444444444444,
              "#bd3786"
             ],
             [
              0.5555555555555556,
              "#d8576b"
             ],
             [
              0.6666666666666666,
              "#ed7953"
             ],
             [
              0.7777777777777778,
              "#fb9f3a"
             ],
             [
              0.8888888888888888,
              "#fdca26"
             ],
             [
              1,
              "#f0f921"
             ]
            ],
            "type": "histogram2dcontour"
           }
          ],
          "mesh3d": [
           {
            "colorbar": {
             "outlinewidth": 0,
             "ticks": ""
            },
            "type": "mesh3d"
           }
          ],
          "parcoords": [
           {
            "line": {
             "colorbar": {
              "outlinewidth": 0,
              "ticks": ""
             }
            },
            "type": "parcoords"
           }
          ],
          "pie": [
           {
            "automargin": true,
            "type": "pie"
           }
          ],
          "scatter": [
           {
            "marker": {
             "colorbar": {
              "outlinewidth": 0,
              "ticks": ""
             }
            },
            "type": "scatter"
           }
          ],
          "scatter3d": [
           {
            "line": {
             "colorbar": {
              "outlinewidth": 0,
              "ticks": ""
             }
            },
            "marker": {
             "colorbar": {
              "outlinewidth": 0,
              "ticks": ""
             }
            },
            "type": "scatter3d"
           }
          ],
          "scattercarpet": [
           {
            "marker": {
             "colorbar": {
              "outlinewidth": 0,
              "ticks": ""
             }
            },
            "type": "scattercarpet"
           }
          ],
          "scattergeo": [
           {
            "marker": {
             "colorbar": {
              "outlinewidth": 0,
              "ticks": ""
             }
            },
            "type": "scattergeo"
           }
          ],
          "scattergl": [
           {
            "marker": {
             "colorbar": {
              "outlinewidth": 0,
              "ticks": ""
             }
            },
            "type": "scattergl"
           }
          ],
          "scattermapbox": [
           {
            "marker": {
             "colorbar": {
              "outlinewidth": 0,
              "ticks": ""
             }
            },
            "type": "scattermapbox"
           }
          ],
          "scatterpolar": [
           {
            "marker": {
             "colorbar": {
              "outlinewidth": 0,
              "ticks": ""
             }
            },
            "type": "scatterpolar"
           }
          ],
          "scatterpolargl": [
           {
            "marker": {
             "colorbar": {
              "outlinewidth": 0,
              "ticks": ""
             }
            },
            "type": "scatterpolargl"
           }
          ],
          "scatterternary": [
           {
            "marker": {
             "colorbar": {
              "outlinewidth": 0,
              "ticks": ""
             }
            },
            "type": "scatterternary"
           }
          ],
          "surface": [
           {
            "colorbar": {
             "outlinewidth": 0,
             "ticks": ""
            },
            "colorscale": [
             [
              0,
              "#0d0887"
             ],
             [
              0.1111111111111111,
              "#46039f"
             ],
             [
              0.2222222222222222,
              "#7201a8"
             ],
             [
              0.3333333333333333,
              "#9c179e"
             ],
             [
              0.4444444444444444,
              "#bd3786"
             ],
             [
              0.5555555555555556,
              "#d8576b"
             ],
             [
              0.6666666666666666,
              "#ed7953"
             ],
             [
              0.7777777777777778,
              "#fb9f3a"
             ],
             [
              0.8888888888888888,
              "#fdca26"
             ],
             [
              1,
              "#f0f921"
             ]
            ],
            "type": "surface"
           }
          ],
          "table": [
           {
            "cells": {
             "fill": {
              "color": "#EBF0F8"
             },
             "line": {
              "color": "white"
             }
            },
            "header": {
             "fill": {
              "color": "#C8D4E3"
             },
             "line": {
              "color": "white"
             }
            },
            "type": "table"
           }
          ]
         },
         "layout": {
          "annotationdefaults": {
           "arrowcolor": "#2a3f5f",
           "arrowhead": 0,
           "arrowwidth": 1
          },
          "autotypenumbers": "strict",
          "coloraxis": {
           "colorbar": {
            "outlinewidth": 0,
            "ticks": ""
           }
          },
          "colorscale": {
           "diverging": [
            [
             0,
             "#8e0152"
            ],
            [
             0.1,
             "#c51b7d"
            ],
            [
             0.2,
             "#de77ae"
            ],
            [
             0.3,
             "#f1b6da"
            ],
            [
             0.4,
             "#fde0ef"
            ],
            [
             0.5,
             "#f7f7f7"
            ],
            [
             0.6,
             "#e6f5d0"
            ],
            [
             0.7,
             "#b8e186"
            ],
            [
             0.8,
             "#7fbc41"
            ],
            [
             0.9,
             "#4d9221"
            ],
            [
             1,
             "#276419"
            ]
           ],
           "sequential": [
            [
             0,
             "#0d0887"
            ],
            [
             0.1111111111111111,
             "#46039f"
            ],
            [
             0.2222222222222222,
             "#7201a8"
            ],
            [
             0.3333333333333333,
             "#9c179e"
            ],
            [
             0.4444444444444444,
             "#bd3786"
            ],
            [
             0.5555555555555556,
             "#d8576b"
            ],
            [
             0.6666666666666666,
             "#ed7953"
            ],
            [
             0.7777777777777778,
             "#fb9f3a"
            ],
            [
             0.8888888888888888,
             "#fdca26"
            ],
            [
             1,
             "#f0f921"
            ]
           ],
           "sequentialminus": [
            [
             0,
             "#0d0887"
            ],
            [
             0.1111111111111111,
             "#46039f"
            ],
            [
             0.2222222222222222,
             "#7201a8"
            ],
            [
             0.3333333333333333,
             "#9c179e"
            ],
            [
             0.4444444444444444,
             "#bd3786"
            ],
            [
             0.5555555555555556,
             "#d8576b"
            ],
            [
             0.6666666666666666,
             "#ed7953"
            ],
            [
             0.7777777777777778,
             "#fb9f3a"
            ],
            [
             0.8888888888888888,
             "#fdca26"
            ],
            [
             1,
             "#f0f921"
            ]
           ]
          },
          "colorway": [
           "#636efa",
           "#EF553B",
           "#00cc96",
           "#ab63fa",
           "#FFA15A",
           "#19d3f3",
           "#FF6692",
           "#B6E880",
           "#FF97FF",
           "#FECB52"
          ],
          "font": {
           "color": "#2a3f5f"
          },
          "geo": {
           "bgcolor": "white",
           "lakecolor": "white",
           "landcolor": "#E5ECF6",
           "showlakes": true,
           "showland": true,
           "subunitcolor": "white"
          },
          "hoverlabel": {
           "align": "left"
          },
          "hovermode": "closest",
          "mapbox": {
           "style": "light"
          },
          "paper_bgcolor": "white",
          "plot_bgcolor": "#E5ECF6",
          "polar": {
           "angularaxis": {
            "gridcolor": "white",
            "linecolor": "white",
            "ticks": ""
           },
           "bgcolor": "#E5ECF6",
           "radialaxis": {
            "gridcolor": "white",
            "linecolor": "white",
            "ticks": ""
           }
          },
          "scene": {
           "xaxis": {
            "backgroundcolor": "#E5ECF6",
            "gridcolor": "white",
            "gridwidth": 2,
            "linecolor": "white",
            "showbackground": true,
            "ticks": "",
            "zerolinecolor": "white"
           },
           "yaxis": {
            "backgroundcolor": "#E5ECF6",
            "gridcolor": "white",
            "gridwidth": 2,
            "linecolor": "white",
            "showbackground": true,
            "ticks": "",
            "zerolinecolor": "white"
           },
           "zaxis": {
            "backgroundcolor": "#E5ECF6",
            "gridcolor": "white",
            "gridwidth": 2,
            "linecolor": "white",
            "showbackground": true,
            "ticks": "",
            "zerolinecolor": "white"
           }
          },
          "shapedefaults": {
           "line": {
            "color": "#2a3f5f"
           }
          },
          "ternary": {
           "aaxis": {
            "gridcolor": "white",
            "linecolor": "white",
            "ticks": ""
           },
           "baxis": {
            "gridcolor": "white",
            "linecolor": "white",
            "ticks": ""
           },
           "bgcolor": "#E5ECF6",
           "caxis": {
            "gridcolor": "white",
            "linecolor": "white",
            "ticks": ""
           }
          },
          "title": {
           "x": 0.05
          },
          "xaxis": {
           "automargin": true,
           "gridcolor": "white",
           "linecolor": "white",
           "ticks": "",
           "title": {
            "standoff": 15
           },
           "zerolinecolor": "white",
           "zerolinewidth": 2
          },
          "yaxis": {
           "automargin": true,
           "gridcolor": "white",
           "linecolor": "white",
           "ticks": "",
           "title": {
            "standoff": 15
           },
           "zerolinecolor": "white",
           "zerolinewidth": 2
          }
         }
        },
        "title": {
         "text": "Número de casos por País"
        }
       }
      },
      "image/png": "[encoded data removed]",
      "text/html": [
       "<div>                            <div id=\"32d0cee5-2096-4f7b-a50c-2288707b2654\" class=\"plotly-graph-div\" style=\"height:525px; width:100%;\"></div>            <script type=\"text/javascript\">                require([\"plotly\"], function(Plotly) {                    window.PLOTLYENV=window.PLOTLYENV || {};                                    if (document.getElementById(\"32d0cee5-2096-4f7b-a50c-2288707b2654\")) {                    Plotly.newPlot(                        \"32d0cee5-2096-4f7b-a50c-2288707b2654\",                        [{\"coloraxis\":\"coloraxis\",\"geo\":\"geo\",\"hovertemplate\":\"<b>%{hovertext}</b><br><br>location=%{location}<br>num_sequences_total=%{z}<extra></extra>\",\"hovertext\":[\"United States\",\"United Kingdom\",\"Germany\",\"Denmark\",\"Canada\",\"Japan\",\"France\",\"Sweden\",\"Switzerland\",\"India\",\"Brazil\",\"Netherlands\",\"Italy\",\"Spain\",\"Turkey\",\"Belgium\",\"Australia\",\"Ireland\",\"Slovenia\",\"Mexico\",\"Poland\",\"Norway\",\"Israel\",\"South Africa\",\"Lithuania\",\"Portugal\",\"Finland\",\"South Korea\",\"Czechia\",\"Luxembourg\",\"Slovakia\",\"Chile\",\"Croatia\",\"Philippines\",\"Austria\",\"Peru\",\"Greece\",\"Russia\",\"Indonesia\",\"Singapore\",\"Colombia\",\"Bulgaria\",\"Thailand\",\"Romania\",\"Argentina\",\"Iceland\",\"Estonia\",\"Malaysia\",\"Latvia\",\"Kenya\",\"New Zealand\",\"Qatar\",\"Bangladesh\",\"Nigeria\",\"Ecuador\",\"Papua New Guinea\",\"Aruba\",\"Hong Kong\",\"United Arab Emirates\",\"Sri Lanka\",\"Ghana\",\"Bahrain\",\"Botswana\",\"Costa Rica\",\"Cambodia\",\"Vietnam\",\"Sint Maarten (Dutch part)\",\"Pakistan\",\"Guatemala\",\"Trinidad and Tobago\",\"Egypt\",\"Jordan\",\"Zambia\",\"Angola\",\"Lebanon\",\"Bosnia and Herzegovina\",\"Kosovo\",\"Curacao\",\"Suriname\",\"Mozambique\",\"Paraguay\",\"Maldives\",\"Gambia\",\"Georgia\",\"Malawi\",\"Uganda\",\"Madagascar\",\"Benin\",\"North Macedonia\",\"Senegal\",\"Rwanda\",\"Zimbabwe\",\"Uruguay\",\"Ukraine\",\"Malta\",\"Cyprus\",\"Dominican Republic\",\"Seychelles\",\"Cameroon\",\"Fiji\",\"Ethiopia\",\"Serbia\",\"Mauritius\",\"Liechtenstein\",\"Montenegro\",\"Oman\",\"Kazakhstan\",\"Morocco\",\"Iran\",\"Nepal\",\"Djibouti\",\"Jamaica\",\"Togo\",\"Brunei\",\"Kuwait\",\"Hungary\",\"Belize\",\"Iraq\",\"Moldova\",\"Mongolia\",\"Monaco\"],\"locationmode\":\"country names\",\"locations\":[\"United States\",\"United Kingdom\",\"Germany\",\"Denmark\",\"Canada\",\"Japan\",\"France\",\"Sweden\",\"Switzerland\",\"India\",\"Brazil\",\"Netherlands\",\"Italy\",\"Spain\",\"Turkey\",\"Belgium\",\"Australia\",\"Ireland\",\"Slovenia\",\"Mexico\",\"Poland\",\"Norway\",\"Israel\",\"South Africa\",\"Lithuania\",\"Portugal\",\"Finland\",\"South Korea\",\"Czechia\",\"Luxembourg\",\"Slovakia\",\"Chile\",\"Croatia\",\"Philippines\",\"Austria\",\"Peru\",\"Greece\",\"Russia\",\"Indonesia\",\"Singapore\",\"Colombia\",\"Bulgaria\",\"Thailand\",\"Romania\",\"Argentina\",\"Iceland\",\"Estonia\",\"Malaysia\",\"Latvia\",\"Kenya\",\"New Zealand\",\"Qatar\",\"Bangladesh\",\"Nigeria\",\"Ecuador\",\"Papua New Guinea\",\"Aruba\",\"Hong Kong\",\"United Arab Emirates\",\"Sri Lanka\",\"Ghana\",\"Bahrain\",\"Botswana\",\"Costa Rica\",\"Cambodia\",\"Vietnam\",\"Sint Maarten (Dutch part)\",\"Pakistan\",\"Guatemala\",\"Trinidad and Tobago\",\"Egypt\",\"Jordan\",\"Zambia\",\"Angola\",\"Lebanon\",\"Bosnia and Herzegovina\",\"Kosovo\",\"Curacao\",\"Suriname\",\"Mozambique\",\"Paraguay\",\"Maldives\",\"Gambia\",\"Georgia\",\"Malawi\",\"Uganda\",\"Madagascar\",\"Benin\",\"North Macedonia\",\"Senegal\",\"Rwanda\",\"Zimbabwe\",\"Uruguay\",\"Ukraine\",\"Malta\",\"Cyprus\",\"Dominican Republic\",\"Seychelles\",\"Cameroon\",\"Fiji\",\"Ethiopia\",\"Serbia\",\"Mauritius\",\"Liechtenstein\",\"Montenegro\",\"Oman\",\"Kazakhstan\",\"Morocco\",\"Iran\",\"Nepal\",\"Djibouti\",\"Jamaica\",\"Togo\",\"Brunei\",\"Kuwait\",\"Hungary\",\"Belize\",\"Iraq\",\"Moldova\",\"Mongolia\",\"Monaco\"],\"name\":\"\",\"type\":\"choropleth\",\"z\":[49960248,37427568,7851432,6728880,4365240,4268136,3602784,3308496,2392008,2184672,2160480,1985928,1910832,1877736,1844592,1800648,1132776,1090272,1048224,1027992,945216,903792,863928,623664,609192,549408,536640,499152,488688,455256,423552,418440,325656,305712,301920,293040,292896,276936,273864,247752,246840,245616,216432,205584,201864,198576,193008,173808,150960,127128,114216,97128,88800,88176,84552,80784,72000,60456,59760,56496,56232,53808,52800,51672,47472,43320,43152,37728,34776,34464,32040,28536,26808,25320,24216,23808,23760,23472,22344,22248,21096,20760,20712,20160,19464,19080,18528,18000,17712,16680,16536,16464,16368,14736,14472,14160,13560,13032,12864,12600,12528,11448,11232,11064,10728,10704,10296,9600,8856,8832,8808,8784,8112,7944,7872,7824,7536,4008,3648,3600,2016]}],                        {\"coloraxis\":{\"cmax\":1000000,\"cmin\":1,\"colorbar\":{\"title\":{\"text\":\"num_sequences_total\"}},\"colorscale\":[[0.0,\"rgb(127,0,0)\"],[0.125,\"rgb(179,0,0)\"],[0.25,\"rgb(215,48,31)\"],[0.375,\"rgb(239,101,72)\"],[0.5,\"rgb(252,141,89)\"],[0.625,\"rgb(253,187,132)\"],[0.75,\"rgb(253,212,158)\"],[0.875,\"rgb(254,232,200)\"],[1.0,\"rgb(255,247,236)\"]]},\"geo\":{\"center\":{},\"domain\":{\"x\":[0.0,1.0],\"y\":[0.0,1.0]}},\"legend\":{\"tracegroupgap\":0},\"margin\":{\"b\":30,\"l\":10,\"r\":10,\"t\":30},\"template\":{\"data\":{\"bar\":[{\"error_x\":{\"color\":\"#2a3f5f\"},\"error_y\":{\"color\":\"#2a3f5f\"},\"marker\":{\"line\":{\"color\":\"#E5ECF6\",\"width\":0.5},\"pattern\":{\"fillmode\":\"overlay\",\"size\":10,\"solidity\":0.2}},\"type\":\"bar\"}],\"barpolar\":[{\"marker\":{\"line\":{\"color\":\"#E5ECF6\",\"width\":0.5},\"pattern\":{\"fillmode\":\"overlay\",\"size\":10,\"solidity\":0.2}},\"type\":\"barpolar\"}],\"carpet\":[{\"aaxis\":{\"endlinecolor\":\"#2a3f5f\",\"gridcolor\":\"white\",\"linecolor\":\"white\",\"minorgridcolor\":\"white\",\"startlinecolor\":\"#2a3f5f\"},\"baxis\":{\"endlinecolor\":\"#2a3f5f\",\"gridcolor\":\"white\",\"linecolor\":\"white\",\"minorgridcolor\":\"white\",\"startlinecolor\":\"#2a3f5f\"},\"type\":\"carpet\"}],\"choropleth\":[{\"colorbar\":{\"outlinewidth\":0,\"ticks\":\"\"},\"type\":\"choropleth\"}],\"contour\":[{\"colorbar\":{\"outlinewidth\":0,\"ticks\":\"\"},\"colorscale\":[[0.0,\"#0d0887\"],[0.1111111111111111,\"#46039f\"],[0.2222222222222222,\"#7201a8\"],[0.3333333333333333,\"#9c179e\"],[0.4444444444444444,\"#bd3786\"],[0.5555555555555556,\"#d8576b\"],[0.6666666666666666,\"#ed7953\"],[0.7777777777777778,\"#fb9f3a\"],[0.8888888888888888,\"#fdca26\"],[1.0,\"#f0f921\"]],\"type\":\"contour\"}],\"contourcarpet\":[{\"colorbar\":{\"outlinewidth\":0,\"ticks\":\"\"},\"type\":\"contourcarpet\"}],\"heatmap\":[{\"colorbar\":{\"outlinewidth\":0,\"ticks\":\"\"},\"colorscale\":[[0.0,\"#0d0887\"],[0.1111111111111111,\"#46039f\"],[0.2222222222222222,\"#7201a8\"],[0.3333333333333333,\"#9c179e\"],[0.4444444444444444,\"#bd3786\"],[0.5555555555555556,\"#d8576b\"],[0.6666666666666666,\"#ed7953\"],[0.7777777777777778,\"#fb9f3a\"],[0.8888888888888888,\"#fdca26\"],[1.0,\"#f0f921\"]],\"type\":\"heatmap\"}],\"heatmapgl\":[{\"colorbar\":{\"outlinewidth\":0,\"ticks\":\"\"},\"colorscale\":[[0.0,\"#0d0887\"],[0.1111111111111111,\"#46039f\"],[0.2222222222222222,\"#7201a8\"],[0.3333333333333333,\"#9c179e\"],[0.4444444444444444,\"#bd3786\"],[0.5555555555555556,\"#d8576b\"],[0.6666666666666666,\"#ed7953\"],[0.7777777777777778,\"#fb9f3a\"],[0.8888888888888888,\"#fdca26\"],[1.0,\"#f0f921\"]],\"type\":\"heatmapgl\"}],\"histogram\":[{\"marker\":{\"pattern\":{\"fillmode\":\"overlay\",\"size\":10,\"solidity\":0.2}},\"type\":\"histogram\"}],\"histogram2d\":[{\"colorbar\":{\"outlinewidth\":0,\"ticks\":\"\"},\"colorscale\":[[0.0,\"#0d0887\"],[0.1111111111111111,\"#46039f\"],[0.2222222222222222,\"#7201a8\"],[0.3333333333333333,\"#9c179e\"],[0.4444444444444444,\"#bd3786\"],[0.5555555555555556,\"#d8576b\"],[0.6666666666666666,\"#ed7953\"],[0.7777777777777778,\"#fb9f3a\"],[0.8888888888888888,\"#fdca26\"],[1.0,\"#f0f921\"]],\"type\":\"histogram2d\"}],\"histogram2dcontour\":[{\"colorbar\":{\"outlinewidth\":0,\"ticks\":\"\"},\"colorscale\":[[0.0,\"#0d0887\"],[0.1111111111111111,\"#46039f\"],[0.2222222222222222,\"#7201a8\"],[0.3333333333333333,\"#9c179e\"],[0.4444444444444444,\"#bd3786\"],[0.5555555555555556,\"#d8576b\"],[0.6666666666666666,\"#ed7953\"],[0.7777777777777778,\"#fb9f3a\"],[0.8888888888888888,\"#fdca26\"],[1.0,\"#f0f921\"]],\"type\":\"histogram2dcontour\"}],\"mesh3d\":[{\"colorbar\":{\"outlinewidth\":0,\"ticks\":\"\"},\"type\":\"mesh3d\"}],\"parcoords\":[{\"line\":{\"colorbar\":{\"outlinewidth\":0,\"ticks\":\"\"}},\"type\":\"parcoords\"}],\"pie\":[{\"automargin\":true,\"type\":\"pie\"}],\"scatter\":[{\"marker\":{\"colorbar\":{\"outlinewidth\":0,\"ticks\":\"\"}},\"type\":\"scatter\"}],\"scatter3d\":[{\"line\":{\"colorbar\":{\"outlinewidth\":0,\"ticks\":\"\"}},\"marker\":{\"colorbar\":{\"outlinewidth\":0,\"ticks\":\"\"}},\"type\":\"scatter3d\"}],\"scattercarpet\":[{\"marker\":{\"colorbar\":{\"outlinewidth\":0,\"ticks\":\"\"}},\"type\":\"scattercarpet\"}],\"scattergeo\":[{\"marker\":{\"colorbar\":{\"outlinewidth\":0,\"ticks\":\"\"}},\"type\":\"scattergeo\"}],\"scattergl\":[{\"marker\":{\"colorbar\":{\"outlinewidth\":0,\"ticks\":\"\"}},\"type\":\"scattergl\"}],\"scattermapbox\":[{\"marker\":{\"colorbar\":{\"outlinewidth\":0,\"ticks\":\"\"}},\"type\":\"scattermapbox\"}],\"scatterpolar\":[{\"marker\":{\"colorbar\":{\"outlinewidth\":0,\"ticks\":\"\"}},\"type\":\"scatterpolar\"}],\"scatterpolargl\":[{\"marker\":{\"colorbar\":{\"outlinewidth\":0,\"ticks\":\"\"}},\"type\":\"scatterpolargl\"}],\"scatterternary\":[{\"marker\":{\"colorbar\":{\"outlinewidth\":0,\"ticks\":\"\"}},\"type\":\"scatterternary\"}],\"surface\":[{\"colorbar\":{\"outlinewidth\":0,\"ticks\":\"\"},\"colorscale\":[[0.0,\"#0d0887\"],[0.1111111111111111,\"#46039f\"],[0.2222222222222222,\"#7201a8\"],[0.3333333333333333,\"#9c179e\"],[0.4444444444444444,\"#bd3786\"],[0.5555555555555556,\"#d8576b\"],[0.6666666666666666,\"#ed7953\"],[0.7777777777777778,\"#fb9f3a\"],[0.8888888888888888,\"#fdca26\"],[1.0,\"#f0f921\"]],\"type\":\"surface\"}],\"table\":[{\"cells\":{\"fill\":{\"color\":\"#EBF0F8\"},\"line\":{\"color\":\"white\"}},\"header\":{\"fill\":{\"color\":\"#C8D4E3\"},\"line\":{\"color\":\"white\"}},\"type\":\"table\"}]},\"layout\":{\"annotationdefaults\":{\"arrowcolor\":\"#2a3f5f\",\"arrowhead\":0,\"arrowwidth\":1},\"autotypenumbers\":\"strict\",\"coloraxis\":{\"colorbar\":{\"outlinewidth\":0,\"ticks\":\"\"}},\"colorscale\":{\"diverging\":[[0,\"#8e0152\"],[0.1,\"#c51b7d\"],[0.2,\"#de77ae\"],[0.3,\"#f1b6da\"],[0.4,\"#fde0ef\"],[0.5,\"#f7f7f7\"],[0.6,\"#e6f5d0\"],[0.7,\"#b8e186\"],[0.8,\"#7fbc41\"],[0.9,\"#4d9221\"],[1,\"#276419\"]],\"sequential\":[[0.0,\"#0d0887\"],[0.1111111111111111,\"#46039f\"],[0.2222222222222222,\"#7201a8\"],[0.3333333333333333,\"#9c179e\"],[0.4444444444444444,\"#bd3786\"],[0.5555555555555556,\"#d8576b\"],[0.6666666666666666,\"#ed7953\"],[0.7777777777777778,\"#fb9f3a\"],[0.8888888888888888,\"#fdca26\"],[1.0,\"#f0f921\"]],\"sequentialminus\":[[0.0,\"#0d0887\"],[0.1111111111111111,\"#46039f\"],[0.2222222222222222,\"#7201a8\"],[0.3333333333333333,\"#9c179e\"],[0.4444444444444444,\"#bd3786\"],[0.5555555555555556,\"#d8576b\"],[0.6666666666666666,\"#ed7953\"],[0.7777777777777778,\"#fb9f3a\"],[0.8888888888888888,\"#fdca26\"],[1.0,\"#f0f921\"]]},\"colorway\":[\"#636efa\",\"#EF553B\",\"#00cc96\",\"#ab63fa\",\"#FFA15A\",\"#19d3f3\",\"#FF6692\",\"#B6E880\",\"#FF97FF\",\"#FECB52\"],\"font\":{\"color\":\"#2a3f5f\"},\"geo\":{\"bgcolor\":\"white\",\"lakecolor\":\"white\",\"landcolor\":\"#E5ECF6\",\"showlakes\":true,\"showland\":true,\"subunitcolor\":\"white\"},\"hoverlabel\":{\"align\":\"left\"},\"hovermode\":\"closest\",\"mapbox\":{\"style\":\"light\"},\"paper_bgcolor\":\"white\",\"plot_bgcolor\":\"#E5ECF6\",\"polar\":{\"angularaxis\":{\"gridcolor\":\"white\",\"linecolor\":\"white\",\"ticks\":\"\"},\"bgcolor\":\"#E5ECF6\",\"radialaxis\":{\"gridcolor\":\"white\",\"linecolor\":\"white\",\"ticks\":\"\"}},\"scene\":{\"xaxis\":{\"backgroundcolor\":\"#E5ECF6\",\"gridcolor\":\"white\",\"gridwidth\":2,\"linecolor\":\"white\",\"showbackground\":true,\"ticks\":\"\",\"zerolinecolor\":\"white\"},\"yaxis\":{\"backgroundcolor\":\"#E5ECF6\",\"gridcolor\":\"white\",\"gridwidth\":2,\"linecolor\":\"white\",\"showbackground\":true,\"ticks\":\"\",\"zerolinecolor\":\"white\"},\"zaxis\":{\"backgroundcolor\":\"#E5ECF6\",\"gridcolor\":\"white\",\"gridwidth\":2,\"linecolor\":\"white\",\"showbackground\":true,\"ticks\":\"\",\"zerolinecolor\":\"white\"}},\"shapedefaults\":{\"line\":{\"color\":\"#2a3f5f\"}},\"ternary\":{\"aaxis\":{\"gridcolor\":\"white\",\"linecolor\":\"white\",\"ticks\":\"\"},\"baxis\":{\"gridcolor\":\"white\",\"linecolor\":\"white\",\"ticks\":\"\"},\"bgcolor\":\"#E5ECF6\",\"caxis\":{\"gridcolor\":\"white\",\"linecolor\":\"white\",\"ticks\":\"\"}},\"title\":{\"x\":0.05},\"xaxis\":{\"automargin\":true,\"gridcolor\":\"white\",\"linecolor\":\"white\",\"ticks\":\"\",\"title\":{\"standoff\":15},\"zerolinecolor\":\"white\",\"zerolinewidth\":2},\"yaxis\":{\"automargin\":true,\"gridcolor\":\"white\",\"linecolor\":\"white\",\"ticks\":\"\",\"title\":{\"standoff\":15},\"zerolinecolor\":\"white\",\"zerolinewidth\":2}}},\"title\":{\"text\":\"N\\u00famero de casos por Pa\\u00eds\"}},                        {\"responsive\": true}                    ).then(function(){\n",
       "                            \n",
       "var gd = document.getElementById('32d0cee5-2096-4f7b-a50c-2288707b2654');\n",
       "var x = new MutationObserver(function (mutations, observer) {{\n",
       "        var display = window.getComputedStyle(gd).display;\n",
       "        if (!display || display === 'none') {{\n",
       "            console.log([gd, 'removed!']);\n",
       "            Plotly.purge(gd);\n",
       "            observer.disconnect();\n",
       "        }}\n",
       "}});\n",
       "\n",
       "// Listen for the removal of the full notebook cells\n",
       "var notebookContainer = gd.closest('#notebook-container');\n",
       "if (notebookContainer) {{\n",
       "    x.observe(notebookContainer, {childList: true});\n",
       "}}\n",
       "\n",
       "// Listen for the clearing of the current output cell\n",
       "var outputEl = gd.closest('.output');\n",
       "if (outputEl) {{\n",
       "    x.observe(outputEl, {childList: true});\n",
       "}}\n",
       "\n",
       "                        })                };                });            </script>        </div>"
      ]
     },
     "metadata": {},
     "output_type": "display_data"
    }
   ],
   "source": [
    "figure = px.choropleth(paises,locations='location', locationmode= 'country names', color= 'num_sequences_total', \n",
    "                       hover_name='location', color_continuous_scale='OrRd_r', \n",
    "                       range_color=[1,1000000],title='Número de casos por País')\n",
    "figure.update_layout(margin=dict(l=10, r=10, t=30, b=30))\n",
    "figure.show()"
   ]
  },
  {
   "cell_type": "code",
   "execution_count": 548,
   "id": "4c1baf1d-f5d1-4de9-8111-121543eb8d25",
   "metadata": {},
   "outputs": [
    {
     "data": {
      "application/vnd.plotly.v1+json": {
       "config": {
        "plotlyServerURL": "https://plot.ly"
       },
       "data": [
        {
         "coloraxis": "coloraxis",
         "geo": "geo",
         "hovertemplate": "<b>%{hovertext}</b><br><br>location=%{location}<br>num_sequences_total=%{z}<extra></extra>",
         "hovertext": [
          "United States",
          "United Kingdom",
          "Germany",
          "Denmark",
          "Canada",
          "Japan",
          "France",
          "Sweden",
          "Switzerland",
          "India",
          "Brazil",
          "Netherlands",
          "Italy",
          "Spain",
          "Turkey",
          "Belgium",
          "Australia",
          "Ireland",
          "Slovenia",
          "Mexico",
          "Poland",
          "Norway",
          "Israel",
          "South Africa",
          "Lithuania",
          "Portugal",
          "Finland",
          "South Korea",
          "Czechia",
          "Luxembourg",
          "Slovakia",
          "Chile",
          "Croatia",
          "Philippines",
          "Austria",
          "Peru",
          "Greece",
          "Russia",
          "Indonesia",
          "Singapore",
          "Colombia",
          "Bulgaria",
          "Thailand",
          "Romania",
          "Argentina",
          "Iceland",
          "Estonia",
          "Malaysia",
          "Latvia",
          "Kenya",
          "New Zealand",
          "Qatar",
          "Bangladesh",
          "Nigeria",
          "Ecuador",
          "Papua New Guinea",
          "Aruba",
          "Hong Kong",
          "United Arab Emirates",
          "Sri Lanka",
          "Ghana",
          "Bahrain",
          "Botswana",
          "Costa Rica",
          "Cambodia",
          "Vietnam",
          "Sint Maarten (Dutch part)",
          "Pakistan",
          "Guatemala",
          "Trinidad and Tobago",
          "Egypt",
          "Jordan",
          "Zambia",
          "Angola",
          "Lebanon",
          "Bosnia and Herzegovina",
          "Kosovo",
          "Curacao",
          "Suriname",
          "Mozambique",
          "Paraguay",
          "Maldives",
          "Gambia",
          "Georgia",
          "Malawi",
          "Uganda",
          "Madagascar",
          "Benin",
          "North Macedonia",
          "Senegal",
          "Rwanda",
          "Zimbabwe",
          "Uruguay",
          "Ukraine",
          "Malta",
          "Cyprus",
          "Dominican Republic",
          "Seychelles",
          "Cameroon",
          "Fiji",
          "Ethiopia",
          "Serbia",
          "Mauritius",
          "Liechtenstein",
          "Montenegro",
          "Oman",
          "Kazakhstan",
          "Morocco",
          "Iran",
          "Nepal",
          "Djibouti",
          "Jamaica",
          "Togo",
          "Brunei",
          "Kuwait",
          "Hungary",
          "Belize",
          "Iraq",
          "Moldova",
          "Mongolia",
          "Monaco"
         ],
         "locationmode": "country names",
         "locations": [
          "United States",
          "United Kingdom",
          "Germany",
          "Denmark",
          "Canada",
          "Japan",
          "France",
          "Sweden",
          "Switzerland",
          "India",
          "Brazil",
          "Netherlands",
          "Italy",
          "Spain",
          "Turkey",
          "Belgium",
          "Australia",
          "Ireland",
          "Slovenia",
          "Mexico",
          "Poland",
          "Norway",
          "Israel",
          "South Africa",
          "Lithuania",
          "Portugal",
          "Finland",
          "South Korea",
          "Czechia",
          "Luxembourg",
          "Slovakia",
          "Chile",
          "Croatia",
          "Philippines",
          "Austria",
          "Peru",
          "Greece",
          "Russia",
          "Indonesia",
          "Singapore",
          "Colombia",
          "Bulgaria",
          "Thailand",
          "Romania",
          "Argentina",
          "Iceland",
          "Estonia",
          "Malaysia",
          "Latvia",
          "Kenya",
          "New Zealand",
          "Qatar",
          "Bangladesh",
          "Nigeria",
          "Ecuador",
          "Papua New Guinea",
          "Aruba",
          "Hong Kong",
          "United Arab Emirates",
          "Sri Lanka",
          "Ghana",
          "Bahrain",
          "Botswana",
          "Costa Rica",
          "Cambodia",
          "Vietnam",
          "Sint Maarten (Dutch part)",
          "Pakistan",
          "Guatemala",
          "Trinidad and Tobago",
          "Egypt",
          "Jordan",
          "Zambia",
          "Angola",
          "Lebanon",
          "Bosnia and Herzegovina",
          "Kosovo",
          "Curacao",
          "Suriname",
          "Mozambique",
          "Paraguay",
          "Maldives",
          "Gambia",
          "Georgia",
          "Malawi",
          "Uganda",
          "Madagascar",
          "Benin",
          "North Macedonia",
          "Senegal",
          "Rwanda",
          "Zimbabwe",
          "Uruguay",
          "Ukraine",
          "Malta",
          "Cyprus",
          "Dominican Republic",
          "Seychelles",
          "Cameroon",
          "Fiji",
          "Ethiopia",
          "Serbia",
          "Mauritius",
          "Liechtenstein",
          "Montenegro",
          "Oman",
          "Kazakhstan",
          "Morocco",
          "Iran",
          "Nepal",
          "Djibouti",
          "Jamaica",
          "Togo",
          "Brunei",
          "Kuwait",
          "Hungary",
          "Belize",
          "Iraq",
          "Moldova",
          "Mongolia",
          "Monaco"
         ],
         "name": "",
         "type": "choropleth",
         "z": [
          49960248,
          37427568,
          7851432,
          6728880,
          4365240,
          4268136,
          3602784,
          3308496,
          2392008,
          2184672,
          2160480,
          1985928,
          1910832,
          1877736,
          1844592,
          1800648,
          1132776,
          1090272,
          1048224,
          1027992,
          945216,
          903792,
          863928,
          623664,
          609192,
          549408,
          536640,
          499152,
          488688,
          455256,
          423552,
          418440,
          325656,
          305712,
          301920,
          293040,
          292896,
          276936,
          273864,
          247752,
          246840,
          245616,
          216432,
          205584,
          201864,
          198576,
          193008,
          173808,
          150960,
          127128,
          114216,
          97128,
          88800,
          88176,
          84552,
          80784,
          72000,
          60456,
          59760,
          56496,
          56232,
          53808,
          52800,
          51672,
          47472,
          43320,
          43152,
          37728,
          34776,
          34464,
          32040,
          28536,
          26808,
          25320,
          24216,
          23808,
          23760,
          23472,
          22344,
          22248,
          21096,
          20760,
          20712,
          20160,
          19464,
          19080,
          18528,
          18000,
          17712,
          16680,
          16536,
          16464,
          16368,
          14736,
          14472,
          14160,
          13560,
          13032,
          12864,
          12600,
          12528,
          11448,
          11232,
          11064,
          10728,
          10704,
          10296,
          9600,
          8856,
          8832,
          8808,
          8784,
          8112,
          7944,
          7872,
          7824,
          7536,
          4008,
          3648,
          3600,
          2016
         ]
        }
       ],
       "layout": {
        "autosize": true,
        "coloraxis": {
         "cmax": 1000000,
         "cmin": 1,
         "colorbar": {
          "title": {
           "text": "num_sequences_total"
          }
         },
         "colorscale": [
          [
           0,
           "rgb(127,0,0)"
          ],
          [
           0.125,
           "rgb(179,0,0)"
          ],
          [
           0.25,
           "rgb(215,48,31)"
          ],
          [
           0.375,
           "rgb(239,101,72)"
          ],
          [
           0.5,
           "rgb(252,141,89)"
          ],
          [
           0.625,
           "rgb(253,187,132)"
          ],
          [
           0.75,
           "rgb(253,212,158)"
          ],
          [
           0.875,
           "rgb(254,232,200)"
          ],
          [
           1,
           "rgb(255,247,236)"
          ]
         ]
        },
        "geo": {
         "center": {},
         "domain": {
          "x": [
           0,
           1
          ],
          "y": [
           0,
           1
          ]
         },
         "scope": "south america"
        },
        "legend": {
         "tracegroupgap": 0
        },
        "margin": {
         "b": 30,
         "l": 10,
         "r": 10,
         "t": 30
        },
        "template": {
         "data": {
          "bar": [
           {
            "error_x": {
             "color": "#2a3f5f"
            },
            "error_y": {
             "color": "#2a3f5f"
            },
            "marker": {
             "line": {
              "color": "#E5ECF6",
              "width": 0.5
             },
             "pattern": {
              "fillmode": "overlay",
              "size": 10,
              "solidity": 0.2
             }
            },
            "type": "bar"
           }
          ],
          "barpolar": [
           {
            "marker": {
             "line": {
              "color": "#E5ECF6",
              "width": 0.5
             },
             "pattern": {
              "fillmode": "overlay",
              "size": 10,
              "solidity": 0.2
             }
            },
            "type": "barpolar"
           }
          ],
          "carpet": [
           {
            "aaxis": {
             "endlinecolor": "#2a3f5f",
             "gridcolor": "white",
             "linecolor": "white",
             "minorgridcolor": "white",
             "startlinecolor": "#2a3f5f"
            },
            "baxis": {
             "endlinecolor": "#2a3f5f",
             "gridcolor": "white",
             "linecolor": "white",
             "minorgridcolor": "white",
             "startlinecolor": "#2a3f5f"
            },
            "type": "carpet"
           }
          ],
          "choropleth": [
           {
            "colorbar": {
             "outlinewidth": 0,
             "ticks": ""
            },
            "type": "choropleth"
           }
          ],
          "contour": [
           {
            "colorbar": {
             "outlinewidth": 0,
             "ticks": ""
            },
            "colorscale": [
             [
              0,
              "#0d0887"
             ],
             [
              0.1111111111111111,
              "#46039f"
             ],
             [
              0.2222222222222222,
              "#7201a8"
             ],
             [
              0.3333333333333333,
              "#9c179e"
             ],
             [
              0.4444444444444444,
              "#bd3786"
             ],
             [
              0.5555555555555556,
              "#d8576b"
             ],
             [
              0.6666666666666666,
              "#ed7953"
             ],
             [
              0.7777777777777778,
              "#fb9f3a"
             ],
             [
              0.8888888888888888,
              "#fdca26"
             ],
             [
              1,
              "#f0f921"
             ]
            ],
            "type": "contour"
           }
          ],
          "contourcarpet": [
           {
            "colorbar": {
             "outlinewidth": 0,
             "ticks": ""
            },
            "type": "contourcarpet"
           }
          ],
          "heatmap": [
           {
            "colorbar": {
             "outlinewidth": 0,
             "ticks": ""
            },
            "colorscale": [
             [
              0,
              "#0d0887"
             ],
             [
              0.1111111111111111,
              "#46039f"
             ],
             [
              0.2222222222222222,
              "#7201a8"
             ],
             [
              0.3333333333333333,
              "#9c179e"
             ],
             [
              0.4444444444444444,
              "#bd3786"
             ],
             [
              0.5555555555555556,
              "#d8576b"
             ],
             [
              0.6666666666666666,
              "#ed7953"
             ],
             [
              0.7777777777777778,
              "#fb9f3a"
             ],
             [
              0.8888888888888888,
              "#fdca26"
             ],
             [
              1,
              "#f0f921"
             ]
            ],
            "type": "heatmap"
           }
          ],
          "heatmapgl": [
           {
            "colorbar": {
             "outlinewidth": 0,
             "ticks": ""
            },
            "colorscale": [
             [
              0,
              "#0d0887"
             ],
             [
              0.1111111111111111,
              "#46039f"
             ],
             [
              0.2222222222222222,
              "#7201a8"
             ],
             [
              0.3333333333333333,
              "#9c179e"
             ],
             [
              0.4444444444444444,
              "#bd3786"
             ],
             [
              0.5555555555555556,
              "#d8576b"
             ],
             [
              0.6666666666666666,
              "#ed7953"
             ],
             [
              0.7777777777777778,
              "#fb9f3a"
             ],
             [
              0.8888888888888888,
              "#fdca26"
             ],
             [
              1,
              "#f0f921"
             ]
            ],
            "type": "heatmapgl"
           }
          ],
          "histogram": [
           {
            "marker": {
             "pattern": {
              "fillmode": "overlay",
              "size": 10,
              "solidity": 0.2
             }
            },
            "type": "histogram"
           }
          ],
          "histogram2d": [
           {
            "colorbar": {
             "outlinewidth": 0,
             "ticks": ""
            },
            "colorscale": [
             [
              0,
              "#0d0887"
             ],
             [
              0.1111111111111111,
              "#46039f"
             ],
             [
              0.2222222222222222,
              "#7201a8"
             ],
             [
              0.3333333333333333,
              "#9c179e"
             ],
             [
              0.4444444444444444,
              "#bd3786"
             ],
             [
              0.5555555555555556,
              "#d8576b"
             ],
             [
              0.6666666666666666,
              "#ed7953"
             ],
             [
              0.7777777777777778,
              "#fb9f3a"
             ],
             [
              0.8888888888888888,
              "#fdca26"
             ],
             [
              1,
              "#f0f921"
             ]
            ],
            "type": "histogram2d"
           }
          ],
          "histogram2dcontour": [
           {
            "colorbar": {
             "outlinewidth": 0,
             "ticks": ""
            },
            "colorscale": [
             [
              0,
              "#0d0887"
             ],
             [
              0.1111111111111111,
              "#46039f"
             ],
             [
              0.2222222222222222,
              "#7201a8"
             ],
             [
              0.3333333333333333,
              "#9c179e"
             ],
             [
              0.4444444444444444,
              "#bd3786"
             ],
             [
              0.5555555555555556,
              "#d8576b"
             ],
             [
              0.6666666666666666,
              "#ed7953"
             ],
             [
              0.7777777777777778,
              "#fb9f3a"
             ],
             [
              0.8888888888888888,
              "#fdca26"
             ],
             [
              1,
              "#f0f921"
             ]
            ],
            "type": "histogram2dcontour"
           }
          ],
          "mesh3d": [
           {
            "colorbar": {
             "outlinewidth": 0,
             "ticks": ""
            },
            "type": "mesh3d"
           }
          ],
          "parcoords": [
           {
            "line": {
             "colorbar": {
              "outlinewidth": 0,
              "ticks": ""
             }
            },
            "type": "parcoords"
           }
          ],
          "pie": [
           {
            "automargin": true,
            "type": "pie"
           }
          ],
          "scatter": [
           {
            "marker": {
             "colorbar": {
              "outlinewidth": 0,
              "ticks": ""
             }
            },
            "type": "scatter"
           }
          ],
          "scatter3d": [
           {
            "line": {
             "colorbar": {
              "outlinewidth": 0,
              "ticks": ""
             }
            },
            "marker": {
             "colorbar": {
              "outlinewidth": 0,
              "ticks": ""
             }
            },
            "type": "scatter3d"
           }
          ],
          "scattercarpet": [
           {
            "marker": {
             "colorbar": {
              "outlinewidth": 0,
              "ticks": ""
             }
            },
            "type": "scattercarpet"
           }
          ],
          "scattergeo": [
           {
            "marker": {
             "colorbar": {
              "outlinewidth": 0,
              "ticks": ""
             }
            },
            "type": "scattergeo"
           }
          ],
          "scattergl": [
           {
            "marker": {
             "colorbar": {
              "outlinewidth": 0,
              "ticks": ""
             }
            },
            "type": "scattergl"
           }
          ],
          "scattermapbox": [
           {
            "marker": {
             "colorbar": {
              "outlinewidth": 0,
              "ticks": ""
             }
            },
            "type": "scattermapbox"
           }
          ],
          "scatterpolar": [
           {
            "marker": {
             "colorbar": {
              "outlinewidth": 0,
              "ticks": ""
             }
            },
            "type": "scatterpolar"
           }
          ],
          "scatterpolargl": [
           {
            "marker": {
             "colorbar": {
              "outlinewidth": 0,
              "ticks": ""
             }
            },
            "type": "scatterpolargl"
           }
          ],
          "scatterternary": [
           {
            "marker": {
             "colorbar": {
              "outlinewidth": 0,
              "ticks": ""
             }
            },
            "type": "scatterternary"
           }
          ],
          "surface": [
           {
            "colorbar": {
             "outlinewidth": 0,
             "ticks": ""
            },
            "colorscale": [
             [
              0,
              "#0d0887"
             ],
             [
              0.1111111111111111,
              "#46039f"
             ],
             [
              0.2222222222222222,
              "#7201a8"
             ],
             [
              0.3333333333333333,
              "#9c179e"
             ],
             [
              0.4444444444444444,
              "#bd3786"
             ],
             [
              0.5555555555555556,
              "#d8576b"
             ],
             [
              0.6666666666666666,
              "#ed7953"
             ],
             [
              0.7777777777777778,
              "#fb9f3a"
             ],
             [
              0.8888888888888888,
              "#fdca26"
             ],
             [
              1,
              "#f0f921"
             ]
            ],
            "type": "surface"
           }
          ],
          "table": [
           {
            "cells": {
             "fill": {
              "color": "#EBF0F8"
             },
             "line": {
              "color": "white"
             }
            },
            "header": {
             "fill": {
              "color": "#C8D4E3"
             },
             "line": {
              "color": "white"
             }
            },
            "type": "table"
           }
          ]
         },
         "layout": {
          "annotationdefaults": {
           "arrowcolor": "#2a3f5f",
           "arrowhead": 0,
           "arrowwidth": 1
          },
          "autotypenumbers": "strict",
          "coloraxis": {
           "colorbar": {
            "outlinewidth": 0,
            "ticks": ""
           }
          },
          "colorscale": {
           "diverging": [
            [
             0,
             "#8e0152"
            ],
            [
             0.1,
             "#c51b7d"
            ],
            [
             0.2,
             "#de77ae"
            ],
            [
             0.3,
             "#f1b6da"
            ],
            [
             0.4,
             "#fde0ef"
            ],
            [
             0.5,
             "#f7f7f7"
            ],
            [
             0.6,
             "#e6f5d0"
            ],
            [
             0.7,
             "#b8e186"
            ],
            [
             0.8,
             "#7fbc41"
            ],
            [
             0.9,
             "#4d9221"
            ],
            [
             1,
             "#276419"
            ]
           ],
           "sequential": [
            [
             0,
             "#0d0887"
            ],
            [
             0.1111111111111111,
             "#46039f"
            ],
            [
             0.2222222222222222,
             "#7201a8"
            ],
            [
             0.3333333333333333,
             "#9c179e"
            ],
            [
             0.4444444444444444,
             "#bd3786"
            ],
            [
             0.5555555555555556,
             "#d8576b"
            ],
            [
             0.6666666666666666,
             "#ed7953"
            ],
            [
             0.7777777777777778,
             "#fb9f3a"
            ],
            [
             0.8888888888888888,
             "#fdca26"
            ],
            [
             1,
             "#f0f921"
            ]
           ],
           "sequentialminus": [
            [
             0,
             "#0d0887"
            ],
            [
             0.1111111111111111,
             "#46039f"
            ],
            [
             0.2222222222222222,
             "#7201a8"
            ],
            [
             0.3333333333333333,
             "#9c179e"
            ],
            [
             0.4444444444444444,
             "#bd3786"
            ],
            [
             0.5555555555555556,
             "#d8576b"
            ],
            [
             0.6666666666666666,
             "#ed7953"
            ],
            [
             0.7777777777777778,
             "#fb9f3a"
            ],
            [
             0.8888888888888888,
             "#fdca26"
            ],
            [
             1,
             "#f0f921"
            ]
           ]
          },
          "colorway": [
           "#636efa",
           "#EF553B",
           "#00cc96",
           "#ab63fa",
           "#FFA15A",
           "#19d3f3",
           "#FF6692",
           "#B6E880",
           "#FF97FF",
           "#FECB52"
          ],
          "font": {
           "color": "#2a3f5f"
          },
          "geo": {
           "bgcolor": "white",
           "lakecolor": "white",
           "landcolor": "#E5ECF6",
           "showlakes": true,
           "showland": true,
           "subunitcolor": "white"
          },
          "hoverlabel": {
           "align": "left"
          },
          "hovermode": "closest",
          "mapbox": {
           "style": "light"
          },
          "paper_bgcolor": "white",
          "plot_bgcolor": "#E5ECF6",
          "polar": {
           "angularaxis": {
            "gridcolor": "white",
            "linecolor": "white",
            "ticks": ""
           },
           "bgcolor": "#E5ECF6",
           "radialaxis": {
            "gridcolor": "white",
            "linecolor": "white",
            "ticks": ""
           }
          },
          "scene": {
           "xaxis": {
            "backgroundcolor": "#E5ECF6",
            "gridcolor": "white",
            "gridwidth": 2,
            "linecolor": "white",
            "showbackground": true,
            "ticks": "",
            "zerolinecolor": "white"
           },
           "yaxis": {
            "backgroundcolor": "#E5ECF6",
            "gridcolor": "white",
            "gridwidth": 2,
            "linecolor": "white",
            "showbackground": true,
            "ticks": "",
            "zerolinecolor": "white"
           },
           "zaxis": {
            "backgroundcolor": "#E5ECF6",
            "gridcolor": "white",
            "gridwidth": 2,
            "linecolor": "white",
            "showbackground": true,
            "ticks": "",
            "zerolinecolor": "white"
           }
          },
          "shapedefaults": {
           "line": {
            "color": "#2a3f5f"
           }
          },
          "ternary": {
           "aaxis": {
            "gridcolor": "white",
            "linecolor": "white",
            "ticks": ""
           },
           "baxis": {
            "gridcolor": "white",
            "linecolor": "white",
            "ticks": ""
           },
           "bgcolor": "#E5ECF6",
           "caxis": {
            "gridcolor": "white",
            "linecolor": "white",
            "ticks": ""
           }
          },
          "title": {
           "x": 0.05
          },
          "xaxis": {
           "automargin": true,
           "gridcolor": "white",
           "linecolor": "white",
           "ticks": "",
           "title": {
            "standoff": 15
           },
           "zerolinecolor": "white",
           "zerolinewidth": 2
          },
          "yaxis": {
           "automargin": true,
           "gridcolor": "white",
           "linecolor": "white",
           "ticks": "",
           "title": {
            "standoff": 15
           },
           "zerolinecolor": "white",
           "zerolinewidth": 2
          }
         }
        },
        "title": {
         "text": "Número de sequenciamentos por País"
        }
       }
      },
      "image/png": "[encoded data removed]",
      "text/html": [
       "<div>                            <div id=\"f98b157c-dc1b-4969-bc2f-851ae4b60984\" class=\"plotly-graph-div\" style=\"height:525px; width:100%;\"></div>            <script type=\"text/javascript\">                require([\"plotly\"], function(Plotly) {                    window.PLOTLYENV=window.PLOTLYENV || {};                                    if (document.getElementById(\"f98b157c-dc1b-4969-bc2f-851ae4b60984\")) {                    Plotly.newPlot(                        \"f98b157c-dc1b-4969-bc2f-851ae4b60984\",                        [{\"coloraxis\":\"coloraxis\",\"geo\":\"geo\",\"hovertemplate\":\"<b>%{hovertext}</b><br><br>location=%{location}<br>num_sequences_total=%{z}<extra></extra>\",\"hovertext\":[\"United States\",\"United Kingdom\",\"Germany\",\"Denmark\",\"Canada\",\"Japan\",\"France\",\"Sweden\",\"Switzerland\",\"India\",\"Brazil\",\"Netherlands\",\"Italy\",\"Spain\",\"Turkey\",\"Belgium\",\"Australia\",\"Ireland\",\"Slovenia\",\"Mexico\",\"Poland\",\"Norway\",\"Israel\",\"South Africa\",\"Lithuania\",\"Portugal\",\"Finland\",\"South Korea\",\"Czechia\",\"Luxembourg\",\"Slovakia\",\"Chile\",\"Croatia\",\"Philippines\",\"Austria\",\"Peru\",\"Greece\",\"Russia\",\"Indonesia\",\"Singapore\",\"Colombia\",\"Bulgaria\",\"Thailand\",\"Romania\",\"Argentina\",\"Iceland\",\"Estonia\",\"Malaysia\",\"Latvia\",\"Kenya\",\"New Zealand\",\"Qatar\",\"Bangladesh\",\"Nigeria\",\"Ecuador\",\"Papua New Guinea\",\"Aruba\",\"Hong Kong\",\"United Arab Emirates\",\"Sri Lanka\",\"Ghana\",\"Bahrain\",\"Botswana\",\"Costa Rica\",\"Cambodia\",\"Vietnam\",\"Sint Maarten (Dutch part)\",\"Pakistan\",\"Guatemala\",\"Trinidad and Tobago\",\"Egypt\",\"Jordan\",\"Zambia\",\"Angola\",\"Lebanon\",\"Bosnia and Herzegovina\",\"Kosovo\",\"Curacao\",\"Suriname\",\"Mozambique\",\"Paraguay\",\"Maldives\",\"Gambia\",\"Georgia\",\"Malawi\",\"Uganda\",\"Madagascar\",\"Benin\",\"North Macedonia\",\"Senegal\",\"Rwanda\",\"Zimbabwe\",\"Uruguay\",\"Ukraine\",\"Malta\",\"Cyprus\",\"Dominican Republic\",\"Seychelles\",\"Cameroon\",\"Fiji\",\"Ethiopia\",\"Serbia\",\"Mauritius\",\"Liechtenstein\",\"Montenegro\",\"Oman\",\"Kazakhstan\",\"Morocco\",\"Iran\",\"Nepal\",\"Djibouti\",\"Jamaica\",\"Togo\",\"Brunei\",\"Kuwait\",\"Hungary\",\"Belize\",\"Iraq\",\"Moldova\",\"Mongolia\",\"Monaco\"],\"locationmode\":\"country names\",\"locations\":[\"United States\",\"United Kingdom\",\"Germany\",\"Denmark\",\"Canada\",\"Japan\",\"France\",\"Sweden\",\"Switzerland\",\"India\",\"Brazil\",\"Netherlands\",\"Italy\",\"Spain\",\"Turkey\",\"Belgium\",\"Australia\",\"Ireland\",\"Slovenia\",\"Mexico\",\"Poland\",\"Norway\",\"Israel\",\"South Africa\",\"Lithuania\",\"Portugal\",\"Finland\",\"South Korea\",\"Czechia\",\"Luxembourg\",\"Slovakia\",\"Chile\",\"Croatia\",\"Philippines\",\"Austria\",\"Peru\",\"Greece\",\"Russia\",\"Indonesia\",\"Singapore\",\"Colombia\",\"Bulgaria\",\"Thailand\",\"Romania\",\"Argentina\",\"Iceland\",\"Estonia\",\"Malaysia\",\"Latvia\",\"Kenya\",\"New Zealand\",\"Qatar\",\"Bangladesh\",\"Nigeria\",\"Ecuador\",\"Papua New Guinea\",\"Aruba\",\"Hong Kong\",\"United Arab Emirates\",\"Sri Lanka\",\"Ghana\",\"Bahrain\",\"Botswana\",\"Costa Rica\",\"Cambodia\",\"Vietnam\",\"Sint Maarten (Dutch part)\",\"Pakistan\",\"Guatemala\",\"Trinidad and Tobago\",\"Egypt\",\"Jordan\",\"Zambia\",\"Angola\",\"Lebanon\",\"Bosnia and Herzegovina\",\"Kosovo\",\"Curacao\",\"Suriname\",\"Mozambique\",\"Paraguay\",\"Maldives\",\"Gambia\",\"Georgia\",\"Malawi\",\"Uganda\",\"Madagascar\",\"Benin\",\"North Macedonia\",\"Senegal\",\"Rwanda\",\"Zimbabwe\",\"Uruguay\",\"Ukraine\",\"Malta\",\"Cyprus\",\"Dominican Republic\",\"Seychelles\",\"Cameroon\",\"Fiji\",\"Ethiopia\",\"Serbia\",\"Mauritius\",\"Liechtenstein\",\"Montenegro\",\"Oman\",\"Kazakhstan\",\"Morocco\",\"Iran\",\"Nepal\",\"Djibouti\",\"Jamaica\",\"Togo\",\"Brunei\",\"Kuwait\",\"Hungary\",\"Belize\",\"Iraq\",\"Moldova\",\"Mongolia\",\"Monaco\"],\"name\":\"\",\"type\":\"choropleth\",\"z\":[49960248,37427568,7851432,6728880,4365240,4268136,3602784,3308496,2392008,2184672,2160480,1985928,1910832,1877736,1844592,1800648,1132776,1090272,1048224,1027992,945216,903792,863928,623664,609192,549408,536640,499152,488688,455256,423552,418440,325656,305712,301920,293040,292896,276936,273864,247752,246840,245616,216432,205584,201864,198576,193008,173808,150960,127128,114216,97128,88800,88176,84552,80784,72000,60456,59760,56496,56232,53808,52800,51672,47472,43320,43152,37728,34776,34464,32040,28536,26808,25320,24216,23808,23760,23472,22344,22248,21096,20760,20712,20160,19464,19080,18528,18000,17712,16680,16536,16464,16368,14736,14472,14160,13560,13032,12864,12600,12528,11448,11232,11064,10728,10704,10296,9600,8856,8832,8808,8784,8112,7944,7872,7824,7536,4008,3648,3600,2016]}],                        {\"coloraxis\":{\"cmax\":1000000,\"cmin\":1,\"colorbar\":{\"title\":{\"text\":\"num_sequences_total\"}},\"colorscale\":[[0.0,\"rgb(127,0,0)\"],[0.125,\"rgb(179,0,0)\"],[0.25,\"rgb(215,48,31)\"],[0.375,\"rgb(239,101,72)\"],[0.5,\"rgb(252,141,89)\"],[0.625,\"rgb(253,187,132)\"],[0.75,\"rgb(253,212,158)\"],[0.875,\"rgb(254,232,200)\"],[1.0,\"rgb(255,247,236)\"]]},\"geo\":{\"center\":{},\"domain\":{\"x\":[0.0,1.0],\"y\":[0.0,1.0]},\"scope\":\"south america\"},\"legend\":{\"tracegroupgap\":0},\"margin\":{\"b\":30,\"l\":10,\"r\":10,\"t\":30},\"template\":{\"data\":{\"bar\":[{\"error_x\":{\"color\":\"#2a3f5f\"},\"error_y\":{\"color\":\"#2a3f5f\"},\"marker\":{\"line\":{\"color\":\"#E5ECF6\",\"width\":0.5},\"pattern\":{\"fillmode\":\"overlay\",\"size\":10,\"solidity\":0.2}},\"type\":\"bar\"}],\"barpolar\":[{\"marker\":{\"line\":{\"color\":\"#E5ECF6\",\"width\":0.5},\"pattern\":{\"fillmode\":\"overlay\",\"size\":10,\"solidity\":0.2}},\"type\":\"barpolar\"}],\"carpet\":[{\"aaxis\":{\"endlinecolor\":\"#2a3f5f\",\"gridcolor\":\"white\",\"linecolor\":\"white\",\"minorgridcolor\":\"white\",\"startlinecolor\":\"#2a3f5f\"},\"baxis\":{\"endlinecolor\":\"#2a3f5f\",\"gridcolor\":\"white\",\"linecolor\":\"white\",\"minorgridcolor\":\"white\",\"startlinecolor\":\"#2a3f5f\"},\"type\":\"carpet\"}],\"choropleth\":[{\"colorbar\":{\"outlinewidth\":0,\"ticks\":\"\"},\"type\":\"choropleth\"}],\"contour\":[{\"colorbar\":{\"outlinewidth\":0,\"ticks\":\"\"},\"colorscale\":[[0.0,\"#0d0887\"],[0.1111111111111111,\"#46039f\"],[0.2222222222222222,\"#7201a8\"],[0.3333333333333333,\"#9c179e\"],[0.4444444444444444,\"#bd3786\"],[0.5555555555555556,\"#d8576b\"],[0.6666666666666666,\"#ed7953\"],[0.7777777777777778,\"#fb9f3a\"],[0.8888888888888888,\"#fdca26\"],[1.0,\"#f0f921\"]],\"type\":\"contour\"}],\"contourcarpet\":[{\"colorbar\":{\"outlinewidth\":0,\"ticks\":\"\"},\"type\":\"contourcarpet\"}],\"heatmap\":[{\"colorbar\":{\"outlinewidth\":0,\"ticks\":\"\"},\"colorscale\":[[0.0,\"#0d0887\"],[0.1111111111111111,\"#46039f\"],[0.2222222222222222,\"#7201a8\"],[0.3333333333333333,\"#9c179e\"],[0.4444444444444444,\"#bd3786\"],[0.5555555555555556,\"#d8576b\"],[0.6666666666666666,\"#ed7953\"],[0.7777777777777778,\"#fb9f3a\"],[0.8888888888888888,\"#fdca26\"],[1.0,\"#f0f921\"]],\"type\":\"heatmap\"}],\"heatmapgl\":[{\"colorbar\":{\"outlinewidth\":0,\"ticks\":\"\"},\"colorscale\":[[0.0,\"#0d0887\"],[0.1111111111111111,\"#46039f\"],[0.2222222222222222,\"#7201a8\"],[0.3333333333333333,\"#9c179e\"],[0.4444444444444444,\"#bd3786\"],[0.5555555555555556,\"#d8576b\"],[0.6666666666666666,\"#ed7953\"],[0.7777777777777778,\"#fb9f3a\"],[0.8888888888888888,\"#fdca26\"],[1.0,\"#f0f921\"]],\"type\":\"heatmapgl\"}],\"histogram\":[{\"marker\":{\"pattern\":{\"fillmode\":\"overlay\",\"size\":10,\"solidity\":0.2}},\"type\":\"histogram\"}],\"histogram2d\":[{\"colorbar\":{\"outlinewidth\":0,\"ticks\":\"\"},\"colorscale\":[[0.0,\"#0d0887\"],[0.1111111111111111,\"#46039f\"],[0.2222222222222222,\"#7201a8\"],[0.3333333333333333,\"#9c179e\"],[0.4444444444444444,\"#bd3786\"],[0.5555555555555556,\"#d8576b\"],[0.6666666666666666,\"#ed7953\"],[0.7777777777777778,\"#fb9f3a\"],[0.8888888888888888,\"#fdca26\"],[1.0,\"#f0f921\"]],\"type\":\"histogram2d\"}],\"histogram2dcontour\":[{\"colorbar\":{\"outlinewidth\":0,\"ticks\":\"\"},\"colorscale\":[[0.0,\"#0d0887\"],[0.1111111111111111,\"#46039f\"],[0.2222222222222222,\"#7201a8\"],[0.3333333333333333,\"#9c179e\"],[0.4444444444444444,\"#bd3786\"],[0.5555555555555556,\"#d8576b\"],[0.6666666666666666,\"#ed7953\"],[0.7777777777777778,\"#fb9f3a\"],[0.8888888888888888,\"#fdca26\"],[1.0,\"#f0f921\"]],\"type\":\"histogram2dcontour\"}],\"mesh3d\":[{\"colorbar\":{\"outlinewidth\":0,\"ticks\":\"\"},\"type\":\"mesh3d\"}],\"parcoords\":[{\"line\":{\"colorbar\":{\"outlinewidth\":0,\"ticks\":\"\"}},\"type\":\"parcoords\"}],\"pie\":[{\"automargin\":true,\"type\":\"pie\"}],\"scatter\":[{\"marker\":{\"colorbar\":{\"outlinewidth\":0,\"ticks\":\"\"}},\"type\":\"scatter\"}],\"scatter3d\":[{\"line\":{\"colorbar\":{\"outlinewidth\":0,\"ticks\":\"\"}},\"marker\":{\"colorbar\":{\"outlinewidth\":0,\"ticks\":\"\"}},\"type\":\"scatter3d\"}],\"scattercarpet\":[{\"marker\":{\"colorbar\":{\"outlinewidth\":0,\"ticks\":\"\"}},\"type\":\"scattercarpet\"}],\"scattergeo\":[{\"marker\":{\"colorbar\":{\"outlinewidth\":0,\"ticks\":\"\"}},\"type\":\"scattergeo\"}],\"scattergl\":[{\"marker\":{\"colorbar\":{\"outlinewidth\":0,\"ticks\":\"\"}},\"type\":\"scattergl\"}],\"scattermapbox\":[{\"marker\":{\"colorbar\":{\"outlinewidth\":0,\"ticks\":\"\"}},\"type\":\"scattermapbox\"}],\"scatterpolar\":[{\"marker\":{\"colorbar\":{\"outlinewidth\":0,\"ticks\":\"\"}},\"type\":\"scatterpolar\"}],\"scatterpolargl\":[{\"marker\":{\"colorbar\":{\"outlinewidth\":0,\"ticks\":\"\"}},\"type\":\"scatterpolargl\"}],\"scatterternary\":[{\"marker\":{\"colorbar\":{\"outlinewidth\":0,\"ticks\":\"\"}},\"type\":\"scatterternary\"}],\"surface\":[{\"colorbar\":{\"outlinewidth\":0,\"ticks\":\"\"},\"colorscale\":[[0.0,\"#0d0887\"],[0.1111111111111111,\"#46039f\"],[0.2222222222222222,\"#7201a8\"],[0.3333333333333333,\"#9c179e\"],[0.4444444444444444,\"#bd3786\"],[0.5555555555555556,\"#d8576b\"],[0.6666666666666666,\"#ed7953\"],[0.7777777777777778,\"#fb9f3a\"],[0.8888888888888888,\"#fdca26\"],[1.0,\"#f0f921\"]],\"type\":\"surface\"}],\"table\":[{\"cells\":{\"fill\":{\"color\":\"#EBF0F8\"},\"line\":{\"color\":\"white\"}},\"header\":{\"fill\":{\"color\":\"#C8D4E3\"},\"line\":{\"color\":\"white\"}},\"type\":\"table\"}]},\"layout\":{\"annotationdefaults\":{\"arrowcolor\":\"#2a3f5f\",\"arrowhead\":0,\"arrowwidth\":1},\"autotypenumbers\":\"strict\",\"coloraxis\":{\"colorbar\":{\"outlinewidth\":0,\"ticks\":\"\"}},\"colorscale\":{\"diverging\":[[0,\"#8e0152\"],[0.1,\"#c51b7d\"],[0.2,\"#de77ae\"],[0.3,\"#f1b6da\"],[0.4,\"#fde0ef\"],[0.5,\"#f7f7f7\"],[0.6,\"#e6f5d0\"],[0.7,\"#b8e186\"],[0.8,\"#7fbc41\"],[0.9,\"#4d9221\"],[1,\"#276419\"]],\"sequential\":[[0.0,\"#0d0887\"],[0.1111111111111111,\"#46039f\"],[0.2222222222222222,\"#7201a8\"],[0.3333333333333333,\"#9c179e\"],[0.4444444444444444,\"#bd3786\"],[0.5555555555555556,\"#d8576b\"],[0.6666666666666666,\"#ed7953\"],[0.7777777777777778,\"#fb9f3a\"],[0.8888888888888888,\"#fdca26\"],[1.0,\"#f0f921\"]],\"sequentialminus\":[[0.0,\"#0d0887\"],[0.1111111111111111,\"#46039f\"],[0.2222222222222222,\"#7201a8\"],[0.3333333333333333,\"#9c179e\"],[0.4444444444444444,\"#bd3786\"],[0.5555555555555556,\"#d8576b\"],[0.6666666666666666,\"#ed7953\"],[0.7777777777777778,\"#fb9f3a\"],[0.8888888888888888,\"#fdca26\"],[1.0,\"#f0f921\"]]},\"colorway\":[\"#636efa\",\"#EF553B\",\"#00cc96\",\"#ab63fa\",\"#FFA15A\",\"#19d3f3\",\"#FF6692\",\"#B6E880\",\"#FF97FF\",\"#FECB52\"],\"font\":{\"color\":\"#2a3f5f\"},\"geo\":{\"bgcolor\":\"white\",\"lakecolor\":\"white\",\"landcolor\":\"#E5ECF6\",\"showlakes\":true,\"showland\":true,\"subunitcolor\":\"white\"},\"hoverlabel\":{\"align\":\"left\"},\"hovermode\":\"closest\",\"mapbox\":{\"style\":\"light\"},\"paper_bgcolor\":\"white\",\"plot_bgcolor\":\"#E5ECF6\",\"polar\":{\"angularaxis\":{\"gridcolor\":\"white\",\"linecolor\":\"white\",\"ticks\":\"\"},\"bgcolor\":\"#E5ECF6\",\"radialaxis\":{\"gridcolor\":\"white\",\"linecolor\":\"white\",\"ticks\":\"\"}},\"scene\":{\"xaxis\":{\"backgroundcolor\":\"#E5ECF6\",\"gridcolor\":\"white\",\"gridwidth\":2,\"linecolor\":\"white\",\"showbackground\":true,\"ticks\":\"\",\"zerolinecolor\":\"white\"},\"yaxis\":{\"backgroundcolor\":\"#E5ECF6\",\"gridcolor\":\"white\",\"gridwidth\":2,\"linecolor\":\"white\",\"showbackground\":true,\"ticks\":\"\",\"zerolinecolor\":\"white\"},\"zaxis\":{\"backgroundcolor\":\"#E5ECF6\",\"gridcolor\":\"white\",\"gridwidth\":2,\"linecolor\":\"white\",\"showbackground\":true,\"ticks\":\"\",\"zerolinecolor\":\"white\"}},\"shapedefaults\":{\"line\":{\"color\":\"#2a3f5f\"}},\"ternary\":{\"aaxis\":{\"gridcolor\":\"white\",\"linecolor\":\"white\",\"ticks\":\"\"},\"baxis\":{\"gridcolor\":\"white\",\"linecolor\":\"white\",\"ticks\":\"\"},\"bgcolor\":\"#E5ECF6\",\"caxis\":{\"gridcolor\":\"white\",\"linecolor\":\"white\",\"ticks\":\"\"}},\"title\":{\"x\":0.05},\"xaxis\":{\"automargin\":true,\"gridcolor\":\"white\",\"linecolor\":\"white\",\"ticks\":\"\",\"title\":{\"standoff\":15},\"zerolinecolor\":\"white\",\"zerolinewidth\":2},\"yaxis\":{\"automargin\":true,\"gridcolor\":\"white\",\"linecolor\":\"white\",\"ticks\":\"\",\"title\":{\"standoff\":15},\"zerolinecolor\":\"white\",\"zerolinewidth\":2}}},\"title\":{\"text\":\"N\\u00famero de sequenciamentos por Pa\\u00eds\"}},                        {\"responsive\": true}                    ).then(function(){\n",
       "                            \n",
       "var gd = document.getElementById('f98b157c-dc1b-4969-bc2f-851ae4b60984');\n",
       "var x = new MutationObserver(function (mutations, observer) {{\n",
       "        var display = window.getComputedStyle(gd).display;\n",
       "        if (!display || display === 'none') {{\n",
       "            console.log([gd, 'removed!']);\n",
       "            Plotly.purge(gd);\n",
       "            observer.disconnect();\n",
       "        }}\n",
       "}});\n",
       "\n",
       "// Listen for the removal of the full notebook cells\n",
       "var notebookContainer = gd.closest('#notebook-container');\n",
       "if (notebookContainer) {{\n",
       "    x.observe(notebookContainer, {childList: true});\n",
       "}}\n",
       "\n",
       "// Listen for the clearing of the current output cell\n",
       "var outputEl = gd.closest('.output');\n",
       "if (outputEl) {{\n",
       "    x.observe(outputEl, {childList: true});\n",
       "}}\n",
       "\n",
       "                        })                };                });            </script>        </div>"
      ]
     },
     "metadata": {},
     "output_type": "display_data"
    }
   ],
   "source": [
    "figure = px.choropleth(paises,locations='location', locationmode= 'country names', color= 'num_sequences_total', \n",
    "                       hover_name='location', color_continuous_scale='OrRd_r', \n",
    "                       range_color=[1,1000000],title='Número de sequenciamentos por País',scope=\"south america\")\n",
    "figure.update_layout(margin=dict(l=10, r=10, t=30, b=30))\n",
    "figure.show()"
   ]
  },
  {
   "cell_type": "markdown",
   "id": "9552c42a-3fee-4699-9af0-ce0d935984a2",
   "metadata": {},
   "source": [
    "### 10 variantes com maior número de sequenciamentos processados"
   ]
  },
  {
   "cell_type": "code",
   "execution_count": 477,
   "id": "acd89093-7a13-4b73-96a6-10cef2986968",
   "metadata": {},
   "outputs": [
    {
     "data": {
      "text/plain": [
       "<AxesSubplot:xlabel='variant', ylabel='num_sequences'>"
      ]
     },
     "execution_count": 477,
     "metadata": {},
     "output_type": "execute_result"
    },
    {
     "data": {
      "image/png": "[encoded data removed]",
      "text/plain": [
       "<Figure size 770.4x595.44 with 1 Axes>"
      ]
     },
     "metadata": {},
     "output_type": "display_data"
    }
   ],
   "source": [
    "sns.set(rc={'figure.figsize':(10.7,8.27)})\n",
    "plt.xlim(0, 10000000)\n",
    "sns.barplot(x='variant', y=\"num_sequences\",order=df1['variant'][:10] ,data=df1, palette=\"OrRd_r\")"
   ]
  },
  {
   "cell_type": "markdown",
   "id": "e135a1df-4bea-41a0-b560-30c45f88ea7d",
   "metadata": {},
   "source": [
    "### Total de sequenciamentos de Jul/2020 até Jan/2022"
   ]
  },
  {
   "cell_type": "code",
   "execution_count": 547,
   "id": "40258114-469f-414c-b2b2-243ccd6109b9",
   "metadata": {},
   "outputs": [
    {
     "data": {
      "application/vnd.plotly.v1+json": {
       "config": {
        "plotlyServerURL": "https://plot.ly"
       },
       "data": [
        {
         "alignmentgroup": "True",
         "hovertemplate": "variant=Delta<br>date=%{x}<br>num_sequences_total=%{y}<extra></extra>",
         "legendgroup": "Delta",
         "marker": {
          "color": "#636efa",
          "pattern": {
           "shape": ""
          }
         },
         "name": "Delta",
         "offsetgroup": "Delta",
         "orientation": "v",
         "showlegend": true,
         "textposition": "auto",
         "type": "bar",
         "x": [
          "2021-08-23T00:00:00",
          "2021-09-06T00:00:00",
          "2021-12-13T00:00:00",
          "2021-08-09T00:00:00",
          "2021-11-15T00:00:00",
          "2021-11-29T00:00:00",
          "2021-09-20T00:00:00",
          "2021-11-01T00:00:00",
          "2021-10-04T00:00:00",
          "2021-10-18T00:00:00",
          "2021-07-26T00:00:00",
          "2021-04-19T00:00:00",
          "2021-04-05T00:00:00",
          "2021-05-03T00:00:00",
          "2021-03-22T00:00:00",
          "2021-12-27T00:00:00",
          "2021-05-17T00:00:00",
          "2021-07-12T00:00:00",
          "2021-03-08T00:00:00",
          "2021-05-31T00:00:00",
          "2021-02-22T00:00:00",
          "2021-02-08T00:00:00",
          "2021-06-14T00:00:00",
          "2021-06-28T00:00:00",
          "2021-01-25T00:00:00",
          "2021-01-04T00:00:00",
          "2020-12-21T00:00:00",
          "2021-01-11T00:00:00",
          "2020-11-23T00:00:00",
          "2020-11-09T00:00:00",
          "2020-12-07T00:00:00",
          "2020-10-26T00:00:00",
          "2020-10-12T00:00:00",
          "2020-09-28T00:00:00",
          "2020-08-03T00:00:00",
          "2020-08-17T00:00:00",
          "2020-07-20T00:00:00",
          "2020-09-14T00:00:00",
          "2020-08-31T00:00:00",
          "2020-05-11T00:00:00",
          "2020-06-22T00:00:00",
          "2020-07-06T00:00:00",
          "2020-05-25T00:00:00",
          "2020-06-08T00:00:00",
          "2022-01-05T00:00:00"
         ],
         "xaxis": "x",
         "y": [
          374670,
          363281,
          351966,
          344500,
          333778,
          331383,
          327337,
          302444,
          280557,
          277844,
          243216,
          205153,
          199741,
          197254,
          187185,
          173286,
          169011,
          168725,
          150683,
          135508,
          133425,
          123716,
          123104,
          121436,
          116398,
          71324,
          70619,
          52251,
          47808,
          46202,
          42410,
          35456,
          27133,
          23133,
          19535,
          18471,
          18421,
          18154,
          17673,
          16436,
          16160,
          15764,
          12903,
          9660,
          979
         ],
         "yaxis": "y"
        },
        {
         "alignmentgroup": "True",
         "hovertemplate": "variant=Beta<br>date=%{x}<br>num_sequences_total=%{y}<extra></extra>",
         "legendgroup": "Beta",
         "marker": {
          "color": "#EF553B",
          "pattern": {
           "shape": ""
          }
         },
         "name": "Beta",
         "offsetgroup": "Beta",
         "orientation": "v",
         "showlegend": true,
         "textposition": "auto",
         "type": "bar",
         "x": [
          "2021-08-23T00:00:00",
          "2021-09-06T00:00:00",
          "2021-12-13T00:00:00",
          "2021-08-09T00:00:00",
          "2021-11-15T00:00:00",
          "2021-11-29T00:00:00",
          "2021-09-20T00:00:00",
          "2021-11-01T00:00:00",
          "2021-10-04T00:00:00",
          "2021-10-18T00:00:00",
          "2021-07-26T00:00:00",
          "2021-04-19T00:00:00",
          "2021-04-05T00:00:00",
          "2021-05-03T00:00:00",
          "2021-03-22T00:00:00",
          "2021-12-27T00:00:00",
          "2021-05-17T00:00:00",
          "2021-07-12T00:00:00",
          "2021-03-08T00:00:00",
          "2021-05-31T00:00:00",
          "2021-02-22T00:00:00",
          "2021-02-08T00:00:00",
          "2021-06-14T00:00:00",
          "2021-06-28T00:00:00",
          "2021-01-25T00:00:00",
          "2021-01-04T00:00:00",
          "2020-12-21T00:00:00",
          "2021-01-11T00:00:00",
          "2020-11-23T00:00:00",
          "2020-11-09T00:00:00",
          "2020-12-07T00:00:00",
          "2020-10-26T00:00:00",
          "2020-10-12T00:00:00",
          "2020-09-28T00:00:00",
          "2020-08-03T00:00:00",
          "2020-08-17T00:00:00",
          "2020-07-20T00:00:00",
          "2020-09-14T00:00:00",
          "2020-08-31T00:00:00",
          "2020-05-11T00:00:00",
          "2020-06-22T00:00:00",
          "2020-07-06T00:00:00",
          "2020-05-25T00:00:00",
          "2020-06-08T00:00:00",
          "2022-01-05T00:00:00"
         ],
         "xaxis": "x",
         "y": [
          374670,
          363281,
          351966,
          344500,
          333778,
          331383,
          327337,
          302444,
          280557,
          277844,
          243216,
          205153,
          199741,
          197254,
          187185,
          173286,
          169011,
          168725,
          150683,
          135508,
          133425,
          123716,
          123104,
          121436,
          116398,
          71324,
          70619,
          52251,
          47808,
          46202,
          42410,
          35456,
          27133,
          23133,
          19535,
          18471,
          18421,
          18154,
          17673,
          16436,
          16160,
          15764,
          12903,
          9660,
          979
         ],
         "yaxis": "y"
        },
        {
         "alignmentgroup": "True",
         "hovertemplate": "variant=B.1.1.277<br>date=%{x}<br>num_sequences_total=%{y}<extra></extra>",
         "legendgroup": "B.1.1.277",
         "marker": {
          "color": "#00cc96",
          "pattern": {
           "shape": ""
          }
         },
         "name": "B.1.1.277",
         "offsetgroup": "B.1.1.277",
         "orientation": "v",
         "showlegend": true,
         "textposition": "auto",
         "type": "bar",
         "x": [
          "2021-08-23T00:00:00",
          "2021-09-06T00:00:00",
          "2021-12-13T00:00:00",
          "2021-08-09T00:00:00",
          "2021-11-15T00:00:00",
          "2021-11-29T00:00:00",
          "2021-09-20T00:00:00",
          "2021-11-01T00:00:00",
          "2021-10-04T00:00:00",
          "2021-10-18T00:00:00",
          "2021-07-26T00:00:00",
          "2021-04-19T00:00:00",
          "2021-04-05T00:00:00",
          "2021-05-03T00:00:00",
          "2021-03-22T00:00:00",
          "2021-12-27T00:00:00",
          "2021-05-17T00:00:00",
          "2021-07-12T00:00:00",
          "2021-03-08T00:00:00",
          "2021-05-31T00:00:00",
          "2021-02-22T00:00:00",
          "2021-02-08T00:00:00",
          "2021-06-14T00:00:00",
          "2021-06-28T00:00:00",
          "2021-01-25T00:00:00",
          "2021-01-04T00:00:00",
          "2020-12-21T00:00:00",
          "2021-01-11T00:00:00",
          "2020-11-23T00:00:00",
          "2020-11-09T00:00:00",
          "2020-12-07T00:00:00",
          "2020-10-26T00:00:00",
          "2020-10-12T00:00:00",
          "2020-09-28T00:00:00",
          "2020-08-03T00:00:00",
          "2020-08-17T00:00:00",
          "2020-07-20T00:00:00",
          "2020-09-14T00:00:00",
          "2020-08-31T00:00:00",
          "2020-05-11T00:00:00",
          "2020-06-22T00:00:00",
          "2020-07-06T00:00:00",
          "2020-05-25T00:00:00",
          "2020-06-08T00:00:00",
          "2022-01-05T00:00:00"
         ],
         "xaxis": "x",
         "y": [
          374670,
          363281,
          351966,
          344500,
          333778,
          331383,
          327337,
          302444,
          280557,
          277844,
          243216,
          205153,
          199741,
          197254,
          187185,
          173286,
          169011,
          168725,
          150683,
          135508,
          133425,
          123716,
          123104,
          121436,
          116398,
          71324,
          70619,
          52251,
          47808,
          46202,
          42410,
          35456,
          27133,
          23133,
          19535,
          18471,
          18421,
          18154,
          17673,
          16436,
          16160,
          15764,
          12903,
          9660,
          979
         ],
         "yaxis": "y"
        },
        {
         "alignmentgroup": "True",
         "hovertemplate": "variant=B.1.1.302<br>date=%{x}<br>num_sequences_total=%{y}<extra></extra>",
         "legendgroup": "B.1.1.302",
         "marker": {
          "color": "#ab63fa",
          "pattern": {
           "shape": ""
          }
         },
         "name": "B.1.1.302",
         "offsetgroup": "B.1.1.302",
         "orientation": "v",
         "showlegend": true,
         "textposition": "auto",
         "type": "bar",
         "x": [
          "2021-08-23T00:00:00",
          "2021-09-06T00:00:00",
          "2021-12-13T00:00:00",
          "2021-08-09T00:00:00",
          "2021-11-15T00:00:00",
          "2021-11-29T00:00:00",
          "2021-09-20T00:00:00",
          "2021-11-01T00:00:00",
          "2021-10-04T00:00:00",
          "2021-10-18T00:00:00",
          "2021-07-26T00:00:00",
          "2021-04-19T00:00:00",
          "2021-04-05T00:00:00",
          "2021-05-03T00:00:00",
          "2021-03-22T00:00:00",
          "2021-12-27T00:00:00",
          "2021-05-17T00:00:00",
          "2021-07-12T00:00:00",
          "2021-03-08T00:00:00",
          "2021-05-31T00:00:00",
          "2021-02-22T00:00:00",
          "2021-02-08T00:00:00",
          "2021-06-14T00:00:00",
          "2021-06-28T00:00:00",
          "2021-01-25T00:00:00",
          "2021-01-04T00:00:00",
          "2020-12-21T00:00:00",
          "2021-01-11T00:00:00",
          "2020-11-23T00:00:00",
          "2020-11-09T00:00:00",
          "2020-12-07T00:00:00",
          "2020-10-26T00:00:00",
          "2020-10-12T00:00:00",
          "2020-09-28T00:00:00",
          "2020-08-03T00:00:00",
          "2020-08-17T00:00:00",
          "2020-07-20T00:00:00",
          "2020-09-14T00:00:00",
          "2020-08-31T00:00:00",
          "2020-05-11T00:00:00",
          "2020-06-22T00:00:00",
          "2020-07-06T00:00:00",
          "2020-05-25T00:00:00",
          "2020-06-08T00:00:00",
          "2022-01-05T00:00:00"
         ],
         "xaxis": "x",
         "y": [
          374670,
          363281,
          351966,
          344500,
          333778,
          331383,
          327337,
          302444,
          280557,
          277844,
          243216,
          205153,
          199741,
          197254,
          187185,
          173286,
          169011,
          168725,
          150683,
          135508,
          133425,
          123716,
          123104,
          121436,
          116398,
          71324,
          70619,
          52251,
          47808,
          46202,
          42410,
          35456,
          27133,
          23133,
          19535,
          18471,
          18421,
          18154,
          17673,
          16436,
          16160,
          15764,
          12903,
          9660,
          979
         ],
         "yaxis": "y"
        },
        {
         "alignmentgroup": "True",
         "hovertemplate": "variant=B.1.1.519<br>date=%{x}<br>num_sequences_total=%{y}<extra></extra>",
         "legendgroup": "B.1.1.519",
         "marker": {
          "color": "#FFA15A",
          "pattern": {
           "shape": ""
          }
         },
         "name": "B.1.1.519",
         "offsetgroup": "B.1.1.519",
         "orientation": "v",
         "showlegend": true,
         "textposition": "auto",
         "type": "bar",
         "x": [
          "2021-08-23T00:00:00",
          "2021-09-06T00:00:00",
          "2021-12-13T00:00:00",
          "2021-08-09T00:00:00",
          "2021-11-15T00:00:00",
          "2021-11-29T00:00:00",
          "2021-09-20T00:00:00",
          "2021-11-01T00:00:00",
          "2021-10-04T00:00:00",
          "2021-10-18T00:00:00",
          "2021-07-26T00:00:00",
          "2021-04-19T00:00:00",
          "2021-04-05T00:00:00",
          "2021-05-03T00:00:00",
          "2021-03-22T00:00:00",
          "2021-12-27T00:00:00",
          "2021-05-17T00:00:00",
          "2021-07-12T00:00:00",
          "2021-03-08T00:00:00",
          "2021-05-31T00:00:00",
          "2021-02-22T00:00:00",
          "2021-02-08T00:00:00",
          "2021-06-14T00:00:00",
          "2021-06-28T00:00:00",
          "2021-01-25T00:00:00",
          "2021-01-04T00:00:00",
          "2020-12-21T00:00:00",
          "2021-01-11T00:00:00",
          "2020-11-23T00:00:00",
          "2020-11-09T00:00:00",
          "2020-12-07T00:00:00",
          "2020-10-26T00:00:00",
          "2020-10-12T00:00:00",
          "2020-09-28T00:00:00",
          "2020-08-03T00:00:00",
          "2020-08-17T00:00:00",
          "2020-07-20T00:00:00",
          "2020-09-14T00:00:00",
          "2020-08-31T00:00:00",
          "2020-05-11T00:00:00",
          "2020-06-22T00:00:00",
          "2020-07-06T00:00:00",
          "2020-05-25T00:00:00",
          "2020-06-08T00:00:00",
          "2022-01-05T00:00:00"
         ],
         "xaxis": "x",
         "y": [
          374670,
          363281,
          351966,
          344500,
          333778,
          331383,
          327337,
          302444,
          280557,
          277844,
          243216,
          205153,
          199741,
          197254,
          187185,
          173286,
          169011,
          168725,
          150683,
          135508,
          133425,
          123716,
          123104,
          121436,
          116398,
          71324,
          70619,
          52251,
          47808,
          46202,
          42410,
          35456,
          27133,
          23133,
          19535,
          18471,
          18421,
          18154,
          17673,
          16436,
          16160,
          15764,
          12903,
          9660,
          979
         ],
         "yaxis": "y"
        },
        {
         "alignmentgroup": "True",
         "hovertemplate": "variant=B.1.160<br>date=%{x}<br>num_sequences_total=%{y}<extra></extra>",
         "legendgroup": "B.1.160",
         "marker": {
          "color": "#19d3f3",
          "pattern": {
           "shape": ""
          }
         },
         "name": "B.1.160",
         "offsetgroup": "B.1.160",
         "orientation": "v",
         "showlegend": true,
         "textposition": "auto",
         "type": "bar",
         "x": [
          "2021-08-23T00:00:00",
          "2021-09-06T00:00:00",
          "2021-12-13T00:00:00",
          "2021-08-09T00:00:00",
          "2021-11-15T00:00:00",
          "2021-11-29T00:00:00",
          "2021-09-20T00:00:00",
          "2021-11-01T00:00:00",
          "2021-10-04T00:00:00",
          "2021-10-18T00:00:00",
          "2021-07-26T00:00:00",
          "2021-04-19T00:00:00",
          "2021-04-05T00:00:00",
          "2021-05-03T00:00:00",
          "2021-03-22T00:00:00",
          "2021-12-27T00:00:00",
          "2021-05-17T00:00:00",
          "2021-07-12T00:00:00",
          "2021-03-08T00:00:00",
          "2021-05-31T00:00:00",
          "2021-02-22T00:00:00",
          "2021-02-08T00:00:00",
          "2021-06-14T00:00:00",
          "2021-06-28T00:00:00",
          "2021-01-25T00:00:00",
          "2021-01-04T00:00:00",
          "2020-12-21T00:00:00",
          "2021-01-11T00:00:00",
          "2020-11-23T00:00:00",
          "2020-11-09T00:00:00",
          "2020-12-07T00:00:00",
          "2020-10-26T00:00:00",
          "2020-10-12T00:00:00",
          "2020-09-28T00:00:00",
          "2020-08-03T00:00:00",
          "2020-08-17T00:00:00",
          "2020-07-20T00:00:00",
          "2020-09-14T00:00:00",
          "2020-08-31T00:00:00",
          "2020-05-11T00:00:00",
          "2020-06-22T00:00:00",
          "2020-07-06T00:00:00",
          "2020-05-25T00:00:00",
          "2020-06-08T00:00:00",
          "2022-01-05T00:00:00"
         ],
         "xaxis": "x",
         "y": [
          374670,
          363281,
          351966,
          344500,
          333778,
          331383,
          327337,
          302444,
          280557,
          277844,
          243216,
          205153,
          199741,
          197254,
          187185,
          173286,
          169011,
          168725,
          150683,
          135508,
          133425,
          123716,
          123104,
          121436,
          116398,
          71324,
          70619,
          52251,
          47808,
          46202,
          42410,
          35456,
          27133,
          23133,
          19535,
          18471,
          18421,
          18154,
          17673,
          16436,
          16160,
          15764,
          12903,
          9660,
          979
         ],
         "yaxis": "y"
        },
        {
         "alignmentgroup": "True",
         "hovertemplate": "variant=B.1.177<br>date=%{x}<br>num_sequences_total=%{y}<extra></extra>",
         "legendgroup": "B.1.177",
         "marker": {
          "color": "#FF6692",
          "pattern": {
           "shape": ""
          }
         },
         "name": "B.1.177",
         "offsetgroup": "B.1.177",
         "orientation": "v",
         "showlegend": true,
         "textposition": "auto",
         "type": "bar",
         "x": [
          "2021-08-23T00:00:00",
          "2021-09-06T00:00:00",
          "2021-12-13T00:00:00",
          "2021-08-09T00:00:00",
          "2021-11-15T00:00:00",
          "2021-11-29T00:00:00",
          "2021-09-20T00:00:00",
          "2021-11-01T00:00:00",
          "2021-10-04T00:00:00",
          "2021-10-18T00:00:00",
          "2021-07-26T00:00:00",
          "2021-04-19T00:00:00",
          "2021-04-05T00:00:00",
          "2021-05-03T00:00:00",
          "2021-03-22T00:00:00",
          "2021-12-27T00:00:00",
          "2021-05-17T00:00:00",
          "2021-07-12T00:00:00",
          "2021-03-08T00:00:00",
          "2021-05-31T00:00:00",
          "2021-02-22T00:00:00",
          "2021-02-08T00:00:00",
          "2021-06-14T00:00:00",
          "2021-06-28T00:00:00",
          "2021-01-25T00:00:00",
          "2021-01-04T00:00:00",
          "2020-12-21T00:00:00",
          "2021-01-11T00:00:00",
          "2020-11-23T00:00:00",
          "2020-11-09T00:00:00",
          "2020-12-07T00:00:00",
          "2020-10-26T00:00:00",
          "2020-10-12T00:00:00",
          "2020-09-28T00:00:00",
          "2020-08-03T00:00:00",
          "2020-08-17T00:00:00",
          "2020-07-20T00:00:00",
          "2020-09-14T00:00:00",
          "2020-08-31T00:00:00",
          "2020-05-11T00:00:00",
          "2020-06-22T00:00:00",
          "2020-07-06T00:00:00",
          "2020-05-25T00:00:00",
          "2020-06-08T00:00:00",
          "2022-01-05T00:00:00"
         ],
         "xaxis": "x",
         "y": [
          374670,
          363281,
          351966,
          344500,
          333778,
          331383,
          327337,
          302444,
          280557,
          277844,
          243216,
          205153,
          199741,
          197254,
          187185,
          173286,
          169011,
          168725,
          150683,
          135508,
          133425,
          123716,
          123104,
          121436,
          116398,
          71324,
          70619,
          52251,
          47808,
          46202,
          42410,
          35456,
          27133,
          23133,
          19535,
          18471,
          18421,
          18154,
          17673,
          16436,
          16160,
          15764,
          12903,
          9660,
          979
         ],
         "yaxis": "y"
        },
        {
         "alignmentgroup": "True",
         "hovertemplate": "variant=B.1.221<br>date=%{x}<br>num_sequences_total=%{y}<extra></extra>",
         "legendgroup": "B.1.221",
         "marker": {
          "color": "#B6E880",
          "pattern": {
           "shape": ""
          }
         },
         "name": "B.1.221",
         "offsetgroup": "B.1.221",
         "orientation": "v",
         "showlegend": true,
         "textposition": "auto",
         "type": "bar",
         "x": [
          "2021-08-23T00:00:00",
          "2021-09-06T00:00:00",
          "2021-12-13T00:00:00",
          "2021-08-09T00:00:00",
          "2021-11-15T00:00:00",
          "2021-11-29T00:00:00",
          "2021-09-20T00:00:00",
          "2021-11-01T00:00:00",
          "2021-10-04T00:00:00",
          "2021-10-18T00:00:00",
          "2021-07-26T00:00:00",
          "2021-04-19T00:00:00",
          "2021-04-05T00:00:00",
          "2021-05-03T00:00:00",
          "2021-03-22T00:00:00",
          "2021-12-27T00:00:00",
          "2021-05-17T00:00:00",
          "2021-07-12T00:00:00",
          "2021-03-08T00:00:00",
          "2021-05-31T00:00:00",
          "2021-02-22T00:00:00",
          "2021-02-08T00:00:00",
          "2021-06-14T00:00:00",
          "2021-06-28T00:00:00",
          "2021-01-25T00:00:00",
          "2021-01-04T00:00:00",
          "2020-12-21T00:00:00",
          "2021-01-11T00:00:00",
          "2020-11-23T00:00:00",
          "2020-11-09T00:00:00",
          "2020-12-07T00:00:00",
          "2020-10-26T00:00:00",
          "2020-10-12T00:00:00",
          "2020-09-28T00:00:00",
          "2020-08-03T00:00:00",
          "2020-08-17T00:00:00",
          "2020-07-20T00:00:00",
          "2020-09-14T00:00:00",
          "2020-08-31T00:00:00",
          "2020-05-11T00:00:00",
          "2020-06-22T00:00:00",
          "2020-07-06T00:00:00",
          "2020-05-25T00:00:00",
          "2020-06-08T00:00:00",
          "2022-01-05T00:00:00"
         ],
         "xaxis": "x",
         "y": [
          374670,
          363281,
          351966,
          344500,
          333778,
          331383,
          327337,
          302444,
          280557,
          277844,
          243216,
          205153,
          199741,
          197254,
          187185,
          173286,
          169011,
          168725,
          150683,
          135508,
          133425,
          123716,
          123104,
          121436,
          116398,
          71324,
          70619,
          52251,
          47808,
          46202,
          42410,
          35456,
          27133,
          23133,
          19535,
          18471,
          18421,
          18154,
          17673,
          16436,
          16160,
          15764,
          12903,
          9660,
          979
         ],
         "yaxis": "y"
        },
        {
         "alignmentgroup": "True",
         "hovertemplate": "variant=B.1.258<br>date=%{x}<br>num_sequences_total=%{y}<extra></extra>",
         "legendgroup": "B.1.258",
         "marker": {
          "color": "#FF97FF",
          "pattern": {
           "shape": ""
          }
         },
         "name": "B.1.258",
         "offsetgroup": "B.1.258",
         "orientation": "v",
         "showlegend": true,
         "textposition": "auto",
         "type": "bar",
         "x": [
          "2021-08-23T00:00:00",
          "2021-09-06T00:00:00",
          "2021-12-13T00:00:00",
          "2021-08-09T00:00:00",
          "2021-11-15T00:00:00",
          "2021-11-29T00:00:00",
          "2021-09-20T00:00:00",
          "2021-11-01T00:00:00",
          "2021-10-04T00:00:00",
          "2021-10-18T00:00:00",
          "2021-07-26T00:00:00",
          "2021-04-19T00:00:00",
          "2021-04-05T00:00:00",
          "2021-05-03T00:00:00",
          "2021-03-22T00:00:00",
          "2021-12-27T00:00:00",
          "2021-05-17T00:00:00",
          "2021-07-12T00:00:00",
          "2021-03-08T00:00:00",
          "2021-05-31T00:00:00",
          "2021-02-22T00:00:00",
          "2021-02-08T00:00:00",
          "2021-06-14T00:00:00",
          "2021-06-28T00:00:00",
          "2021-01-25T00:00:00",
          "2021-01-04T00:00:00",
          "2020-12-21T00:00:00",
          "2021-01-11T00:00:00",
          "2020-11-23T00:00:00",
          "2020-11-09T00:00:00",
          "2020-12-07T00:00:00",
          "2020-10-26T00:00:00",
          "2020-10-12T00:00:00",
          "2020-09-28T00:00:00",
          "2020-08-03T00:00:00",
          "2020-08-17T00:00:00",
          "2020-07-20T00:00:00",
          "2020-09-14T00:00:00",
          "2020-08-31T00:00:00",
          "2020-05-11T00:00:00",
          "2020-06-22T00:00:00",
          "2020-07-06T00:00:00",
          "2020-05-25T00:00:00",
          "2020-06-08T00:00:00",
          "2022-01-05T00:00:00"
         ],
         "xaxis": "x",
         "y": [
          374670,
          363281,
          351966,
          344500,
          333778,
          331383,
          327337,
          302444,
          280557,
          277844,
          243216,
          205153,
          199741,
          197254,
          187185,
          173286,
          169011,
          168725,
          150683,
          135508,
          133425,
          123716,
          123104,
          121436,
          116398,
          71324,
          70619,
          52251,
          47808,
          46202,
          42410,
          35456,
          27133,
          23133,
          19535,
          18471,
          18421,
          18154,
          17673,
          16436,
          16160,
          15764,
          12903,
          9660,
          979
         ],
         "yaxis": "y"
        },
        {
         "alignmentgroup": "True",
         "hovertemplate": "variant=B.1.367<br>date=%{x}<br>num_sequences_total=%{y}<extra></extra>",
         "legendgroup": "B.1.367",
         "marker": {
          "color": "#FECB52",
          "pattern": {
           "shape": ""
          }
         },
         "name": "B.1.367",
         "offsetgroup": "B.1.367",
         "orientation": "v",
         "showlegend": true,
         "textposition": "auto",
         "type": "bar",
         "x": [
          "2021-08-23T00:00:00",
          "2021-09-06T00:00:00",
          "2021-12-13T00:00:00",
          "2021-08-09T00:00:00",
          "2021-11-15T00:00:00",
          "2021-11-29T00:00:00",
          "2021-09-20T00:00:00",
          "2021-11-01T00:00:00",
          "2021-10-04T00:00:00",
          "2021-10-18T00:00:00",
          "2021-07-26T00:00:00",
          "2021-04-19T00:00:00",
          "2021-04-05T00:00:00",
          "2021-05-03T00:00:00",
          "2021-03-22T00:00:00",
          "2021-12-27T00:00:00",
          "2021-05-17T00:00:00",
          "2021-07-12T00:00:00",
          "2021-03-08T00:00:00",
          "2021-05-31T00:00:00",
          "2021-02-22T00:00:00",
          "2021-02-08T00:00:00",
          "2021-06-14T00:00:00",
          "2021-06-28T00:00:00",
          "2021-01-25T00:00:00",
          "2021-01-04T00:00:00",
          "2020-12-21T00:00:00",
          "2021-01-11T00:00:00",
          "2020-11-23T00:00:00",
          "2020-11-09T00:00:00",
          "2020-12-07T00:00:00",
          "2020-10-26T00:00:00",
          "2020-10-12T00:00:00",
          "2020-09-28T00:00:00",
          "2020-08-03T00:00:00",
          "2020-08-17T00:00:00",
          "2020-07-20T00:00:00",
          "2020-09-14T00:00:00",
          "2020-08-31T00:00:00",
          "2020-05-11T00:00:00",
          "2020-06-22T00:00:00",
          "2020-07-06T00:00:00",
          "2020-05-25T00:00:00",
          "2020-06-08T00:00:00",
          "2022-01-05T00:00:00"
         ],
         "xaxis": "x",
         "y": [
          374670,
          363281,
          351966,
          344500,
          333778,
          331383,
          327337,
          302444,
          280557,
          277844,
          243216,
          205153,
          199741,
          197254,
          187185,
          173286,
          169011,
          168725,
          150683,
          135508,
          133425,
          123716,
          123104,
          121436,
          116398,
          71324,
          70619,
          52251,
          47808,
          46202,
          42410,
          35456,
          27133,
          23133,
          19535,
          18471,
          18421,
          18154,
          17673,
          16436,
          16160,
          15764,
          12903,
          9660,
          979
         ],
         "yaxis": "y"
        },
        {
         "alignmentgroup": "True",
         "hovertemplate": "variant=B.1.620<br>date=%{x}<br>num_sequences_total=%{y}<extra></extra>",
         "legendgroup": "B.1.620",
         "marker": {
          "color": "#636efa",
          "pattern": {
           "shape": ""
          }
         },
         "name": "B.1.620",
         "offsetgroup": "B.1.620",
         "orientation": "v",
         "showlegend": true,
         "textposition": "auto",
         "type": "bar",
         "x": [
          "2021-08-23T00:00:00",
          "2021-09-06T00:00:00",
          "2021-12-13T00:00:00",
          "2021-08-09T00:00:00",
          "2021-11-15T00:00:00",
          "2021-11-29T00:00:00",
          "2021-09-20T00:00:00",
          "2021-11-01T00:00:00",
          "2021-10-04T00:00:00",
          "2021-10-18T00:00:00",
          "2021-07-26T00:00:00",
          "2021-04-19T00:00:00",
          "2021-04-05T00:00:00",
          "2021-05-03T00:00:00",
          "2021-03-22T00:00:00",
          "2021-12-27T00:00:00",
          "2021-05-17T00:00:00",
          "2021-07-12T00:00:00",
          "2021-03-08T00:00:00",
          "2021-05-31T00:00:00",
          "2021-02-22T00:00:00",
          "2021-02-08T00:00:00",
          "2021-06-14T00:00:00",
          "2021-06-28T00:00:00",
          "2021-01-25T00:00:00",
          "2021-01-04T00:00:00",
          "2020-12-21T00:00:00",
          "2021-01-11T00:00:00",
          "2020-11-23T00:00:00",
          "2020-11-09T00:00:00",
          "2020-12-07T00:00:00",
          "2020-10-26T00:00:00",
          "2020-10-12T00:00:00",
          "2020-09-28T00:00:00",
          "2020-08-03T00:00:00",
          "2020-08-17T00:00:00",
          "2020-07-20T00:00:00",
          "2020-09-14T00:00:00",
          "2020-08-31T00:00:00",
          "2020-05-11T00:00:00",
          "2020-06-22T00:00:00",
          "2020-07-06T00:00:00",
          "2020-05-25T00:00:00",
          "2020-06-08T00:00:00",
          "2022-01-05T00:00:00"
         ],
         "xaxis": "x",
         "y": [
          374670,
          363281,
          351966,
          344500,
          333778,
          331383,
          327337,
          302444,
          280557,
          277844,
          243216,
          205153,
          199741,
          197254,
          187185,
          173286,
          169011,
          168725,
          150683,
          135508,
          133425,
          123716,
          123104,
          121436,
          116398,
          71324,
          70619,
          52251,
          47808,
          46202,
          42410,
          35456,
          27133,
          23133,
          19535,
          18471,
          18421,
          18154,
          17673,
          16436,
          16160,
          15764,
          12903,
          9660,
          979
         ],
         "yaxis": "y"
        },
        {
         "alignmentgroup": "True",
         "hovertemplate": "variant=Epsilon<br>date=%{x}<br>num_sequences_total=%{y}<extra></extra>",
         "legendgroup": "Epsilon",
         "marker": {
          "color": "#EF553B",
          "pattern": {
           "shape": ""
          }
         },
         "name": "Epsilon",
         "offsetgroup": "Epsilon",
         "orientation": "v",
         "showlegend": true,
         "textposition": "auto",
         "type": "bar",
         "x": [
          "2021-08-23T00:00:00",
          "2021-09-06T00:00:00",
          "2021-12-13T00:00:00",
          "2021-08-09T00:00:00",
          "2021-11-15T00:00:00",
          "2021-11-29T00:00:00",
          "2021-09-20T00:00:00",
          "2021-11-01T00:00:00",
          "2021-10-04T00:00:00",
          "2021-10-18T00:00:00",
          "2021-07-26T00:00:00",
          "2021-04-19T00:00:00",
          "2021-04-05T00:00:00",
          "2021-05-03T00:00:00",
          "2021-03-22T00:00:00",
          "2021-12-27T00:00:00",
          "2021-05-17T00:00:00",
          "2021-07-12T00:00:00",
          "2021-03-08T00:00:00",
          "2021-05-31T00:00:00",
          "2021-02-22T00:00:00",
          "2021-02-08T00:00:00",
          "2021-06-14T00:00:00",
          "2021-06-28T00:00:00",
          "2021-01-25T00:00:00",
          "2021-01-04T00:00:00",
          "2020-12-21T00:00:00",
          "2021-01-11T00:00:00",
          "2020-11-23T00:00:00",
          "2020-11-09T00:00:00",
          "2020-12-07T00:00:00",
          "2020-10-26T00:00:00",
          "2020-10-12T00:00:00",
          "2020-09-28T00:00:00",
          "2020-08-03T00:00:00",
          "2020-08-17T00:00:00",
          "2020-07-20T00:00:00",
          "2020-09-14T00:00:00",
          "2020-08-31T00:00:00",
          "2020-05-11T00:00:00",
          "2020-06-22T00:00:00",
          "2020-07-06T00:00:00",
          "2020-05-25T00:00:00",
          "2020-06-08T00:00:00",
          "2022-01-05T00:00:00"
         ],
         "xaxis": "x",
         "y": [
          374670,
          363281,
          351966,
          344500,
          333778,
          331383,
          327337,
          302444,
          280557,
          277844,
          243216,
          205153,
          199741,
          197254,
          187185,
          173286,
          169011,
          168725,
          150683,
          135508,
          133425,
          123716,
          123104,
          121436,
          116398,
          71324,
          70619,
          52251,
          47808,
          46202,
          42410,
          35456,
          27133,
          23133,
          19535,
          18471,
          18421,
          18154,
          17673,
          16436,
          16160,
          15764,
          12903,
          9660,
          979
         ],
         "yaxis": "y"
        },
        {
         "alignmentgroup": "True",
         "hovertemplate": "variant=non_who<br>date=%{x}<br>num_sequences_total=%{y}<extra></extra>",
         "legendgroup": "non_who",
         "marker": {
          "color": "#00cc96",
          "pattern": {
           "shape": ""
          }
         },
         "name": "non_who",
         "offsetgroup": "non_who",
         "orientation": "v",
         "showlegend": true,
         "textposition": "auto",
         "type": "bar",
         "x": [
          "2021-08-23T00:00:00",
          "2021-09-06T00:00:00",
          "2021-12-13T00:00:00",
          "2021-08-09T00:00:00",
          "2021-11-15T00:00:00",
          "2021-11-29T00:00:00",
          "2021-09-20T00:00:00",
          "2021-11-01T00:00:00",
          "2021-10-04T00:00:00",
          "2021-10-18T00:00:00",
          "2021-07-26T00:00:00",
          "2021-04-19T00:00:00",
          "2021-04-05T00:00:00",
          "2021-05-03T00:00:00",
          "2021-03-22T00:00:00",
          "2021-12-27T00:00:00",
          "2021-05-17T00:00:00",
          "2021-07-12T00:00:00",
          "2021-03-08T00:00:00",
          "2021-05-31T00:00:00",
          "2021-02-22T00:00:00",
          "2021-02-08T00:00:00",
          "2021-06-14T00:00:00",
          "2021-06-28T00:00:00",
          "2021-01-25T00:00:00",
          "2021-01-04T00:00:00",
          "2020-12-21T00:00:00",
          "2021-01-11T00:00:00",
          "2020-11-23T00:00:00",
          "2020-11-09T00:00:00",
          "2020-12-07T00:00:00",
          "2020-10-26T00:00:00",
          "2020-10-12T00:00:00",
          "2020-09-28T00:00:00",
          "2020-08-03T00:00:00",
          "2020-08-17T00:00:00",
          "2020-07-20T00:00:00",
          "2020-09-14T00:00:00",
          "2020-08-31T00:00:00",
          "2020-05-11T00:00:00",
          "2020-06-22T00:00:00",
          "2020-07-06T00:00:00",
          "2020-05-25T00:00:00",
          "2020-06-08T00:00:00",
          "2022-01-05T00:00:00"
         ],
         "xaxis": "x",
         "y": [
          374670,
          363281,
          351966,
          344500,
          333778,
          331383,
          327337,
          302444,
          280557,
          277844,
          243216,
          205153,
          199741,
          197254,
          187185,
          173286,
          169011,
          168725,
          150683,
          135508,
          133425,
          123716,
          123104,
          121436,
          116398,
          71324,
          70619,
          52251,
          47808,
          46202,
          42410,
          35456,
          27133,
          23133,
          19535,
          18471,
          18421,
          18154,
          17673,
          16436,
          16160,
          15764,
          12903,
          9660,
          979
         ],
         "yaxis": "y"
        },
        {
         "alignmentgroup": "True",
         "hovertemplate": "variant=Eta<br>date=%{x}<br>num_sequences_total=%{y}<extra></extra>",
         "legendgroup": "Eta",
         "marker": {
          "color": "#ab63fa",
          "pattern": {
           "shape": ""
          }
         },
         "name": "Eta",
         "offsetgroup": "Eta",
         "orientation": "v",
         "showlegend": true,
         "textposition": "auto",
         "type": "bar",
         "x": [
          "2021-08-23T00:00:00",
          "2021-09-06T00:00:00",
          "2021-12-13T00:00:00",
          "2021-08-09T00:00:00",
          "2021-11-15T00:00:00",
          "2021-11-29T00:00:00",
          "2021-09-20T00:00:00",
          "2021-11-01T00:00:00",
          "2021-10-04T00:00:00",
          "2021-10-18T00:00:00",
          "2021-07-26T00:00:00",
          "2021-04-19T00:00:00",
          "2021-04-05T00:00:00",
          "2021-05-03T00:00:00",
          "2021-03-22T00:00:00",
          "2021-12-27T00:00:00",
          "2021-05-17T00:00:00",
          "2021-07-12T00:00:00",
          "2021-03-08T00:00:00",
          "2021-05-31T00:00:00",
          "2021-02-22T00:00:00",
          "2021-02-08T00:00:00",
          "2021-06-14T00:00:00",
          "2021-06-28T00:00:00",
          "2021-01-25T00:00:00",
          "2021-01-04T00:00:00",
          "2020-12-21T00:00:00",
          "2021-01-11T00:00:00",
          "2020-11-23T00:00:00",
          "2020-11-09T00:00:00",
          "2020-12-07T00:00:00",
          "2020-10-26T00:00:00",
          "2020-10-12T00:00:00",
          "2020-09-28T00:00:00",
          "2020-08-03T00:00:00",
          "2020-08-17T00:00:00",
          "2020-07-20T00:00:00",
          "2020-09-14T00:00:00",
          "2020-08-31T00:00:00",
          "2020-05-11T00:00:00",
          "2020-06-22T00:00:00",
          "2020-07-06T00:00:00",
          "2020-05-25T00:00:00",
          "2020-06-08T00:00:00",
          "2022-01-05T00:00:00"
         ],
         "xaxis": "x",
         "y": [
          374670,
          363281,
          351966,
          344500,
          333778,
          331383,
          327337,
          302444,
          280557,
          277844,
          243216,
          205153,
          199741,
          197254,
          187185,
          173286,
          169011,
          168725,
          150683,
          135508,
          133425,
          123716,
          123104,
          121436,
          116398,
          71324,
          70619,
          52251,
          47808,
          46202,
          42410,
          35456,
          27133,
          23133,
          19535,
          18471,
          18421,
          18154,
          17673,
          16436,
          16160,
          15764,
          12903,
          9660,
          979
         ],
         "yaxis": "y"
        },
        {
         "alignmentgroup": "True",
         "hovertemplate": "variant=Gamma<br>date=%{x}<br>num_sequences_total=%{y}<extra></extra>",
         "legendgroup": "Gamma",
         "marker": {
          "color": "#FFA15A",
          "pattern": {
           "shape": ""
          }
         },
         "name": "Gamma",
         "offsetgroup": "Gamma",
         "orientation": "v",
         "showlegend": true,
         "textposition": "auto",
         "type": "bar",
         "x": [
          "2021-08-23T00:00:00",
          "2021-09-06T00:00:00",
          "2021-12-13T00:00:00",
          "2021-08-09T00:00:00",
          "2021-11-15T00:00:00",
          "2021-11-29T00:00:00",
          "2021-09-20T00:00:00",
          "2021-11-01T00:00:00",
          "2021-10-04T00:00:00",
          "2021-10-18T00:00:00",
          "2021-07-26T00:00:00",
          "2021-04-19T00:00:00",
          "2021-04-05T00:00:00",
          "2021-05-03T00:00:00",
          "2021-03-22T00:00:00",
          "2021-12-27T00:00:00",
          "2021-05-17T00:00:00",
          "2021-07-12T00:00:00",
          "2021-03-08T00:00:00",
          "2021-05-31T00:00:00",
          "2021-02-22T00:00:00",
          "2021-02-08T00:00:00",
          "2021-06-14T00:00:00",
          "2021-06-28T00:00:00",
          "2021-01-25T00:00:00",
          "2021-01-04T00:00:00",
          "2020-12-21T00:00:00",
          "2021-01-11T00:00:00",
          "2020-11-23T00:00:00",
          "2020-11-09T00:00:00",
          "2020-12-07T00:00:00",
          "2020-10-26T00:00:00",
          "2020-10-12T00:00:00",
          "2020-09-28T00:00:00",
          "2020-08-03T00:00:00",
          "2020-08-17T00:00:00",
          "2020-07-20T00:00:00",
          "2020-09-14T00:00:00",
          "2020-08-31T00:00:00",
          "2020-05-11T00:00:00",
          "2020-06-22T00:00:00",
          "2020-07-06T00:00:00",
          "2020-05-25T00:00:00",
          "2020-06-08T00:00:00",
          "2022-01-05T00:00:00"
         ],
         "xaxis": "x",
         "y": [
          374670,
          363281,
          351966,
          344500,
          333778,
          331383,
          327337,
          302444,
          280557,
          277844,
          243216,
          205153,
          199741,
          197254,
          187185,
          173286,
          169011,
          168725,
          150683,
          135508,
          133425,
          123716,
          123104,
          121436,
          116398,
          71324,
          70619,
          52251,
          47808,
          46202,
          42410,
          35456,
          27133,
          23133,
          19535,
          18471,
          18421,
          18154,
          17673,
          16436,
          16160,
          15764,
          12903,
          9660,
          979
         ],
         "yaxis": "y"
        },
        {
         "alignmentgroup": "True",
         "hovertemplate": "variant=Iota<br>date=%{x}<br>num_sequences_total=%{y}<extra></extra>",
         "legendgroup": "Iota",
         "marker": {
          "color": "#19d3f3",
          "pattern": {
           "shape": ""
          }
         },
         "name": "Iota",
         "offsetgroup": "Iota",
         "orientation": "v",
         "showlegend": true,
         "textposition": "auto",
         "type": "bar",
         "x": [
          "2021-08-23T00:00:00",
          "2021-09-06T00:00:00",
          "2021-12-13T00:00:00",
          "2021-08-09T00:00:00",
          "2021-11-15T00:00:00",
          "2021-11-29T00:00:00",
          "2021-09-20T00:00:00",
          "2021-11-01T00:00:00",
          "2021-10-04T00:00:00",
          "2021-10-18T00:00:00",
          "2021-07-26T00:00:00",
          "2021-04-19T00:00:00",
          "2021-04-05T00:00:00",
          "2021-05-03T00:00:00",
          "2021-03-22T00:00:00",
          "2021-12-27T00:00:00",
          "2021-05-17T00:00:00",
          "2021-07-12T00:00:00",
          "2021-03-08T00:00:00",
          "2021-05-31T00:00:00",
          "2021-02-22T00:00:00",
          "2021-02-08T00:00:00",
          "2021-06-14T00:00:00",
          "2021-06-28T00:00:00",
          "2021-01-25T00:00:00",
          "2021-01-04T00:00:00",
          "2020-12-21T00:00:00",
          "2021-01-11T00:00:00",
          "2020-11-23T00:00:00",
          "2020-11-09T00:00:00",
          "2020-12-07T00:00:00",
          "2020-10-26T00:00:00",
          "2020-10-12T00:00:00",
          "2020-09-28T00:00:00",
          "2020-08-03T00:00:00",
          "2020-08-17T00:00:00",
          "2020-07-20T00:00:00",
          "2020-09-14T00:00:00",
          "2020-08-31T00:00:00",
          "2020-05-11T00:00:00",
          "2020-06-22T00:00:00",
          "2020-07-06T00:00:00",
          "2020-05-25T00:00:00",
          "2020-06-08T00:00:00",
          "2022-01-05T00:00:00"
         ],
         "xaxis": "x",
         "y": [
          374670,
          363281,
          351966,
          344500,
          333778,
          331383,
          327337,
          302444,
          280557,
          277844,
          243216,
          205153,
          199741,
          197254,
          187185,
          173286,
          169011,
          168725,
          150683,
          135508,
          133425,
          123716,
          123104,
          121436,
          116398,
          71324,
          70619,
          52251,
          47808,
          46202,
          42410,
          35456,
          27133,
          23133,
          19535,
          18471,
          18421,
          18154,
          17673,
          16436,
          16160,
          15764,
          12903,
          9660,
          979
         ],
         "yaxis": "y"
        },
        {
         "alignmentgroup": "True",
         "hovertemplate": "variant=Kappa<br>date=%{x}<br>num_sequences_total=%{y}<extra></extra>",
         "legendgroup": "Kappa",
         "marker": {
          "color": "#FF6692",
          "pattern": {
           "shape": ""
          }
         },
         "name": "Kappa",
         "offsetgroup": "Kappa",
         "orientation": "v",
         "showlegend": true,
         "textposition": "auto",
         "type": "bar",
         "x": [
          "2021-08-23T00:00:00",
          "2021-09-06T00:00:00",
          "2021-12-13T00:00:00",
          "2021-08-09T00:00:00",
          "2021-11-15T00:00:00",
          "2021-11-29T00:00:00",
          "2021-09-20T00:00:00",
          "2021-11-01T00:00:00",
          "2021-10-04T00:00:00",
          "2021-10-18T00:00:00",
          "2021-07-26T00:00:00",
          "2021-04-19T00:00:00",
          "2021-04-05T00:00:00",
          "2021-05-03T00:00:00",
          "2021-03-22T00:00:00",
          "2021-12-27T00:00:00",
          "2021-05-17T00:00:00",
          "2021-07-12T00:00:00",
          "2021-03-08T00:00:00",
          "2021-05-31T00:00:00",
          "2021-02-22T00:00:00",
          "2021-02-08T00:00:00",
          "2021-06-14T00:00:00",
          "2021-06-28T00:00:00",
          "2021-01-25T00:00:00",
          "2021-01-04T00:00:00",
          "2020-12-21T00:00:00",
          "2021-01-11T00:00:00",
          "2020-11-23T00:00:00",
          "2020-11-09T00:00:00",
          "2020-12-07T00:00:00",
          "2020-10-26T00:00:00",
          "2020-10-12T00:00:00",
          "2020-09-28T00:00:00",
          "2020-08-03T00:00:00",
          "2020-08-17T00:00:00",
          "2020-07-20T00:00:00",
          "2020-09-14T00:00:00",
          "2020-08-31T00:00:00",
          "2020-05-11T00:00:00",
          "2020-06-22T00:00:00",
          "2020-07-06T00:00:00",
          "2020-05-25T00:00:00",
          "2020-06-08T00:00:00",
          "2022-01-05T00:00:00"
         ],
         "xaxis": "x",
         "y": [
          374670,
          363281,
          351966,
          344500,
          333778,
          331383,
          327337,
          302444,
          280557,
          277844,
          243216,
          205153,
          199741,
          197254,
          187185,
          173286,
          169011,
          168725,
          150683,
          135508,
          133425,
          123716,
          123104,
          121436,
          116398,
          71324,
          70619,
          52251,
          47808,
          46202,
          42410,
          35456,
          27133,
          23133,
          19535,
          18471,
          18421,
          18154,
          17673,
          16436,
          16160,
          15764,
          12903,
          9660,
          979
         ],
         "yaxis": "y"
        },
        {
         "alignmentgroup": "True",
         "hovertemplate": "variant=Lambda<br>date=%{x}<br>num_sequences_total=%{y}<extra></extra>",
         "legendgroup": "Lambda",
         "marker": {
          "color": "#B6E880",
          "pattern": {
           "shape": ""
          }
         },
         "name": "Lambda",
         "offsetgroup": "Lambda",
         "orientation": "v",
         "showlegend": true,
         "textposition": "auto",
         "type": "bar",
         "x": [
          "2021-08-23T00:00:00",
          "2021-09-06T00:00:00",
          "2021-12-13T00:00:00",
          "2021-08-09T00:00:00",
          "2021-11-15T00:00:00",
          "2021-11-29T00:00:00",
          "2021-09-20T00:00:00",
          "2021-11-01T00:00:00",
          "2021-10-04T00:00:00",
          "2021-10-18T00:00:00",
          "2021-07-26T00:00:00",
          "2021-04-19T00:00:00",
          "2021-04-05T00:00:00",
          "2021-05-03T00:00:00",
          "2021-03-22T00:00:00",
          "2021-12-27T00:00:00",
          "2021-05-17T00:00:00",
          "2021-07-12T00:00:00",
          "2021-03-08T00:00:00",
          "2021-05-31T00:00:00",
          "2021-02-22T00:00:00",
          "2021-02-08T00:00:00",
          "2021-06-14T00:00:00",
          "2021-06-28T00:00:00",
          "2021-01-25T00:00:00",
          "2021-01-04T00:00:00",
          "2020-12-21T00:00:00",
          "2021-01-11T00:00:00",
          "2020-11-23T00:00:00",
          "2020-11-09T00:00:00",
          "2020-12-07T00:00:00",
          "2020-10-26T00:00:00",
          "2020-10-12T00:00:00",
          "2020-09-28T00:00:00",
          "2020-08-03T00:00:00",
          "2020-08-17T00:00:00",
          "2020-07-20T00:00:00",
          "2020-09-14T00:00:00",
          "2020-08-31T00:00:00",
          "2020-05-11T00:00:00",
          "2020-06-22T00:00:00",
          "2020-07-06T00:00:00",
          "2020-05-25T00:00:00",
          "2020-06-08T00:00:00",
          "2022-01-05T00:00:00"
         ],
         "xaxis": "x",
         "y": [
          374670,
          363281,
          351966,
          344500,
          333778,
          331383,
          327337,
          302444,
          280557,
          277844,
          243216,
          205153,
          199741,
          197254,
          187185,
          173286,
          169011,
          168725,
          150683,
          135508,
          133425,
          123716,
          123104,
          121436,
          116398,
          71324,
          70619,
          52251,
          47808,
          46202,
          42410,
          35456,
          27133,
          23133,
          19535,
          18471,
          18421,
          18154,
          17673,
          16436,
          16160,
          15764,
          12903,
          9660,
          979
         ],
         "yaxis": "y"
        },
        {
         "alignmentgroup": "True",
         "hovertemplate": "variant=Mu<br>date=%{x}<br>num_sequences_total=%{y}<extra></extra>",
         "legendgroup": "Mu",
         "marker": {
          "color": "#FF97FF",
          "pattern": {
           "shape": ""
          }
         },
         "name": "Mu",
         "offsetgroup": "Mu",
         "orientation": "v",
         "showlegend": true,
         "textposition": "auto",
         "type": "bar",
         "x": [
          "2021-08-23T00:00:00",
          "2021-09-06T00:00:00",
          "2021-12-13T00:00:00",
          "2021-08-09T00:00:00",
          "2021-11-15T00:00:00",
          "2021-11-29T00:00:00",
          "2021-09-20T00:00:00",
          "2021-11-01T00:00:00",
          "2021-10-04T00:00:00",
          "2021-10-18T00:00:00",
          "2021-07-26T00:00:00",
          "2021-04-19T00:00:00",
          "2021-04-05T00:00:00",
          "2021-05-03T00:00:00",
          "2021-03-22T00:00:00",
          "2021-12-27T00:00:00",
          "2021-05-17T00:00:00",
          "2021-07-12T00:00:00",
          "2021-03-08T00:00:00",
          "2021-05-31T00:00:00",
          "2021-02-22T00:00:00",
          "2021-02-08T00:00:00",
          "2021-06-14T00:00:00",
          "2021-06-28T00:00:00",
          "2021-01-25T00:00:00",
          "2021-01-04T00:00:00",
          "2020-12-21T00:00:00",
          "2021-01-11T00:00:00",
          "2020-11-23T00:00:00",
          "2020-11-09T00:00:00",
          "2020-12-07T00:00:00",
          "2020-10-26T00:00:00",
          "2020-10-12T00:00:00",
          "2020-09-28T00:00:00",
          "2020-08-03T00:00:00",
          "2020-08-17T00:00:00",
          "2020-07-20T00:00:00",
          "2020-09-14T00:00:00",
          "2020-08-31T00:00:00",
          "2020-05-11T00:00:00",
          "2020-06-22T00:00:00",
          "2020-07-06T00:00:00",
          "2020-05-25T00:00:00",
          "2020-06-08T00:00:00",
          "2022-01-05T00:00:00"
         ],
         "xaxis": "x",
         "y": [
          374670,
          363281,
          351966,
          344500,
          333778,
          331383,
          327337,
          302444,
          280557,
          277844,
          243216,
          205153,
          199741,
          197254,
          187185,
          173286,
          169011,
          168725,
          150683,
          135508,
          133425,
          123716,
          123104,
          121436,
          116398,
          71324,
          70619,
          52251,
          47808,
          46202,
          42410,
          35456,
          27133,
          23133,
          19535,
          18471,
          18421,
          18154,
          17673,
          16436,
          16160,
          15764,
          12903,
          9660,
          979
         ],
         "yaxis": "y"
        },
        {
         "alignmentgroup": "True",
         "hovertemplate": "variant=Omicron<br>date=%{x}<br>num_sequences_total=%{y}<extra></extra>",
         "legendgroup": "Omicron",
         "marker": {
          "color": "#FECB52",
          "pattern": {
           "shape": ""
          }
         },
         "name": "Omicron",
         "offsetgroup": "Omicron",
         "orientation": "v",
         "showlegend": true,
         "textposition": "auto",
         "type": "bar",
         "x": [
          "2021-08-23T00:00:00",
          "2021-09-06T00:00:00",
          "2021-12-13T00:00:00",
          "2021-08-09T00:00:00",
          "2021-11-15T00:00:00",
          "2021-11-29T00:00:00",
          "2021-09-20T00:00:00",
          "2021-11-01T00:00:00",
          "2021-10-04T00:00:00",
          "2021-10-18T00:00:00",
          "2021-07-26T00:00:00",
          "2021-04-19T00:00:00",
          "2021-04-05T00:00:00",
          "2021-05-03T00:00:00",
          "2021-03-22T00:00:00",
          "2021-12-27T00:00:00",
          "2021-05-17T00:00:00",
          "2021-07-12T00:00:00",
          "2021-03-08T00:00:00",
          "2021-05-31T00:00:00",
          "2021-02-22T00:00:00",
          "2021-02-08T00:00:00",
          "2021-06-14T00:00:00",
          "2021-06-28T00:00:00",
          "2021-01-25T00:00:00",
          "2021-01-04T00:00:00",
          "2020-12-21T00:00:00",
          "2021-01-11T00:00:00",
          "2020-11-23T00:00:00",
          "2020-11-09T00:00:00",
          "2020-12-07T00:00:00",
          "2020-10-26T00:00:00",
          "2020-10-12T00:00:00",
          "2020-09-28T00:00:00",
          "2020-08-03T00:00:00",
          "2020-08-17T00:00:00",
          "2020-07-20T00:00:00",
          "2020-09-14T00:00:00",
          "2020-08-31T00:00:00",
          "2020-05-11T00:00:00",
          "2020-06-22T00:00:00",
          "2020-07-06T00:00:00",
          "2020-05-25T00:00:00",
          "2020-06-08T00:00:00",
          "2022-01-05T00:00:00"
         ],
         "xaxis": "x",
         "y": [
          374670,
          363281,
          351966,
          344500,
          333778,
          331383,
          327337,
          302444,
          280557,
          277844,
          243216,
          205153,
          199741,
          197254,
          187185,
          173286,
          169011,
          168725,
          150683,
          135508,
          133425,
          123716,
          123104,
          121436,
          116398,
          71324,
          70619,
          52251,
          47808,
          46202,
          42410,
          35456,
          27133,
          23133,
          19535,
          18471,
          18421,
          18154,
          17673,
          16436,
          16160,
          15764,
          12903,
          9660,
          979
         ],
         "yaxis": "y"
        },
        {
         "alignmentgroup": "True",
         "hovertemplate": "variant=S:677H.Robin1<br>date=%{x}<br>num_sequences_total=%{y}<extra></extra>",
         "legendgroup": "S:677H.Robin1",
         "marker": {
          "color": "#636efa",
          "pattern": {
           "shape": ""
          }
         },
         "name": "S:677H.Robin1",
         "offsetgroup": "S:677H.Robin1",
         "orientation": "v",
         "showlegend": true,
         "textposition": "auto",
         "type": "bar",
         "x": [
          "2021-08-23T00:00:00",
          "2021-09-06T00:00:00",
          "2021-12-13T00:00:00",
          "2021-08-09T00:00:00",
          "2021-11-15T00:00:00",
          "2021-11-29T00:00:00",
          "2021-09-20T00:00:00",
          "2021-11-01T00:00:00",
          "2021-10-04T00:00:00",
          "2021-10-18T00:00:00",
          "2021-07-26T00:00:00",
          "2021-04-19T00:00:00",
          "2021-04-05T00:00:00",
          "2021-05-03T00:00:00",
          "2021-03-22T00:00:00",
          "2021-12-27T00:00:00",
          "2021-05-17T00:00:00",
          "2021-07-12T00:00:00",
          "2021-03-08T00:00:00",
          "2021-05-31T00:00:00",
          "2021-02-22T00:00:00",
          "2021-02-08T00:00:00",
          "2021-06-14T00:00:00",
          "2021-06-28T00:00:00",
          "2021-01-25T00:00:00",
          "2021-01-04T00:00:00",
          "2020-12-21T00:00:00",
          "2021-01-11T00:00:00",
          "2020-11-23T00:00:00",
          "2020-11-09T00:00:00",
          "2020-12-07T00:00:00",
          "2020-10-26T00:00:00",
          "2020-10-12T00:00:00",
          "2020-09-28T00:00:00",
          "2020-08-03T00:00:00",
          "2020-08-17T00:00:00",
          "2020-07-20T00:00:00",
          "2020-09-14T00:00:00",
          "2020-08-31T00:00:00",
          "2020-05-11T00:00:00",
          "2020-06-22T00:00:00",
          "2020-07-06T00:00:00",
          "2020-05-25T00:00:00",
          "2020-06-08T00:00:00",
          "2022-01-05T00:00:00"
         ],
         "xaxis": "x",
         "y": [
          374670,
          363281,
          351966,
          344500,
          333778,
          331383,
          327337,
          302444,
          280557,
          277844,
          243216,
          205153,
          199741,
          197254,
          187185,
          173286,
          169011,
          168725,
          150683,
          135508,
          133425,
          123716,
          123104,
          121436,
          116398,
          71324,
          70619,
          52251,
          47808,
          46202,
          42410,
          35456,
          27133,
          23133,
          19535,
          18471,
          18421,
          18154,
          17673,
          16436,
          16160,
          15764,
          12903,
          9660,
          979
         ],
         "yaxis": "y"
        },
        {
         "alignmentgroup": "True",
         "hovertemplate": "variant=S:677P.Pelican<br>date=%{x}<br>num_sequences_total=%{y}<extra></extra>",
         "legendgroup": "S:677P.Pelican",
         "marker": {
          "color": "#EF553B",
          "pattern": {
           "shape": ""
          }
         },
         "name": "S:677P.Pelican",
         "offsetgroup": "S:677P.Pelican",
         "orientation": "v",
         "showlegend": true,
         "textposition": "auto",
         "type": "bar",
         "x": [
          "2021-08-23T00:00:00",
          "2021-09-06T00:00:00",
          "2021-12-13T00:00:00",
          "2021-08-09T00:00:00",
          "2021-11-15T00:00:00",
          "2021-11-29T00:00:00",
          "2021-09-20T00:00:00",
          "2021-11-01T00:00:00",
          "2021-10-04T00:00:00",
          "2021-10-18T00:00:00",
          "2021-07-26T00:00:00",
          "2021-04-19T00:00:00",
          "2021-04-05T00:00:00",
          "2021-05-03T00:00:00",
          "2021-03-22T00:00:00",
          "2021-12-27T00:00:00",
          "2021-05-17T00:00:00",
          "2021-07-12T00:00:00",
          "2021-03-08T00:00:00",
          "2021-05-31T00:00:00",
          "2021-02-22T00:00:00",
          "2021-02-08T00:00:00",
          "2021-06-14T00:00:00",
          "2021-06-28T00:00:00",
          "2021-01-25T00:00:00",
          "2021-01-04T00:00:00",
          "2020-12-21T00:00:00",
          "2021-01-11T00:00:00",
          "2020-11-23T00:00:00",
          "2020-11-09T00:00:00",
          "2020-12-07T00:00:00",
          "2020-10-26T00:00:00",
          "2020-10-12T00:00:00",
          "2020-09-28T00:00:00",
          "2020-08-03T00:00:00",
          "2020-08-17T00:00:00",
          "2020-07-20T00:00:00",
          "2020-09-14T00:00:00",
          "2020-08-31T00:00:00",
          "2020-05-11T00:00:00",
          "2020-06-22T00:00:00",
          "2020-07-06T00:00:00",
          "2020-05-25T00:00:00",
          "2020-06-08T00:00:00",
          "2022-01-05T00:00:00"
         ],
         "xaxis": "x",
         "y": [
          374670,
          363281,
          351966,
          344500,
          333778,
          331383,
          327337,
          302444,
          280557,
          277844,
          243216,
          205153,
          199741,
          197254,
          187185,
          173286,
          169011,
          168725,
          150683,
          135508,
          133425,
          123716,
          123104,
          121436,
          116398,
          71324,
          70619,
          52251,
          47808,
          46202,
          42410,
          35456,
          27133,
          23133,
          19535,
          18471,
          18421,
          18154,
          17673,
          16436,
          16160,
          15764,
          12903,
          9660,
          979
         ],
         "yaxis": "y"
        },
        {
         "alignmentgroup": "True",
         "hovertemplate": "variant=Alpha<br>date=%{x}<br>num_sequences_total=%{y}<extra></extra>",
         "legendgroup": "Alpha",
         "marker": {
          "color": "#00cc96",
          "pattern": {
           "shape": ""
          }
         },
         "name": "Alpha",
         "offsetgroup": "Alpha",
         "orientation": "v",
         "showlegend": true,
         "textposition": "auto",
         "type": "bar",
         "x": [
          "2021-08-23T00:00:00",
          "2021-09-06T00:00:00",
          "2021-12-13T00:00:00",
          "2021-08-09T00:00:00",
          "2021-11-15T00:00:00",
          "2021-11-29T00:00:00",
          "2021-09-20T00:00:00",
          "2021-11-01T00:00:00",
          "2021-10-04T00:00:00",
          "2021-10-18T00:00:00",
          "2021-07-26T00:00:00",
          "2021-04-19T00:00:00",
          "2021-04-05T00:00:00",
          "2021-05-03T00:00:00",
          "2021-03-22T00:00:00",
          "2021-12-27T00:00:00",
          "2021-05-17T00:00:00",
          "2021-07-12T00:00:00",
          "2021-03-08T00:00:00",
          "2021-05-31T00:00:00",
          "2021-02-22T00:00:00",
          "2021-02-08T00:00:00",
          "2021-06-14T00:00:00",
          "2021-06-28T00:00:00",
          "2021-01-25T00:00:00",
          "2021-01-04T00:00:00",
          "2020-12-21T00:00:00",
          "2021-01-11T00:00:00",
          "2020-11-23T00:00:00",
          "2020-11-09T00:00:00",
          "2020-12-07T00:00:00",
          "2020-10-26T00:00:00",
          "2020-10-12T00:00:00",
          "2020-09-28T00:00:00",
          "2020-08-03T00:00:00",
          "2020-08-17T00:00:00",
          "2020-07-20T00:00:00",
          "2020-09-14T00:00:00",
          "2020-08-31T00:00:00",
          "2020-05-11T00:00:00",
          "2020-06-22T00:00:00",
          "2020-07-06T00:00:00",
          "2020-05-25T00:00:00",
          "2020-06-08T00:00:00",
          "2022-01-05T00:00:00"
         ],
         "xaxis": "x",
         "y": [
          374670,
          363281,
          351966,
          344500,
          333778,
          331383,
          327337,
          302444,
          280557,
          277844,
          243216,
          205153,
          199741,
          197254,
          187185,
          173286,
          169011,
          168725,
          150683,
          135508,
          133425,
          123716,
          123104,
          121436,
          116398,
          71324,
          70619,
          52251,
          47808,
          46202,
          42410,
          35456,
          27133,
          23133,
          19535,
          18471,
          18421,
          18154,
          17673,
          16436,
          16160,
          15764,
          12903,
          9660,
          979
         ],
         "yaxis": "y"
        },
        {
         "alignmentgroup": "True",
         "hovertemplate": "variant=others<br>date=%{x}<br>num_sequences_total=%{y}<extra></extra>",
         "legendgroup": "others",
         "marker": {
          "color": "#ab63fa",
          "pattern": {
           "shape": ""
          }
         },
         "name": "others",
         "offsetgroup": "others",
         "orientation": "v",
         "showlegend": true,
         "textposition": "auto",
         "type": "bar",
         "x": [
          "2021-08-23T00:00:00",
          "2021-09-06T00:00:00",
          "2021-12-13T00:00:00",
          "2021-08-09T00:00:00",
          "2021-11-15T00:00:00",
          "2021-11-29T00:00:00",
          "2021-09-20T00:00:00",
          "2021-11-01T00:00:00",
          "2021-10-04T00:00:00",
          "2021-10-18T00:00:00",
          "2021-07-26T00:00:00",
          "2021-04-19T00:00:00",
          "2021-04-05T00:00:00",
          "2021-05-03T00:00:00",
          "2021-03-22T00:00:00",
          "2021-12-27T00:00:00",
          "2021-05-17T00:00:00",
          "2021-07-12T00:00:00",
          "2021-03-08T00:00:00",
          "2021-05-31T00:00:00",
          "2021-02-22T00:00:00",
          "2021-02-08T00:00:00",
          "2021-06-14T00:00:00",
          "2021-06-28T00:00:00",
          "2021-01-25T00:00:00",
          "2021-01-04T00:00:00",
          "2020-12-21T00:00:00",
          "2021-01-11T00:00:00",
          "2020-11-23T00:00:00",
          "2020-11-09T00:00:00",
          "2020-12-07T00:00:00",
          "2020-10-26T00:00:00",
          "2020-10-12T00:00:00",
          "2020-09-28T00:00:00",
          "2020-08-03T00:00:00",
          "2020-08-17T00:00:00",
          "2020-07-20T00:00:00",
          "2020-09-14T00:00:00",
          "2020-08-31T00:00:00",
          "2020-05-11T00:00:00",
          "2020-06-22T00:00:00",
          "2020-07-06T00:00:00",
          "2020-05-25T00:00:00",
          "2020-06-08T00:00:00",
          "2022-01-05T00:00:00"
         ],
         "xaxis": "x",
         "y": [
          374670,
          363281,
          351966,
          344500,
          333778,
          331383,
          327337,
          302444,
          280557,
          277844,
          243216,
          205153,
          199741,
          197254,
          187185,
          173286,
          169011,
          168725,
          150683,
          135508,
          133425,
          123716,
          123104,
          121436,
          116398,
          71324,
          70619,
          52251,
          47808,
          46202,
          42410,
          35456,
          27133,
          23133,
          19535,
          18471,
          18421,
          18154,
          17673,
          16436,
          16160,
          15764,
          12903,
          9660,
          979
         ],
         "yaxis": "y"
        }
       ],
       "layout": {
        "barmode": "relative",
        "height": 500,
        "legend": {
         "title": {
          "text": "variant"
         },
         "tracegroupgap": 0
        },
        "margin": {
         "t": 60
        },
        "template": {
         "data": {
          "bar": [
           {
            "error_x": {
             "color": "#2a3f5f"
            },
            "error_y": {
             "color": "#2a3f5f"
            },
            "marker": {
             "line": {
              "color": "#E5ECF6",
              "width": 0.5
             },
             "pattern": {
              "fillmode": "overlay",
              "size": 10,
              "solidity": 0.2
             }
            },
            "type": "bar"
           }
          ],
          "barpolar": [
           {
            "marker": {
             "line": {
              "color": "#E5ECF6",
              "width": 0.5
             },
             "pattern": {
              "fillmode": "overlay",
              "size": 10,
              "solidity": 0.2
             }
            },
            "type": "barpolar"
           }
          ],
          "carpet": [
           {
            "aaxis": {
             "endlinecolor": "#2a3f5f",
             "gridcolor": "white",
             "linecolor": "white",
             "minorgridcolor": "white",
             "startlinecolor": "#2a3f5f"
            },
            "baxis": {
             "endlinecolor": "#2a3f5f",
             "gridcolor": "white",
             "linecolor": "white",
             "minorgridcolor": "white",
             "startlinecolor": "#2a3f5f"
            },
            "type": "carpet"
           }
          ],
          "choropleth": [
           {
            "colorbar": {
             "outlinewidth": 0,
             "ticks": ""
            },
            "type": "choropleth"
           }
          ],
          "contour": [
           {
            "colorbar": {
             "outlinewidth": 0,
             "ticks": ""
            },
            "colorscale": [
             [
              0,
              "#0d0887"
             ],
             [
              0.1111111111111111,
              "#46039f"
             ],
             [
              0.2222222222222222,
              "#7201a8"
             ],
             [
              0.3333333333333333,
              "#9c179e"
             ],
             [
              0.4444444444444444,
              "#bd3786"
             ],
             [
              0.5555555555555556,
              "#d8576b"
             ],
             [
              0.6666666666666666,
              "#ed7953"
             ],
             [
              0.7777777777777778,
              "#fb9f3a"
             ],
             [
              0.8888888888888888,
              "#fdca26"
             ],
             [
              1,
              "#f0f921"
             ]
            ],
            "type": "contour"
           }
          ],
          "contourcarpet": [
           {
            "colorbar": {
             "outlinewidth": 0,
             "ticks": ""
            },
            "type": "contourcarpet"
           }
          ],
          "heatmap": [
           {
            "colorbar": {
             "outlinewidth": 0,
             "ticks": ""
            },
            "colorscale": [
             [
              0,
              "#0d0887"
             ],
             [
              0.1111111111111111,
              "#46039f"
             ],
             [
              0.2222222222222222,
              "#7201a8"
             ],
             [
              0.3333333333333333,
              "#9c179e"
             ],
             [
              0.4444444444444444,
              "#bd3786"
             ],
             [
              0.5555555555555556,
              "#d8576b"
             ],
             [
              0.6666666666666666,
              "#ed7953"
             ],
             [
              0.7777777777777778,
              "#fb9f3a"
             ],
             [
              0.8888888888888888,
              "#fdca26"
             ],
             [
              1,
              "#f0f921"
             ]
            ],
            "type": "heatmap"
           }
          ],
          "heatmapgl": [
           {
            "colorbar": {
             "outlinewidth": 0,
             "ticks": ""
            },
            "colorscale": [
             [
              0,
              "#0d0887"
             ],
             [
              0.1111111111111111,
              "#46039f"
             ],
             [
              0.2222222222222222,
              "#7201a8"
             ],
             [
              0.3333333333333333,
              "#9c179e"
             ],
             [
              0.4444444444444444,
              "#bd3786"
             ],
             [
              0.5555555555555556,
              "#d8576b"
             ],
             [
              0.6666666666666666,
              "#ed7953"
             ],
             [
              0.7777777777777778,
              "#fb9f3a"
             ],
             [
              0.8888888888888888,
              "#fdca26"
             ],
             [
              1,
              "#f0f921"
             ]
            ],
            "type": "heatmapgl"
           }
          ],
          "histogram": [
           {
            "marker": {
             "pattern": {
              "fillmode": "overlay",
              "size": 10,
              "solidity": 0.2
             }
            },
            "type": "histogram"
           }
          ],
          "histogram2d": [
           {
            "colorbar": {
             "outlinewidth": 0,
             "ticks": ""
            },
            "colorscale": [
             [
              0,
              "#0d0887"
             ],
             [
              0.1111111111111111,
              "#46039f"
             ],
             [
              0.2222222222222222,
              "#7201a8"
             ],
             [
              0.3333333333333333,
              "#9c179e"
             ],
             [
              0.4444444444444444,
              "#bd3786"
             ],
             [
              0.5555555555555556,
              "#d8576b"
             ],
             [
              0.6666666666666666,
              "#ed7953"
             ],
             [
              0.7777777777777778,
              "#fb9f3a"
             ],
             [
              0.8888888888888888,
              "#fdca26"
             ],
             [
              1,
              "#f0f921"
             ]
            ],
            "type": "histogram2d"
           }
          ],
          "histogram2dcontour": [
           {
            "colorbar": {
             "outlinewidth": 0,
             "ticks": ""
            },
            "colorscale": [
             [
              0,
              "#0d0887"
             ],
             [
              0.1111111111111111,
              "#46039f"
             ],
             [
              0.2222222222222222,
              "#7201a8"
             ],
             [
              0.3333333333333333,
              "#9c179e"
             ],
             [
              0.4444444444444444,
              "#bd3786"
             ],
             [
              0.5555555555555556,
              "#d8576b"
             ],
             [
              0.6666666666666666,
              "#ed7953"
             ],
             [
              0.7777777777777778,
              "#fb9f3a"
             ],
             [
              0.8888888888888888,
              "#fdca26"
             ],
             [
              1,
              "#f0f921"
             ]
            ],
            "type": "histogram2dcontour"
           }
          ],
          "mesh3d": [
           {
            "colorbar": {
             "outlinewidth": 0,
             "ticks": ""
            },
            "type": "mesh3d"
           }
          ],
          "parcoords": [
           {
            "line": {
             "colorbar": {
              "outlinewidth": 0,
              "ticks": ""
             }
            },
            "type": "parcoords"
           }
          ],
          "pie": [
           {
            "automargin": true,
            "type": "pie"
           }
          ],
          "scatter": [
           {
            "marker": {
             "colorbar": {
              "outlinewidth": 0,
              "ticks": ""
             }
            },
            "type": "scatter"
           }
          ],
          "scatter3d": [
           {
            "line": {
             "colorbar": {
              "outlinewidth": 0,
              "ticks": ""
             }
            },
            "marker": {
             "colorbar": {
              "outlinewidth": 0,
              "ticks": ""
             }
            },
            "type": "scatter3d"
           }
          ],
          "scattercarpet": [
           {
            "marker": {
             "colorbar": {
              "outlinewidth": 0,
              "ticks": ""
             }
            },
            "type": "scattercarpet"
           }
          ],
          "scattergeo": [
           {
            "marker": {
             "colorbar": {
              "outlinewidth": 0,
              "ticks": ""
             }
            },
            "type": "scattergeo"
           }
          ],
          "scattergl": [
           {
            "marker": {
             "colorbar": {
              "outlinewidth": 0,
              "ticks": ""
             }
            },
            "type": "scattergl"
           }
          ],
          "scattermapbox": [
           {
            "marker": {
             "colorbar": {
              "outlinewidth": 0,
              "ticks": ""
             }
            },
            "type": "scattermapbox"
           }
          ],
          "scatterpolar": [
           {
            "marker": {
             "colorbar": {
              "outlinewidth": 0,
              "ticks": ""
             }
            },
            "type": "scatterpolar"
           }
          ],
          "scatterpolargl": [
           {
            "marker": {
             "colorbar": {
              "outlinewidth": 0,
              "ticks": ""
             }
            },
            "type": "scatterpolargl"
           }
          ],
          "scatterternary": [
           {
            "marker": {
             "colorbar": {
              "outlinewidth": 0,
              "ticks": ""
             }
            },
            "type": "scatterternary"
           }
          ],
          "surface": [
           {
            "colorbar": {
             "outlinewidth": 0,
             "ticks": ""
            },
            "colorscale": [
             [
              0,
              "#0d0887"
             ],
             [
              0.1111111111111111,
              "#46039f"
             ],
             [
              0.2222222222222222,
              "#7201a8"
             ],
             [
              0.3333333333333333,
              "#9c179e"
             ],
             [
              0.4444444444444444,
              "#bd3786"
             ],
             [
              0.5555555555555556,
              "#d8576b"
             ],
             [
              0.6666666666666666,
              "#ed7953"
             ],
             [
              0.7777777777777778,
              "#fb9f3a"
             ],
             [
              0.8888888888888888,
              "#fdca26"
             ],
             [
              1,
              "#f0f921"
             ]
            ],
            "type": "surface"
           }
          ],
          "table": [
           {
            "cells": {
             "fill": {
              "color": "#EBF0F8"
             },
             "line": {
              "color": "white"
             }
            },
            "header": {
             "fill": {
              "color": "#C8D4E3"
             },
             "line": {
              "color": "white"
             }
            },
            "type": "table"
           }
          ]
         },
         "layout": {
          "annotationdefaults": {
           "arrowcolor": "#2a3f5f",
           "arrowhead": 0,
           "arrowwidth": 1
          },
          "autotypenumbers": "strict",
          "coloraxis": {
           "colorbar": {
            "outlinewidth": 0,
            "ticks": ""
           }
          },
          "colorscale": {
           "diverging": [
            [
             0,
             "#8e0152"
            ],
            [
             0.1,
             "#c51b7d"
            ],
            [
             0.2,
             "#de77ae"
            ],
            [
             0.3,
             "#f1b6da"
            ],
            [
             0.4,
             "#fde0ef"
            ],
            [
             0.5,
             "#f7f7f7"
            ],
            [
             0.6,
             "#e6f5d0"
            ],
            [
             0.7,
             "#b8e186"
            ],
            [
             0.8,
             "#7fbc41"
            ],
            [
             0.9,
             "#4d9221"
            ],
            [
             1,
             "#276419"
            ]
           ],
           "sequential": [
            [
             0,
             "#0d0887"
            ],
            [
             0.1111111111111111,
             "#46039f"
            ],
            [
             0.2222222222222222,
             "#7201a8"
            ],
            [
             0.3333333333333333,
             "#9c179e"
            ],
            [
             0.4444444444444444,
             "#bd3786"
            ],
            [
             0.5555555555555556,
             "#d8576b"
            ],
            [
             0.6666666666666666,
             "#ed7953"
            ],
            [
             0.7777777777777778,
             "#fb9f3a"
            ],
            [
             0.8888888888888888,
             "#fdca26"
            ],
            [
             1,
             "#f0f921"
            ]
           ],
           "sequentialminus": [
            [
             0,
             "#0d0887"
            ],
            [
             0.1111111111111111,
             "#46039f"
            ],
            [
             0.2222222222222222,
             "#7201a8"
            ],
            [
             0.3333333333333333,
             "#9c179e"
            ],
            [
             0.4444444444444444,
             "#bd3786"
            ],
            [
             0.5555555555555556,
             "#d8576b"
            ],
            [
             0.6666666666666666,
             "#ed7953"
            ],
            [
             0.7777777777777778,
             "#fb9f3a"
            ],
            [
             0.8888888888888888,
             "#fdca26"
            ],
            [
             1,
             "#f0f921"
            ]
           ]
          },
          "colorway": [
           "#636efa",
           "#EF553B",
           "#00cc96",
           "#ab63fa",
           "#FFA15A",
           "#19d3f3",
           "#FF6692",
           "#B6E880",
           "#FF97FF",
           "#FECB52"
          ],
          "font": {
           "color": "#2a3f5f"
          },
          "geo": {
           "bgcolor": "white",
           "lakecolor": "white",
           "landcolor": "#E5ECF6",
           "showlakes": true,
           "showland": true,
           "subunitcolor": "white"
          },
          "hoverlabel": {
           "align": "left"
          },
          "hovermode": "closest",
          "mapbox": {
           "style": "light"
          },
          "paper_bgcolor": "white",
          "plot_bgcolor": "#E5ECF6",
          "polar": {
           "angularaxis": {
            "gridcolor": "white",
            "linecolor": "white",
            "ticks": ""
           },
           "bgcolor": "#E5ECF6",
           "radialaxis": {
            "gridcolor": "white",
            "linecolor": "white",
            "ticks": ""
           }
          },
          "scene": {
           "xaxis": {
            "backgroundcolor": "#E5ECF6",
            "gridcolor": "white",
            "gridwidth": 2,
            "linecolor": "white",
            "showbackground": true,
            "ticks": "",
            "zerolinecolor": "white"
           },
           "yaxis": {
            "backgroundcolor": "#E5ECF6",
            "gridcolor": "white",
            "gridwidth": 2,
            "linecolor": "white",
            "showbackground": true,
            "ticks": "",
            "zerolinecolor": "white"
           },
           "zaxis": {
            "backgroundcolor": "#E5ECF6",
            "gridcolor": "white",
            "gridwidth": 2,
            "linecolor": "white",
            "showbackground": true,
            "ticks": "",
            "zerolinecolor": "white"
           }
          },
          "shapedefaults": {
           "line": {
            "color": "#2a3f5f"
           }
          },
          "ternary": {
           "aaxis": {
            "gridcolor": "white",
            "linecolor": "white",
            "ticks": ""
           },
           "baxis": {
            "gridcolor": "white",
            "linecolor": "white",
            "ticks": ""
           },
           "bgcolor": "#E5ECF6",
           "caxis": {
            "gridcolor": "white",
            "linecolor": "white",
            "ticks": ""
           }
          },
          "title": {
           "x": 0.05
          },
          "xaxis": {
           "automargin": true,
           "gridcolor": "white",
           "linecolor": "white",
           "ticks": "",
           "title": {
            "standoff": 15
           },
           "zerolinecolor": "white",
           "zerolinewidth": 2
          },
          "yaxis": {
           "automargin": true,
           "gridcolor": "white",
           "linecolor": "white",
           "ticks": "",
           "title": {
            "standoff": 15
           },
           "zerolinecolor": "white",
           "zerolinewidth": 2
          }
         }
        },
        "width": 1000,
        "xaxis": {
         "anchor": "y",
         "autorange": true,
         "domain": [
          0,
          1
         ],
         "range": [
          "2020-05-07 12:00",
          "2022-01-08 12:00"
         ],
         "title": {
          "text": "date"
         },
         "type": "date"
        },
        "yaxis": {
         "anchor": "x",
         "autorange": true,
         "domain": [
          0,
          1
         ],
         "range": [
          0,
          9465347.368421054
         ],
         "title": {
          "text": "num_sequences_total"
         },
         "type": "linear"
        }
       }
      },
      "image/png": "[encoded data removed]",
      "text/html": [
       "<div>                            <div id=\"75015713-ca35-4180-b026-309aac39cb2b\" class=\"plotly-graph-div\" style=\"height:500px; width:1000px;\"></div>            <script type=\"text/javascript\">                require([\"plotly\"], function(Plotly) {                    window.PLOTLYENV=window.PLOTLYENV || {};                                    if (document.getElementById(\"75015713-ca35-4180-b026-309aac39cb2b\")) {                    Plotly.newPlot(                        \"75015713-ca35-4180-b026-309aac39cb2b\",                        [{\"alignmentgroup\":\"True\",\"hovertemplate\":\"variant=Delta<br>date=%{x}<br>num_sequences_total=%{y}<extra></extra>\",\"legendgroup\":\"Delta\",\"marker\":{\"color\":\"#636efa\",\"pattern\":{\"shape\":\"\"}},\"name\":\"Delta\",\"offsetgroup\":\"Delta\",\"orientation\":\"v\",\"showlegend\":true,\"textposition\":\"auto\",\"type\":\"bar\",\"x\":[\"2021-08-23T00:00:00\",\"2021-09-06T00:00:00\",\"2021-12-13T00:00:00\",\"2021-08-09T00:00:00\",\"2021-11-15T00:00:00\",\"2021-11-29T00:00:00\",\"2021-09-20T00:00:00\",\"2021-11-01T00:00:00\",\"2021-10-04T00:00:00\",\"2021-10-18T00:00:00\",\"2021-07-26T00:00:00\",\"2021-04-19T00:00:00\",\"2021-04-05T00:00:00\",\"2021-05-03T00:00:00\",\"2021-03-22T00:00:00\",\"2021-12-27T00:00:00\",\"2021-05-17T00:00:00\",\"2021-07-12T00:00:00\",\"2021-03-08T00:00:00\",\"2021-05-31T00:00:00\",\"2021-02-22T00:00:00\",\"2021-02-08T00:00:00\",\"2021-06-14T00:00:00\",\"2021-06-28T00:00:00\",\"2021-01-25T00:00:00\",\"2021-01-04T00:00:00\",\"2020-12-21T00:00:00\",\"2021-01-11T00:00:00\",\"2020-11-23T00:00:00\",\"2020-11-09T00:00:00\",\"2020-12-07T00:00:00\",\"2020-10-26T00:00:00\",\"2020-10-12T00:00:00\",\"2020-09-28T00:00:00\",\"2020-08-03T00:00:00\",\"2020-08-17T00:00:00\",\"2020-07-20T00:00:00\",\"2020-09-14T00:00:00\",\"2020-08-31T00:00:00\",\"2020-05-11T00:00:00\",\"2020-06-22T00:00:00\",\"2020-07-06T00:00:00\",\"2020-05-25T00:00:00\",\"2020-06-08T00:00:00\",\"2022-01-05T00:00:00\"],\"xaxis\":\"x\",\"y\":[374670,363281,351966,344500,333778,331383,327337,302444,280557,277844,243216,205153,199741,197254,187185,173286,169011,168725,150683,135508,133425,123716,123104,121436,116398,71324,70619,52251,47808,46202,42410,35456,27133,23133,19535,18471,18421,18154,17673,16436,16160,15764,12903,9660,979],\"yaxis\":\"y\"},{\"alignmentgroup\":\"True\",\"hovertemplate\":\"variant=Beta<br>date=%{x}<br>num_sequences_total=%{y}<extra></extra>\",\"legendgroup\":\"Beta\",\"marker\":{\"color\":\"#EF553B\",\"pattern\":{\"shape\":\"\"}},\"name\":\"Beta\",\"offsetgroup\":\"Beta\",\"orientation\":\"v\",\"showlegend\":true,\"textposition\":\"auto\",\"type\":\"bar\",\"x\":[\"2021-08-23T00:00:00\",\"2021-09-06T00:00:00\",\"2021-12-13T00:00:00\",\"2021-08-09T00:00:00\",\"2021-11-15T00:00:00\",\"2021-11-29T00:00:00\",\"2021-09-20T00:00:00\",\"2021-11-01T00:00:00\",\"2021-10-04T00:00:00\",\"2021-10-18T00:00:00\",\"2021-07-26T00:00:00\",\"2021-04-19T00:00:00\",\"2021-04-05T00:00:00\",\"2021-05-03T00:00:00\",\"2021-03-22T00:00:00\",\"2021-12-27T00:00:00\",\"2021-05-17T00:00:00\",\"2021-07-12T00:00:00\",\"2021-03-08T00:00:00\",\"2021-05-31T00:00:00\",\"2021-02-22T00:00:00\",\"2021-02-08T00:00:00\",\"2021-06-14T00:00:00\",\"2021-06-28T00:00:00\",\"2021-01-25T00:00:00\",\"2021-01-04T00:00:00\",\"2020-12-21T00:00:00\",\"2021-01-11T00:00:00\",\"2020-11-23T00:00:00\",\"2020-11-09T00:00:00\",\"2020-12-07T00:00:00\",\"2020-10-26T00:00:00\",\"2020-10-12T00:00:00\",\"2020-09-28T00:00:00\",\"2020-08-03T00:00:00\",\"2020-08-17T00:00:00\",\"2020-07-20T00:00:00\",\"2020-09-14T00:00:00\",\"2020-08-31T00:00:00\",\"2020-05-11T00:00:00\",\"2020-06-22T00:00:00\",\"2020-07-06T00:00:00\",\"2020-05-25T00:00:00\",\"2020-06-08T00:00:00\",\"2022-01-05T00:00:00\"],\"xaxis\":\"x\",\"y\":[374670,363281,351966,344500,333778,331383,327337,302444,280557,277844,243216,205153,199741,197254,187185,173286,169011,168725,150683,135508,133425,123716,123104,121436,116398,71324,70619,52251,47808,46202,42410,35456,27133,23133,19535,18471,18421,18154,17673,16436,16160,15764,12903,9660,979],\"yaxis\":\"y\"},{\"alignmentgroup\":\"True\",\"hovertemplate\":\"variant=B.1.1.277<br>date=%{x}<br>num_sequences_total=%{y}<extra></extra>\",\"legendgroup\":\"B.1.1.277\",\"marker\":{\"color\":\"#00cc96\",\"pattern\":{\"shape\":\"\"}},\"name\":\"B.1.1.277\",\"offsetgroup\":\"B.1.1.277\",\"orientation\":\"v\",\"showlegend\":true,\"textposition\":\"auto\",\"type\":\"bar\",\"x\":[\"2021-08-23T00:00:00\",\"2021-09-06T00:00:00\",\"2021-12-13T00:00:00\",\"2021-08-09T00:00:00\",\"2021-11-15T00:00:00\",\"2021-11-29T00:00:00\",\"2021-09-20T00:00:00\",\"2021-11-01T00:00:00\",\"2021-10-04T00:00:00\",\"2021-10-18T00:00:00\",\"2021-07-26T00:00:00\",\"2021-04-19T00:00:00\",\"2021-04-05T00:00:00\",\"2021-05-03T00:00:00\",\"2021-03-22T00:00:00\",\"2021-12-27T00:00:00\",\"2021-05-17T00:00:00\",\"2021-07-12T00:00:00\",\"2021-03-08T00:00:00\",\"2021-05-31T00:00:00\",\"2021-02-22T00:00:00\",\"2021-02-08T00:00:00\",\"2021-06-14T00:00:00\",\"2021-06-28T00:00:00\",\"2021-01-25T00:00:00\",\"2021-01-04T00:00:00\",\"2020-12-21T00:00:00\",\"2021-01-11T00:00:00\",\"2020-11-23T00:00:00\",\"2020-11-09T00:00:00\",\"2020-12-07T00:00:00\",\"2020-10-26T00:00:00\",\"2020-10-12T00:00:00\",\"2020-09-28T00:00:00\",\"2020-08-03T00:00:00\",\"2020-08-17T00:00:00\",\"2020-07-20T00:00:00\",\"2020-09-14T00:00:00\",\"2020-08-31T00:00:00\",\"2020-05-11T00:00:00\",\"2020-06-22T00:00:00\",\"2020-07-06T00:00:00\",\"2020-05-25T00:00:00\",\"2020-06-08T00:00:00\",\"2022-01-05T00:00:00\"],\"xaxis\":\"x\",\"y\":[374670,363281,351966,344500,333778,331383,327337,302444,280557,277844,243216,205153,199741,197254,187185,173286,169011,168725,150683,135508,133425,123716,123104,121436,116398,71324,70619,52251,47808,46202,42410,35456,27133,23133,19535,18471,18421,18154,17673,16436,16160,15764,12903,9660,979],\"yaxis\":\"y\"},{\"alignmentgroup\":\"True\",\"hovertemplate\":\"variant=B.1.1.302<br>date=%{x}<br>num_sequences_total=%{y}<extra></extra>\",\"legendgroup\":\"B.1.1.302\",\"marker\":{\"color\":\"#ab63fa\",\"pattern\":{\"shape\":\"\"}},\"name\":\"B.1.1.302\",\"offsetgroup\":\"B.1.1.302\",\"orientation\":\"v\",\"showlegend\":true,\"textposition\":\"auto\",\"type\":\"bar\",\"x\":[\"2021-08-23T00:00:00\",\"2021-09-06T00:00:00\",\"2021-12-13T00:00:00\",\"2021-08-09T00:00:00\",\"2021-11-15T00:00:00\",\"2021-11-29T00:00:00\",\"2021-09-20T00:00:00\",\"2021-11-01T00:00:00\",\"2021-10-04T00:00:00\",\"2021-10-18T00:00:00\",\"2021-07-26T00:00:00\",\"2021-04-19T00:00:00\",\"2021-04-05T00:00:00\",\"2021-05-03T00:00:00\",\"2021-03-22T00:00:00\",\"2021-12-27T00:00:00\",\"2021-05-17T00:00:00\",\"2021-07-12T00:00:00\",\"2021-03-08T00:00:00\",\"2021-05-31T00:00:00\",\"2021-02-22T00:00:00\",\"2021-02-08T00:00:00\",\"2021-06-14T00:00:00\",\"2021-06-28T00:00:00\",\"2021-01-25T00:00:00\",\"2021-01-04T00:00:00\",\"2020-12-21T00:00:00\",\"2021-01-11T00:00:00\",\"2020-11-23T00:00:00\",\"2020-11-09T00:00:00\",\"2020-12-07T00:00:00\",\"2020-10-26T00:00:00\",\"2020-10-12T00:00:00\",\"2020-09-28T00:00:00\",\"2020-08-03T00:00:00\",\"2020-08-17T00:00:00\",\"2020-07-20T00:00:00\",\"2020-09-14T00:00:00\",\"2020-08-31T00:00:00\",\"2020-05-11T00:00:00\",\"2020-06-22T00:00:00\",\"2020-07-06T00:00:00\",\"2020-05-25T00:00:00\",\"2020-06-08T00:00:00\",\"2022-01-05T00:00:00\"],\"xaxis\":\"x\",\"y\":[374670,363281,351966,344500,333778,331383,327337,302444,280557,277844,243216,205153,199741,197254,187185,173286,169011,168725,150683,135508,133425,123716,123104,121436,116398,71324,70619,52251,47808,46202,42410,35456,27133,23133,19535,18471,18421,18154,17673,16436,16160,15764,12903,9660,979],\"yaxis\":\"y\"},{\"alignmentgroup\":\"True\",\"hovertemplate\":\"variant=B.1.1.519<br>date=%{x}<br>num_sequences_total=%{y}<extra></extra>\",\"legendgroup\":\"B.1.1.519\",\"marker\":{\"color\":\"#FFA15A\",\"pattern\":{\"shape\":\"\"}},\"name\":\"B.1.1.519\",\"offsetgroup\":\"B.1.1.519\",\"orientation\":\"v\",\"showlegend\":true,\"textposition\":\"auto\",\"type\":\"bar\",\"x\":[\"2021-08-23T00:00:00\",\"2021-09-06T00:00:00\",\"2021-12-13T00:00:00\",\"2021-08-09T00:00:00\",\"2021-11-15T00:00:00\",\"2021-11-29T00:00:00\",\"2021-09-20T00:00:00\",\"2021-11-01T00:00:00\",\"2021-10-04T00:00:00\",\"2021-10-18T00:00:00\",\"2021-07-26T00:00:00\",\"2021-04-19T00:00:00\",\"2021-04-05T00:00:00\",\"2021-05-03T00:00:00\",\"2021-03-22T00:00:00\",\"2021-12-27T00:00:00\",\"2021-05-17T00:00:00\",\"2021-07-12T00:00:00\",\"2021-03-08T00:00:00\",\"2021-05-31T00:00:00\",\"2021-02-22T00:00:00\",\"2021-02-08T00:00:00\",\"2021-06-14T00:00:00\",\"2021-06-28T00:00:00\",\"2021-01-25T00:00:00\",\"2021-01-04T00:00:00\",\"2020-12-21T00:00:00\",\"2021-01-11T00:00:00\",\"2020-11-23T00:00:00\",\"2020-11-09T00:00:00\",\"2020-12-07T00:00:00\",\"2020-10-26T00:00:00\",\"2020-10-12T00:00:00\",\"2020-09-28T00:00:00\",\"2020-08-03T00:00:00\",\"2020-08-17T00:00:00\",\"2020-07-20T00:00:00\",\"2020-09-14T00:00:00\",\"2020-08-31T00:00:00\",\"2020-05-11T00:00:00\",\"2020-06-22T00:00:00\",\"2020-07-06T00:00:00\",\"2020-05-25T00:00:00\",\"2020-06-08T00:00:00\",\"2022-01-05T00:00:00\"],\"xaxis\":\"x\",\"y\":[374670,363281,351966,344500,333778,331383,327337,302444,280557,277844,243216,205153,199741,197254,187185,173286,169011,168725,150683,135508,133425,123716,123104,121436,116398,71324,70619,52251,47808,46202,42410,35456,27133,23133,19535,18471,18421,18154,17673,16436,16160,15764,12903,9660,979],\"yaxis\":\"y\"},{\"alignmentgroup\":\"True\",\"hovertemplate\":\"variant=B.1.160<br>date=%{x}<br>num_sequences_total=%{y}<extra></extra>\",\"legendgroup\":\"B.1.160\",\"marker\":{\"color\":\"#19d3f3\",\"pattern\":{\"shape\":\"\"}},\"name\":\"B.1.160\",\"offsetgroup\":\"B.1.160\",\"orientation\":\"v\",\"showlegend\":true,\"textposition\":\"auto\",\"type\":\"bar\",\"x\":[\"2021-08-23T00:00:00\",\"2021-09-06T00:00:00\",\"2021-12-13T00:00:00\",\"2021-08-09T00:00:00\",\"2021-11-15T00:00:00\",\"2021-11-29T00:00:00\",\"2021-09-20T00:00:00\",\"2021-11-01T00:00:00\",\"2021-10-04T00:00:00\",\"2021-10-18T00:00:00\",\"2021-07-26T00:00:00\",\"2021-04-19T00:00:00\",\"2021-04-05T00:00:00\",\"2021-05-03T00:00:00\",\"2021-03-22T00:00:00\",\"2021-12-27T00:00:00\",\"2021-05-17T00:00:00\",\"2021-07-12T00:00:00\",\"2021-03-08T00:00:00\",\"2021-05-31T00:00:00\",\"2021-02-22T00:00:00\",\"2021-02-08T00:00:00\",\"2021-06-14T00:00:00\",\"2021-06-28T00:00:00\",\"2021-01-25T00:00:00\",\"2021-01-04T00:00:00\",\"2020-12-21T00:00:00\",\"2021-01-11T00:00:00\",\"2020-11-23T00:00:00\",\"2020-11-09T00:00:00\",\"2020-12-07T00:00:00\",\"2020-10-26T00:00:00\",\"2020-10-12T00:00:00\",\"2020-09-28T00:00:00\",\"2020-08-03T00:00:00\",\"2020-08-17T00:00:00\",\"2020-07-20T00:00:00\",\"2020-09-14T00:00:00\",\"2020-08-31T00:00:00\",\"2020-05-11T00:00:00\",\"2020-06-22T00:00:00\",\"2020-07-06T00:00:00\",\"2020-05-25T00:00:00\",\"2020-06-08T00:00:00\",\"2022-01-05T00:00:00\"],\"xaxis\":\"x\",\"y\":[374670,363281,351966,344500,333778,331383,327337,302444,280557,277844,243216,205153,199741,197254,187185,173286,169011,168725,150683,135508,133425,123716,123104,121436,116398,71324,70619,52251,47808,46202,42410,35456,27133,23133,19535,18471,18421,18154,17673,16436,16160,15764,12903,9660,979],\"yaxis\":\"y\"},{\"alignmentgroup\":\"True\",\"hovertemplate\":\"variant=B.1.177<br>date=%{x}<br>num_sequences_total=%{y}<extra></extra>\",\"legendgroup\":\"B.1.177\",\"marker\":{\"color\":\"#FF6692\",\"pattern\":{\"shape\":\"\"}},\"name\":\"B.1.177\",\"offsetgroup\":\"B.1.177\",\"orientation\":\"v\",\"showlegend\":true,\"textposition\":\"auto\",\"type\":\"bar\",\"x\":[\"2021-08-23T00:00:00\",\"2021-09-06T00:00:00\",\"2021-12-13T00:00:00\",\"2021-08-09T00:00:00\",\"2021-11-15T00:00:00\",\"2021-11-29T00:00:00\",\"2021-09-20T00:00:00\",\"2021-11-01T00:00:00\",\"2021-10-04T00:00:00\",\"2021-10-18T00:00:00\",\"2021-07-26T00:00:00\",\"2021-04-19T00:00:00\",\"2021-04-05T00:00:00\",\"2021-05-03T00:00:00\",\"2021-03-22T00:00:00\",\"2021-12-27T00:00:00\",\"2021-05-17T00:00:00\",\"2021-07-12T00:00:00\",\"2021-03-08T00:00:00\",\"2021-05-31T00:00:00\",\"2021-02-22T00:00:00\",\"2021-02-08T00:00:00\",\"2021-06-14T00:00:00\",\"2021-06-28T00:00:00\",\"2021-01-25T00:00:00\",\"2021-01-04T00:00:00\",\"2020-12-21T00:00:00\",\"2021-01-11T00:00:00\",\"2020-11-23T00:00:00\",\"2020-11-09T00:00:00\",\"2020-12-07T00:00:00\",\"2020-10-26T00:00:00\",\"2020-10-12T00:00:00\",\"2020-09-28T00:00:00\",\"2020-08-03T00:00:00\",\"2020-08-17T00:00:00\",\"2020-07-20T00:00:00\",\"2020-09-14T00:00:00\",\"2020-08-31T00:00:00\",\"2020-05-11T00:00:00\",\"2020-06-22T00:00:00\",\"2020-07-06T00:00:00\",\"2020-05-25T00:00:00\",\"2020-06-08T00:00:00\",\"2022-01-05T00:00:00\"],\"xaxis\":\"x\",\"y\":[374670,363281,351966,344500,333778,331383,327337,302444,280557,277844,243216,205153,199741,197254,187185,173286,169011,168725,150683,135508,133425,123716,123104,121436,116398,71324,70619,52251,47808,46202,42410,35456,27133,23133,19535,18471,18421,18154,17673,16436,16160,15764,12903,9660,979],\"yaxis\":\"y\"},{\"alignmentgroup\":\"True\",\"hovertemplate\":\"variant=B.1.221<br>date=%{x}<br>num_sequences_total=%{y}<extra></extra>\",\"legendgroup\":\"B.1.221\",\"marker\":{\"color\":\"#B6E880\",\"pattern\":{\"shape\":\"\"}},\"name\":\"B.1.221\",\"offsetgroup\":\"B.1.221\",\"orientation\":\"v\",\"showlegend\":true,\"textposition\":\"auto\",\"type\":\"bar\",\"x\":[\"2021-08-23T00:00:00\",\"2021-09-06T00:00:00\",\"2021-12-13T00:00:00\",\"2021-08-09T00:00:00\",\"2021-11-15T00:00:00\",\"2021-11-29T00:00:00\",\"2021-09-20T00:00:00\",\"2021-11-01T00:00:00\",\"2021-10-04T00:00:00\",\"2021-10-18T00:00:00\",\"2021-07-26T00:00:00\",\"2021-04-19T00:00:00\",\"2021-04-05T00:00:00\",\"2021-05-03T00:00:00\",\"2021-03-22T00:00:00\",\"2021-12-27T00:00:00\",\"2021-05-17T00:00:00\",\"2021-07-12T00:00:00\",\"2021-03-08T00:00:00\",\"2021-05-31T00:00:00\",\"2021-02-22T00:00:00\",\"2021-02-08T00:00:00\",\"2021-06-14T00:00:00\",\"2021-06-28T00:00:00\",\"2021-01-25T00:00:00\",\"2021-01-04T00:00:00\",\"2020-12-21T00:00:00\",\"2021-01-11T00:00:00\",\"2020-11-23T00:00:00\",\"2020-11-09T00:00:00\",\"2020-12-07T00:00:00\",\"2020-10-26T00:00:00\",\"2020-10-12T00:00:00\",\"2020-09-28T00:00:00\",\"2020-08-03T00:00:00\",\"2020-08-17T00:00:00\",\"2020-07-20T00:00:00\",\"2020-09-14T00:00:00\",\"2020-08-31T00:00:00\",\"2020-05-11T00:00:00\",\"2020-06-22T00:00:00\",\"2020-07-06T00:00:00\",\"2020-05-25T00:00:00\",\"2020-06-08T00:00:00\",\"2022-01-05T00:00:00\"],\"xaxis\":\"x\",\"y\":[374670,363281,351966,344500,333778,331383,327337,302444,280557,277844,243216,205153,199741,197254,187185,173286,169011,168725,150683,135508,133425,123716,123104,121436,116398,71324,70619,52251,47808,46202,42410,35456,27133,23133,19535,18471,18421,18154,17673,16436,16160,15764,12903,9660,979],\"yaxis\":\"y\"},{\"alignmentgroup\":\"True\",\"hovertemplate\":\"variant=B.1.258<br>date=%{x}<br>num_sequences_total=%{y}<extra></extra>\",\"legendgroup\":\"B.1.258\",\"marker\":{\"color\":\"#FF97FF\",\"pattern\":{\"shape\":\"\"}},\"name\":\"B.1.258\",\"offsetgroup\":\"B.1.258\",\"orientation\":\"v\",\"showlegend\":true,\"textposition\":\"auto\",\"type\":\"bar\",\"x\":[\"2021-08-23T00:00:00\",\"2021-09-06T00:00:00\",\"2021-12-13T00:00:00\",\"2021-08-09T00:00:00\",\"2021-11-15T00:00:00\",\"2021-11-29T00:00:00\",\"2021-09-20T00:00:00\",\"2021-11-01T00:00:00\",\"2021-10-04T00:00:00\",\"2021-10-18T00:00:00\",\"2021-07-26T00:00:00\",\"2021-04-19T00:00:00\",\"2021-04-05T00:00:00\",\"2021-05-03T00:00:00\",\"2021-03-22T00:00:00\",\"2021-12-27T00:00:00\",\"2021-05-17T00:00:00\",\"2021-07-12T00:00:00\",\"2021-03-08T00:00:00\",\"2021-05-31T00:00:00\",\"2021-02-22T00:00:00\",\"2021-02-08T00:00:00\",\"2021-06-14T00:00:00\",\"2021-06-28T00:00:00\",\"2021-01-25T00:00:00\",\"2021-01-04T00:00:00\",\"2020-12-21T00:00:00\",\"2021-01-11T00:00:00\",\"2020-11-23T00:00:00\",\"2020-11-09T00:00:00\",\"2020-12-07T00:00:00\",\"2020-10-26T00:00:00\",\"2020-10-12T00:00:00\",\"2020-09-28T00:00:00\",\"2020-08-03T00:00:00\",\"2020-08-17T00:00:00\",\"2020-07-20T00:00:00\",\"2020-09-14T00:00:00\",\"2020-08-31T00:00:00\",\"2020-05-11T00:00:00\",\"2020-06-22T00:00:00\",\"2020-07-06T00:00:00\",\"2020-05-25T00:00:00\",\"2020-06-08T00:00:00\",\"2022-01-05T00:00:00\"],\"xaxis\":\"x\",\"y\":[374670,363281,351966,344500,333778,331383,327337,302444,280557,277844,243216,205153,199741,197254,187185,173286,169011,168725,150683,135508,133425,123716,123104,121436,116398,71324,70619,52251,47808,46202,42410,35456,27133,23133,19535,18471,18421,18154,17673,16436,16160,15764,12903,9660,979],\"yaxis\":\"y\"},{\"alignmentgroup\":\"True\",\"hovertemplate\":\"variant=B.1.367<br>date=%{x}<br>num_sequences_total=%{y}<extra></extra>\",\"legendgroup\":\"B.1.367\",\"marker\":{\"color\":\"#FECB52\",\"pattern\":{\"shape\":\"\"}},\"name\":\"B.1.367\",\"offsetgroup\":\"B.1.367\",\"orientation\":\"v\",\"showlegend\":true,\"textposition\":\"auto\",\"type\":\"bar\",\"x\":[\"2021-08-23T00:00:00\",\"2021-09-06T00:00:00\",\"2021-12-13T00:00:00\",\"2021-08-09T00:00:00\",\"2021-11-15T00:00:00\",\"2021-11-29T00:00:00\",\"2021-09-20T00:00:00\",\"2021-11-01T00:00:00\",\"2021-10-04T00:00:00\",\"2021-10-18T00:00:00\",\"2021-07-26T00:00:00\",\"2021-04-19T00:00:00\",\"2021-04-05T00:00:00\",\"2021-05-03T00:00:00\",\"2021-03-22T00:00:00\",\"2021-12-27T00:00:00\",\"2021-05-17T00:00:00\",\"2021-07-12T00:00:00\",\"2021-03-08T00:00:00\",\"2021-05-31T00:00:00\",\"2021-02-22T00:00:00\",\"2021-02-08T00:00:00\",\"2021-06-14T00:00:00\",\"2021-06-28T00:00:00\",\"2021-01-25T00:00:00\",\"2021-01-04T00:00:00\",\"2020-12-21T00:00:00\",\"2021-01-11T00:00:00\",\"2020-11-23T00:00:00\",\"2020-11-09T00:00:00\",\"2020-12-07T00:00:00\",\"2020-10-26T00:00:00\",\"2020-10-12T00:00:00\",\"2020-09-28T00:00:00\",\"2020-08-03T00:00:00\",\"2020-08-17T00:00:00\",\"2020-07-20T00:00:00\",\"2020-09-14T00:00:00\",\"2020-08-31T00:00:00\",\"2020-05-11T00:00:00\",\"2020-06-22T00:00:00\",\"2020-07-06T00:00:00\",\"2020-05-25T00:00:00\",\"2020-06-08T00:00:00\",\"2022-01-05T00:00:00\"],\"xaxis\":\"x\",\"y\":[374670,363281,351966,344500,333778,331383,327337,302444,280557,277844,243216,205153,199741,197254,187185,173286,169011,168725,150683,135508,133425,123716,123104,121436,116398,71324,70619,52251,47808,46202,42410,35456,27133,23133,19535,18471,18421,18154,17673,16436,16160,15764,12903,9660,979],\"yaxis\":\"y\"},{\"alignmentgroup\":\"True\",\"hovertemplate\":\"variant=B.1.620<br>date=%{x}<br>num_sequences_total=%{y}<extra></extra>\",\"legendgroup\":\"B.1.620\",\"marker\":{\"color\":\"#636efa\",\"pattern\":{\"shape\":\"\"}},\"name\":\"B.1.620\",\"offsetgroup\":\"B.1.620\",\"orientation\":\"v\",\"showlegend\":true,\"textposition\":\"auto\",\"type\":\"bar\",\"x\":[\"2021-08-23T00:00:00\",\"2021-09-06T00:00:00\",\"2021-12-13T00:00:00\",\"2021-08-09T00:00:00\",\"2021-11-15T00:00:00\",\"2021-11-29T00:00:00\",\"2021-09-20T00:00:00\",\"2021-11-01T00:00:00\",\"2021-10-04T00:00:00\",\"2021-10-18T00:00:00\",\"2021-07-26T00:00:00\",\"2021-04-19T00:00:00\",\"2021-04-05T00:00:00\",\"2021-05-03T00:00:00\",\"2021-03-22T00:00:00\",\"2021-12-27T00:00:00\",\"2021-05-17T00:00:00\",\"2021-07-12T00:00:00\",\"2021-03-08T00:00:00\",\"2021-05-31T00:00:00\",\"2021-02-22T00:00:00\",\"2021-02-08T00:00:00\",\"2021-06-14T00:00:00\",\"2021-06-28T00:00:00\",\"2021-01-25T00:00:00\",\"2021-01-04T00:00:00\",\"2020-12-21T00:00:00\",\"2021-01-11T00:00:00\",\"2020-11-23T00:00:00\",\"2020-11-09T00:00:00\",\"2020-12-07T00:00:00\",\"2020-10-26T00:00:00\",\"2020-10-12T00:00:00\",\"2020-09-28T00:00:00\",\"2020-08-03T00:00:00\",\"2020-08-17T00:00:00\",\"2020-07-20T00:00:00\",\"2020-09-14T00:00:00\",\"2020-08-31T00:00:00\",\"2020-05-11T00:00:00\",\"2020-06-22T00:00:00\",\"2020-07-06T00:00:00\",\"2020-05-25T00:00:00\",\"2020-06-08T00:00:00\",\"2022-01-05T00:00:00\"],\"xaxis\":\"x\",\"y\":[374670,363281,351966,344500,333778,331383,327337,302444,280557,277844,243216,205153,199741,197254,187185,173286,169011,168725,150683,135508,133425,123716,123104,121436,116398,71324,70619,52251,47808,46202,42410,35456,27133,23133,19535,18471,18421,18154,17673,16436,16160,15764,12903,9660,979],\"yaxis\":\"y\"},{\"alignmentgroup\":\"True\",\"hovertemplate\":\"variant=Epsilon<br>date=%{x}<br>num_sequences_total=%{y}<extra></extra>\",\"legendgroup\":\"Epsilon\",\"marker\":{\"color\":\"#EF553B\",\"pattern\":{\"shape\":\"\"}},\"name\":\"Epsilon\",\"offsetgroup\":\"Epsilon\",\"orientation\":\"v\",\"showlegend\":true,\"textposition\":\"auto\",\"type\":\"bar\",\"x\":[\"2021-08-23T00:00:00\",\"2021-09-06T00:00:00\",\"2021-12-13T00:00:00\",\"2021-08-09T00:00:00\",\"2021-11-15T00:00:00\",\"2021-11-29T00:00:00\",\"2021-09-20T00:00:00\",\"2021-11-01T00:00:00\",\"2021-10-04T00:00:00\",\"2021-10-18T00:00:00\",\"2021-07-26T00:00:00\",\"2021-04-19T00:00:00\",\"2021-04-05T00:00:00\",\"2021-05-03T00:00:00\",\"2021-03-22T00:00:00\",\"2021-12-27T00:00:00\",\"2021-05-17T00:00:00\",\"2021-07-12T00:00:00\",\"2021-03-08T00:00:00\",\"2021-05-31T00:00:00\",\"2021-02-22T00:00:00\",\"2021-02-08T00:00:00\",\"2021-06-14T00:00:00\",\"2021-06-28T00:00:00\",\"2021-01-25T00:00:00\",\"2021-01-04T00:00:00\",\"2020-12-21T00:00:00\",\"2021-01-11T00:00:00\",\"2020-11-23T00:00:00\",\"2020-11-09T00:00:00\",\"2020-12-07T00:00:00\",\"2020-10-26T00:00:00\",\"2020-10-12T00:00:00\",\"2020-09-28T00:00:00\",\"2020-08-03T00:00:00\",\"2020-08-17T00:00:00\",\"2020-07-20T00:00:00\",\"2020-09-14T00:00:00\",\"2020-08-31T00:00:00\",\"2020-05-11T00:00:00\",\"2020-06-22T00:00:00\",\"2020-07-06T00:00:00\",\"2020-05-25T00:00:00\",\"2020-06-08T00:00:00\",\"2022-01-05T00:00:00\"],\"xaxis\":\"x\",\"y\":[374670,363281,351966,344500,333778,331383,327337,302444,280557,277844,243216,205153,199741,197254,187185,173286,169011,168725,150683,135508,133425,123716,123104,121436,116398,71324,70619,52251,47808,46202,42410,35456,27133,23133,19535,18471,18421,18154,17673,16436,16160,15764,12903,9660,979],\"yaxis\":\"y\"},{\"alignmentgroup\":\"True\",\"hovertemplate\":\"variant=non_who<br>date=%{x}<br>num_sequences_total=%{y}<extra></extra>\",\"legendgroup\":\"non_who\",\"marker\":{\"color\":\"#00cc96\",\"pattern\":{\"shape\":\"\"}},\"name\":\"non_who\",\"offsetgroup\":\"non_who\",\"orientation\":\"v\",\"showlegend\":true,\"textposition\":\"auto\",\"type\":\"bar\",\"x\":[\"2021-08-23T00:00:00\",\"2021-09-06T00:00:00\",\"2021-12-13T00:00:00\",\"2021-08-09T00:00:00\",\"2021-11-15T00:00:00\",\"2021-11-29T00:00:00\",\"2021-09-20T00:00:00\",\"2021-11-01T00:00:00\",\"2021-10-04T00:00:00\",\"2021-10-18T00:00:00\",\"2021-07-26T00:00:00\",\"2021-04-19T00:00:00\",\"2021-04-05T00:00:00\",\"2021-05-03T00:00:00\",\"2021-03-22T00:00:00\",\"2021-12-27T00:00:00\",\"2021-05-17T00:00:00\",\"2021-07-12T00:00:00\",\"2021-03-08T00:00:00\",\"2021-05-31T00:00:00\",\"2021-02-22T00:00:00\",\"2021-02-08T00:00:00\",\"2021-06-14T00:00:00\",\"2021-06-28T00:00:00\",\"2021-01-25T00:00:00\",\"2021-01-04T00:00:00\",\"2020-12-21T00:00:00\",\"2021-01-11T00:00:00\",\"2020-11-23T00:00:00\",\"2020-11-09T00:00:00\",\"2020-12-07T00:00:00\",\"2020-10-26T00:00:00\",\"2020-10-12T00:00:00\",\"2020-09-28T00:00:00\",\"2020-08-03T00:00:00\",\"2020-08-17T00:00:00\",\"2020-07-20T00:00:00\",\"2020-09-14T00:00:00\",\"2020-08-31T00:00:00\",\"2020-05-11T00:00:00\",\"2020-06-22T00:00:00\",\"2020-07-06T00:00:00\",\"2020-05-25T00:00:00\",\"2020-06-08T00:00:00\",\"2022-01-05T00:00:00\"],\"xaxis\":\"x\",\"y\":[374670,363281,351966,344500,333778,331383,327337,302444,280557,277844,243216,205153,199741,197254,187185,173286,169011,168725,150683,135508,133425,123716,123104,121436,116398,71324,70619,52251,47808,46202,42410,35456,27133,23133,19535,18471,18421,18154,17673,16436,16160,15764,12903,9660,979],\"yaxis\":\"y\"},{\"alignmentgroup\":\"True\",\"hovertemplate\":\"variant=Eta<br>date=%{x}<br>num_sequences_total=%{y}<extra></extra>\",\"legendgroup\":\"Eta\",\"marker\":{\"color\":\"#ab63fa\",\"pattern\":{\"shape\":\"\"}},\"name\":\"Eta\",\"offsetgroup\":\"Eta\",\"orientation\":\"v\",\"showlegend\":true,\"textposition\":\"auto\",\"type\":\"bar\",\"x\":[\"2021-08-23T00:00:00\",\"2021-09-06T00:00:00\",\"2021-12-13T00:00:00\",\"2021-08-09T00:00:00\",\"2021-11-15T00:00:00\",\"2021-11-29T00:00:00\",\"2021-09-20T00:00:00\",\"2021-11-01T00:00:00\",\"2021-10-04T00:00:00\",\"2021-10-18T00:00:00\",\"2021-07-26T00:00:00\",\"2021-04-19T00:00:00\",\"2021-04-05T00:00:00\",\"2021-05-03T00:00:00\",\"2021-03-22T00:00:00\",\"2021-12-27T00:00:00\",\"2021-05-17T00:00:00\",\"2021-07-12T00:00:00\",\"2021-03-08T00:00:00\",\"2021-05-31T00:00:00\",\"2021-02-22T00:00:00\",\"2021-02-08T00:00:00\",\"2021-06-14T00:00:00\",\"2021-06-28T00:00:00\",\"2021-01-25T00:00:00\",\"2021-01-04T00:00:00\",\"2020-12-21T00:00:00\",\"2021-01-11T00:00:00\",\"2020-11-23T00:00:00\",\"2020-11-09T00:00:00\",\"2020-12-07T00:00:00\",\"2020-10-26T00:00:00\",\"2020-10-12T00:00:00\",\"2020-09-28T00:00:00\",\"2020-08-03T00:00:00\",\"2020-08-17T00:00:00\",\"2020-07-20T00:00:00\",\"2020-09-14T00:00:00\",\"2020-08-31T00:00:00\",\"2020-05-11T00:00:00\",\"2020-06-22T00:00:00\",\"2020-07-06T00:00:00\",\"2020-05-25T00:00:00\",\"2020-06-08T00:00:00\",\"2022-01-05T00:00:00\"],\"xaxis\":\"x\",\"y\":[374670,363281,351966,344500,333778,331383,327337,302444,280557,277844,243216,205153,199741,197254,187185,173286,169011,168725,150683,135508,133425,123716,123104,121436,116398,71324,70619,52251,47808,46202,42410,35456,27133,23133,19535,18471,18421,18154,17673,16436,16160,15764,12903,9660,979],\"yaxis\":\"y\"},{\"alignmentgroup\":\"True\",\"hovertemplate\":\"variant=Gamma<br>date=%{x}<br>num_sequences_total=%{y}<extra></extra>\",\"legendgroup\":\"Gamma\",\"marker\":{\"color\":\"#FFA15A\",\"pattern\":{\"shape\":\"\"}},\"name\":\"Gamma\",\"offsetgroup\":\"Gamma\",\"orientation\":\"v\",\"showlegend\":true,\"textposition\":\"auto\",\"type\":\"bar\",\"x\":[\"2021-08-23T00:00:00\",\"2021-09-06T00:00:00\",\"2021-12-13T00:00:00\",\"2021-08-09T00:00:00\",\"2021-11-15T00:00:00\",\"2021-11-29T00:00:00\",\"2021-09-20T00:00:00\",\"2021-11-01T00:00:00\",\"2021-10-04T00:00:00\",\"2021-10-18T00:00:00\",\"2021-07-26T00:00:00\",\"2021-04-19T00:00:00\",\"2021-04-05T00:00:00\",\"2021-05-03T00:00:00\",\"2021-03-22T00:00:00\",\"2021-12-27T00:00:00\",\"2021-05-17T00:00:00\",\"2021-07-12T00:00:00\",\"2021-03-08T00:00:00\",\"2021-05-31T00:00:00\",\"2021-02-22T00:00:00\",\"2021-02-08T00:00:00\",\"2021-06-14T00:00:00\",\"2021-06-28T00:00:00\",\"2021-01-25T00:00:00\",\"2021-01-04T00:00:00\",\"2020-12-21T00:00:00\",\"2021-01-11T00:00:00\",\"2020-11-23T00:00:00\",\"2020-11-09T00:00:00\",\"2020-12-07T00:00:00\",\"2020-10-26T00:00:00\",\"2020-10-12T00:00:00\",\"2020-09-28T00:00:00\",\"2020-08-03T00:00:00\",\"2020-08-17T00:00:00\",\"2020-07-20T00:00:00\",\"2020-09-14T00:00:00\",\"2020-08-31T00:00:00\",\"2020-05-11T00:00:00\",\"2020-06-22T00:00:00\",\"2020-07-06T00:00:00\",\"2020-05-25T00:00:00\",\"2020-06-08T00:00:00\",\"2022-01-05T00:00:00\"],\"xaxis\":\"x\",\"y\":[374670,363281,351966,344500,333778,331383,327337,302444,280557,277844,243216,205153,199741,197254,187185,173286,169011,168725,150683,135508,133425,123716,123104,121436,116398,71324,70619,52251,47808,46202,42410,35456,27133,23133,19535,18471,18421,18154,17673,16436,16160,15764,12903,9660,979],\"yaxis\":\"y\"},{\"alignmentgroup\":\"True\",\"hovertemplate\":\"variant=Iota<br>date=%{x}<br>num_sequences_total=%{y}<extra></extra>\",\"legendgroup\":\"Iota\",\"marker\":{\"color\":\"#19d3f3\",\"pattern\":{\"shape\":\"\"}},\"name\":\"Iota\",\"offsetgroup\":\"Iota\",\"orientation\":\"v\",\"showlegend\":true,\"textposition\":\"auto\",\"type\":\"bar\",\"x\":[\"2021-08-23T00:00:00\",\"2021-09-06T00:00:00\",\"2021-12-13T00:00:00\",\"2021-08-09T00:00:00\",\"2021-11-15T00:00:00\",\"2021-11-29T00:00:00\",\"2021-09-20T00:00:00\",\"2021-11-01T00:00:00\",\"2021-10-04T00:00:00\",\"2021-10-18T00:00:00\",\"2021-07-26T00:00:00\",\"2021-04-19T00:00:00\",\"2021-04-05T00:00:00\",\"2021-05-03T00:00:00\",\"2021-03-22T00:00:00\",\"2021-12-27T00:00:00\",\"2021-05-17T00:00:00\",\"2021-07-12T00:00:00\",\"2021-03-08T00:00:00\",\"2021-05-31T00:00:00\",\"2021-02-22T00:00:00\",\"2021-02-08T00:00:00\",\"2021-06-14T00:00:00\",\"2021-06-28T00:00:00\",\"2021-01-25T00:00:00\",\"2021-01-04T00:00:00\",\"2020-12-21T00:00:00\",\"2021-01-11T00:00:00\",\"2020-11-23T00:00:00\",\"2020-11-09T00:00:00\",\"2020-12-07T00:00:00\",\"2020-10-26T00:00:00\",\"2020-10-12T00:00:00\",\"2020-09-28T00:00:00\",\"2020-08-03T00:00:00\",\"2020-08-17T00:00:00\",\"2020-07-20T00:00:00\",\"2020-09-14T00:00:00\",\"2020-08-31T00:00:00\",\"2020-05-11T00:00:00\",\"2020-06-22T00:00:00\",\"2020-07-06T00:00:00\",\"2020-05-25T00:00:00\",\"2020-06-08T00:00:00\",\"2022-01-05T00:00:00\"],\"xaxis\":\"x\",\"y\":[374670,363281,351966,344500,333778,331383,327337,302444,280557,277844,243216,205153,199741,197254,187185,173286,169011,168725,150683,135508,133425,123716,123104,121436,116398,71324,70619,52251,47808,46202,42410,35456,27133,23133,19535,18471,18421,18154,17673,16436,16160,15764,12903,9660,979],\"yaxis\":\"y\"},{\"alignmentgroup\":\"True\",\"hovertemplate\":\"variant=Kappa<br>date=%{x}<br>num_sequences_total=%{y}<extra></extra>\",\"legendgroup\":\"Kappa\",\"marker\":{\"color\":\"#FF6692\",\"pattern\":{\"shape\":\"\"}},\"name\":\"Kappa\",\"offsetgroup\":\"Kappa\",\"orientation\":\"v\",\"showlegend\":true,\"textposition\":\"auto\",\"type\":\"bar\",\"x\":[\"2021-08-23T00:00:00\",\"2021-09-06T00:00:00\",\"2021-12-13T00:00:00\",\"2021-08-09T00:00:00\",\"2021-11-15T00:00:00\",\"2021-11-29T00:00:00\",\"2021-09-20T00:00:00\",\"2021-11-01T00:00:00\",\"2021-10-04T00:00:00\",\"2021-10-18T00:00:00\",\"2021-07-26T00:00:00\",\"2021-04-19T00:00:00\",\"2021-04-05T00:00:00\",\"2021-05-03T00:00:00\",\"2021-03-22T00:00:00\",\"2021-12-27T00:00:00\",\"2021-05-17T00:00:00\",\"2021-07-12T00:00:00\",\"2021-03-08T00:00:00\",\"2021-05-31T00:00:00\",\"2021-02-22T00:00:00\",\"2021-02-08T00:00:00\",\"2021-06-14T00:00:00\",\"2021-06-28T00:00:00\",\"2021-01-25T00:00:00\",\"2021-01-04T00:00:00\",\"2020-12-21T00:00:00\",\"2021-01-11T00:00:00\",\"2020-11-23T00:00:00\",\"2020-11-09T00:00:00\",\"2020-12-07T00:00:00\",\"2020-10-26T00:00:00\",\"2020-10-12T00:00:00\",\"2020-09-28T00:00:00\",\"2020-08-03T00:00:00\",\"2020-08-17T00:00:00\",\"2020-07-20T00:00:00\",\"2020-09-14T00:00:00\",\"2020-08-31T00:00:00\",\"2020-05-11T00:00:00\",\"2020-06-22T00:00:00\",\"2020-07-06T00:00:00\",\"2020-05-25T00:00:00\",\"2020-06-08T00:00:00\",\"2022-01-05T00:00:00\"],\"xaxis\":\"x\",\"y\":[374670,363281,351966,344500,333778,331383,327337,302444,280557,277844,243216,205153,199741,197254,187185,173286,169011,168725,150683,135508,133425,123716,123104,121436,116398,71324,70619,52251,47808,46202,42410,35456,27133,23133,19535,18471,18421,18154,17673,16436,16160,15764,12903,9660,979],\"yaxis\":\"y\"},{\"alignmentgroup\":\"True\",\"hovertemplate\":\"variant=Lambda<br>date=%{x}<br>num_sequences_total=%{y}<extra></extra>\",\"legendgroup\":\"Lambda\",\"marker\":{\"color\":\"#B6E880\",\"pattern\":{\"shape\":\"\"}},\"name\":\"Lambda\",\"offsetgroup\":\"Lambda\",\"orientation\":\"v\",\"showlegend\":true,\"textposition\":\"auto\",\"type\":\"bar\",\"x\":[\"2021-08-23T00:00:00\",\"2021-09-06T00:00:00\",\"2021-12-13T00:00:00\",\"2021-08-09T00:00:00\",\"2021-11-15T00:00:00\",\"2021-11-29T00:00:00\",\"2021-09-20T00:00:00\",\"2021-11-01T00:00:00\",\"2021-10-04T00:00:00\",\"2021-10-18T00:00:00\",\"2021-07-26T00:00:00\",\"2021-04-19T00:00:00\",\"2021-04-05T00:00:00\",\"2021-05-03T00:00:00\",\"2021-03-22T00:00:00\",\"2021-12-27T00:00:00\",\"2021-05-17T00:00:00\",\"2021-07-12T00:00:00\",\"2021-03-08T00:00:00\",\"2021-05-31T00:00:00\",\"2021-02-22T00:00:00\",\"2021-02-08T00:00:00\",\"2021-06-14T00:00:00\",\"2021-06-28T00:00:00\",\"2021-01-25T00:00:00\",\"2021-01-04T00:00:00\",\"2020-12-21T00:00:00\",\"2021-01-11T00:00:00\",\"2020-11-23T00:00:00\",\"2020-11-09T00:00:00\",\"2020-12-07T00:00:00\",\"2020-10-26T00:00:00\",\"2020-10-12T00:00:00\",\"2020-09-28T00:00:00\",\"2020-08-03T00:00:00\",\"2020-08-17T00:00:00\",\"2020-07-20T00:00:00\",\"2020-09-14T00:00:00\",\"2020-08-31T00:00:00\",\"2020-05-11T00:00:00\",\"2020-06-22T00:00:00\",\"2020-07-06T00:00:00\",\"2020-05-25T00:00:00\",\"2020-06-08T00:00:00\",\"2022-01-05T00:00:00\"],\"xaxis\":\"x\",\"y\":[374670,363281,351966,344500,333778,331383,327337,302444,280557,277844,243216,205153,199741,197254,187185,173286,169011,168725,150683,135508,133425,123716,123104,121436,116398,71324,70619,52251,47808,46202,42410,35456,27133,23133,19535,18471,18421,18154,17673,16436,16160,15764,12903,9660,979],\"yaxis\":\"y\"},{\"alignmentgroup\":\"True\",\"hovertemplate\":\"variant=Mu<br>date=%{x}<br>num_sequences_total=%{y}<extra></extra>\",\"legendgroup\":\"Mu\",\"marker\":{\"color\":\"#FF97FF\",\"pattern\":{\"shape\":\"\"}},\"name\":\"Mu\",\"offsetgroup\":\"Mu\",\"orientation\":\"v\",\"showlegend\":true,\"textposition\":\"auto\",\"type\":\"bar\",\"x\":[\"2021-08-23T00:00:00\",\"2021-09-06T00:00:00\",\"2021-12-13T00:00:00\",\"2021-08-09T00:00:00\",\"2021-11-15T00:00:00\",\"2021-11-29T00:00:00\",\"2021-09-20T00:00:00\",\"2021-11-01T00:00:00\",\"2021-10-04T00:00:00\",\"2021-10-18T00:00:00\",\"2021-07-26T00:00:00\",\"2021-04-19T00:00:00\",\"2021-04-05T00:00:00\",\"2021-05-03T00:00:00\",\"2021-03-22T00:00:00\",\"2021-12-27T00:00:00\",\"2021-05-17T00:00:00\",\"2021-07-12T00:00:00\",\"2021-03-08T00:00:00\",\"2021-05-31T00:00:00\",\"2021-02-22T00:00:00\",\"2021-02-08T00:00:00\",\"2021-06-14T00:00:00\",\"2021-06-28T00:00:00\",\"2021-01-25T00:00:00\",\"2021-01-04T00:00:00\",\"2020-12-21T00:00:00\",\"2021-01-11T00:00:00\",\"2020-11-23T00:00:00\",\"2020-11-09T00:00:00\",\"2020-12-07T00:00:00\",\"2020-10-26T00:00:00\",\"2020-10-12T00:00:00\",\"2020-09-28T00:00:00\",\"2020-08-03T00:00:00\",\"2020-08-17T00:00:00\",\"2020-07-20T00:00:00\",\"2020-09-14T00:00:00\",\"2020-08-31T00:00:00\",\"2020-05-11T00:00:00\",\"2020-06-22T00:00:00\",\"2020-07-06T00:00:00\",\"2020-05-25T00:00:00\",\"2020-06-08T00:00:00\",\"2022-01-05T00:00:00\"],\"xaxis\":\"x\",\"y\":[374670,363281,351966,344500,333778,331383,327337,302444,280557,277844,243216,205153,199741,197254,187185,173286,169011,168725,150683,135508,133425,123716,123104,121436,116398,71324,70619,52251,47808,46202,42410,35456,27133,23133,19535,18471,18421,18154,17673,16436,16160,15764,12903,9660,979],\"yaxis\":\"y\"},{\"alignmentgroup\":\"True\",\"hovertemplate\":\"variant=Omicron<br>date=%{x}<br>num_sequences_total=%{y}<extra></extra>\",\"legendgroup\":\"Omicron\",\"marker\":{\"color\":\"#FECB52\",\"pattern\":{\"shape\":\"\"}},\"name\":\"Omicron\",\"offsetgroup\":\"Omicron\",\"orientation\":\"v\",\"showlegend\":true,\"textposition\":\"auto\",\"type\":\"bar\",\"x\":[\"2021-08-23T00:00:00\",\"2021-09-06T00:00:00\",\"2021-12-13T00:00:00\",\"2021-08-09T00:00:00\",\"2021-11-15T00:00:00\",\"2021-11-29T00:00:00\",\"2021-09-20T00:00:00\",\"2021-11-01T00:00:00\",\"2021-10-04T00:00:00\",\"2021-10-18T00:00:00\",\"2021-07-26T00:00:00\",\"2021-04-19T00:00:00\",\"2021-04-05T00:00:00\",\"2021-05-03T00:00:00\",\"2021-03-22T00:00:00\",\"2021-12-27T00:00:00\",\"2021-05-17T00:00:00\",\"2021-07-12T00:00:00\",\"2021-03-08T00:00:00\",\"2021-05-31T00:00:00\",\"2021-02-22T00:00:00\",\"2021-02-08T00:00:00\",\"2021-06-14T00:00:00\",\"2021-06-28T00:00:00\",\"2021-01-25T00:00:00\",\"2021-01-04T00:00:00\",\"2020-12-21T00:00:00\",\"2021-01-11T00:00:00\",\"2020-11-23T00:00:00\",\"2020-11-09T00:00:00\",\"2020-12-07T00:00:00\",\"2020-10-26T00:00:00\",\"2020-10-12T00:00:00\",\"2020-09-28T00:00:00\",\"2020-08-03T00:00:00\",\"2020-08-17T00:00:00\",\"2020-07-20T00:00:00\",\"2020-09-14T00:00:00\",\"2020-08-31T00:00:00\",\"2020-05-11T00:00:00\",\"2020-06-22T00:00:00\",\"2020-07-06T00:00:00\",\"2020-05-25T00:00:00\",\"2020-06-08T00:00:00\",\"2022-01-05T00:00:00\"],\"xaxis\":\"x\",\"y\":[374670,363281,351966,344500,333778,331383,327337,302444,280557,277844,243216,205153,199741,197254,187185,173286,169011,168725,150683,135508,133425,123716,123104,121436,116398,71324,70619,52251,47808,46202,42410,35456,27133,23133,19535,18471,18421,18154,17673,16436,16160,15764,12903,9660,979],\"yaxis\":\"y\"},{\"alignmentgroup\":\"True\",\"hovertemplate\":\"variant=S:677H.Robin1<br>date=%{x}<br>num_sequences_total=%{y}<extra></extra>\",\"legendgroup\":\"S:677H.Robin1\",\"marker\":{\"color\":\"#636efa\",\"pattern\":{\"shape\":\"\"}},\"name\":\"S:677H.Robin1\",\"offsetgroup\":\"S:677H.Robin1\",\"orientation\":\"v\",\"showlegend\":true,\"textposition\":\"auto\",\"type\":\"bar\",\"x\":[\"2021-08-23T00:00:00\",\"2021-09-06T00:00:00\",\"2021-12-13T00:00:00\",\"2021-08-09T00:00:00\",\"2021-11-15T00:00:00\",\"2021-11-29T00:00:00\",\"2021-09-20T00:00:00\",\"2021-11-01T00:00:00\",\"2021-10-04T00:00:00\",\"2021-10-18T00:00:00\",\"2021-07-26T00:00:00\",\"2021-04-19T00:00:00\",\"2021-04-05T00:00:00\",\"2021-05-03T00:00:00\",\"2021-03-22T00:00:00\",\"2021-12-27T00:00:00\",\"2021-05-17T00:00:00\",\"2021-07-12T00:00:00\",\"2021-03-08T00:00:00\",\"2021-05-31T00:00:00\",\"2021-02-22T00:00:00\",\"2021-02-08T00:00:00\",\"2021-06-14T00:00:00\",\"2021-06-28T00:00:00\",\"2021-01-25T00:00:00\",\"2021-01-04T00:00:00\",\"2020-12-21T00:00:00\",\"2021-01-11T00:00:00\",\"2020-11-23T00:00:00\",\"2020-11-09T00:00:00\",\"2020-12-07T00:00:00\",\"2020-10-26T00:00:00\",\"2020-10-12T00:00:00\",\"2020-09-28T00:00:00\",\"2020-08-03T00:00:00\",\"2020-08-17T00:00:00\",\"2020-07-20T00:00:00\",\"2020-09-14T00:00:00\",\"2020-08-31T00:00:00\",\"2020-05-11T00:00:00\",\"2020-06-22T00:00:00\",\"2020-07-06T00:00:00\",\"2020-05-25T00:00:00\",\"2020-06-08T00:00:00\",\"2022-01-05T00:00:00\"],\"xaxis\":\"x\",\"y\":[374670,363281,351966,344500,333778,331383,327337,302444,280557,277844,243216,205153,199741,197254,187185,173286,169011,168725,150683,135508,133425,123716,123104,121436,116398,71324,70619,52251,47808,46202,42410,35456,27133,23133,19535,18471,18421,18154,17673,16436,16160,15764,12903,9660,979],\"yaxis\":\"y\"},{\"alignmentgroup\":\"True\",\"hovertemplate\":\"variant=S:677P.Pelican<br>date=%{x}<br>num_sequences_total=%{y}<extra></extra>\",\"legendgroup\":\"S:677P.Pelican\",\"marker\":{\"color\":\"#EF553B\",\"pattern\":{\"shape\":\"\"}},\"name\":\"S:677P.Pelican\",\"offsetgroup\":\"S:677P.Pelican\",\"orientation\":\"v\",\"showlegend\":true,\"textposition\":\"auto\",\"type\":\"bar\",\"x\":[\"2021-08-23T00:00:00\",\"2021-09-06T00:00:00\",\"2021-12-13T00:00:00\",\"2021-08-09T00:00:00\",\"2021-11-15T00:00:00\",\"2021-11-29T00:00:00\",\"2021-09-20T00:00:00\",\"2021-11-01T00:00:00\",\"2021-10-04T00:00:00\",\"2021-10-18T00:00:00\",\"2021-07-26T00:00:00\",\"2021-04-19T00:00:00\",\"2021-04-05T00:00:00\",\"2021-05-03T00:00:00\",\"2021-03-22T00:00:00\",\"2021-12-27T00:00:00\",\"2021-05-17T00:00:00\",\"2021-07-12T00:00:00\",\"2021-03-08T00:00:00\",\"2021-05-31T00:00:00\",\"2021-02-22T00:00:00\",\"2021-02-08T00:00:00\",\"2021-06-14T00:00:00\",\"2021-06-28T00:00:00\",\"2021-01-25T00:00:00\",\"2021-01-04T00:00:00\",\"2020-12-21T00:00:00\",\"2021-01-11T00:00:00\",\"2020-11-23T00:00:00\",\"2020-11-09T00:00:00\",\"2020-12-07T00:00:00\",\"2020-10-26T00:00:00\",\"2020-10-12T00:00:00\",\"2020-09-28T00:00:00\",\"2020-08-03T00:00:00\",\"2020-08-17T00:00:00\",\"2020-07-20T00:00:00\",\"2020-09-14T00:00:00\",\"2020-08-31T00:00:00\",\"2020-05-11T00:00:00\",\"2020-06-22T00:00:00\",\"2020-07-06T00:00:00\",\"2020-05-25T00:00:00\",\"2020-06-08T00:00:00\",\"2022-01-05T00:00:00\"],\"xaxis\":\"x\",\"y\":[374670,363281,351966,344500,333778,331383,327337,302444,280557,277844,243216,205153,199741,197254,187185,173286,169011,168725,150683,135508,133425,123716,123104,121436,116398,71324,70619,52251,47808,46202,42410,35456,27133,23133,19535,18471,18421,18154,17673,16436,16160,15764,12903,9660,979],\"yaxis\":\"y\"},{\"alignmentgroup\":\"True\",\"hovertemplate\":\"variant=Alpha<br>date=%{x}<br>num_sequences_total=%{y}<extra></extra>\",\"legendgroup\":\"Alpha\",\"marker\":{\"color\":\"#00cc96\",\"pattern\":{\"shape\":\"\"}},\"name\":\"Alpha\",\"offsetgroup\":\"Alpha\",\"orientation\":\"v\",\"showlegend\":true,\"textposition\":\"auto\",\"type\":\"bar\",\"x\":[\"2021-08-23T00:00:00\",\"2021-09-06T00:00:00\",\"2021-12-13T00:00:00\",\"2021-08-09T00:00:00\",\"2021-11-15T00:00:00\",\"2021-11-29T00:00:00\",\"2021-09-20T00:00:00\",\"2021-11-01T00:00:00\",\"2021-10-04T00:00:00\",\"2021-10-18T00:00:00\",\"2021-07-26T00:00:00\",\"2021-04-19T00:00:00\",\"2021-04-05T00:00:00\",\"2021-05-03T00:00:00\",\"2021-03-22T00:00:00\",\"2021-12-27T00:00:00\",\"2021-05-17T00:00:00\",\"2021-07-12T00:00:00\",\"2021-03-08T00:00:00\",\"2021-05-31T00:00:00\",\"2021-02-22T00:00:00\",\"2021-02-08T00:00:00\",\"2021-06-14T00:00:00\",\"2021-06-28T00:00:00\",\"2021-01-25T00:00:00\",\"2021-01-04T00:00:00\",\"2020-12-21T00:00:00\",\"2021-01-11T00:00:00\",\"2020-11-23T00:00:00\",\"2020-11-09T00:00:00\",\"2020-12-07T00:00:00\",\"2020-10-26T00:00:00\",\"2020-10-12T00:00:00\",\"2020-09-28T00:00:00\",\"2020-08-03T00:00:00\",\"2020-08-17T00:00:00\",\"2020-07-20T00:00:00\",\"2020-09-14T00:00:00\",\"2020-08-31T00:00:00\",\"2020-05-11T00:00:00\",\"2020-06-22T00:00:00\",\"2020-07-06T00:00:00\",\"2020-05-25T00:00:00\",\"2020-06-08T00:00:00\",\"2022-01-05T00:00:00\"],\"xaxis\":\"x\",\"y\":[374670,363281,351966,344500,333778,331383,327337,302444,280557,277844,243216,205153,199741,197254,187185,173286,169011,168725,150683,135508,133425,123716,123104,121436,116398,71324,70619,52251,47808,46202,42410,35456,27133,23133,19535,18471,18421,18154,17673,16436,16160,15764,12903,9660,979],\"yaxis\":\"y\"},{\"alignmentgroup\":\"True\",\"hovertemplate\":\"variant=others<br>date=%{x}<br>num_sequences_total=%{y}<extra></extra>\",\"legendgroup\":\"others\",\"marker\":{\"color\":\"#ab63fa\",\"pattern\":{\"shape\":\"\"}},\"name\":\"others\",\"offsetgroup\":\"others\",\"orientation\":\"v\",\"showlegend\":true,\"textposition\":\"auto\",\"type\":\"bar\",\"x\":[\"2021-08-23T00:00:00\",\"2021-09-06T00:00:00\",\"2021-12-13T00:00:00\",\"2021-08-09T00:00:00\",\"2021-11-15T00:00:00\",\"2021-11-29T00:00:00\",\"2021-09-20T00:00:00\",\"2021-11-01T00:00:00\",\"2021-10-04T00:00:00\",\"2021-10-18T00:00:00\",\"2021-07-26T00:00:00\",\"2021-04-19T00:00:00\",\"2021-04-05T00:00:00\",\"2021-05-03T00:00:00\",\"2021-03-22T00:00:00\",\"2021-12-27T00:00:00\",\"2021-05-17T00:00:00\",\"2021-07-12T00:00:00\",\"2021-03-08T00:00:00\",\"2021-05-31T00:00:00\",\"2021-02-22T00:00:00\",\"2021-02-08T00:00:00\",\"2021-06-14T00:00:00\",\"2021-06-28T00:00:00\",\"2021-01-25T00:00:00\",\"2021-01-04T00:00:00\",\"2020-12-21T00:00:00\",\"2021-01-11T00:00:00\",\"2020-11-23T00:00:00\",\"2020-11-09T00:00:00\",\"2020-12-07T00:00:00\",\"2020-10-26T00:00:00\",\"2020-10-12T00:00:00\",\"2020-09-28T00:00:00\",\"2020-08-03T00:00:00\",\"2020-08-17T00:00:00\",\"2020-07-20T00:00:00\",\"2020-09-14T00:00:00\",\"2020-08-31T00:00:00\",\"2020-05-11T00:00:00\",\"2020-06-22T00:00:00\",\"2020-07-06T00:00:00\",\"2020-05-25T00:00:00\",\"2020-06-08T00:00:00\",\"2022-01-05T00:00:00\"],\"xaxis\":\"x\",\"y\":[374670,363281,351966,344500,333778,331383,327337,302444,280557,277844,243216,205153,199741,197254,187185,173286,169011,168725,150683,135508,133425,123716,123104,121436,116398,71324,70619,52251,47808,46202,42410,35456,27133,23133,19535,18471,18421,18154,17673,16436,16160,15764,12903,9660,979],\"yaxis\":\"y\"}],                        {\"barmode\":\"relative\",\"height\":500,\"legend\":{\"title\":{\"text\":\"variant\"},\"tracegroupgap\":0},\"margin\":{\"t\":60},\"template\":{\"data\":{\"bar\":[{\"error_x\":{\"color\":\"#2a3f5f\"},\"error_y\":{\"color\":\"#2a3f5f\"},\"marker\":{\"line\":{\"color\":\"#E5ECF6\",\"width\":0.5},\"pattern\":{\"fillmode\":\"overlay\",\"size\":10,\"solidity\":0.2}},\"type\":\"bar\"}],\"barpolar\":[{\"marker\":{\"line\":{\"color\":\"#E5ECF6\",\"width\":0.5},\"pattern\":{\"fillmode\":\"overlay\",\"size\":10,\"solidity\":0.2}},\"type\":\"barpolar\"}],\"carpet\":[{\"aaxis\":{\"endlinecolor\":\"#2a3f5f\",\"gridcolor\":\"white\",\"linecolor\":\"white\",\"minorgridcolor\":\"white\",\"startlinecolor\":\"#2a3f5f\"},\"baxis\":{\"endlinecolor\":\"#2a3f5f\",\"gridcolor\":\"white\",\"linecolor\":\"white\",\"minorgridcolor\":\"white\",\"startlinecolor\":\"#2a3f5f\"},\"type\":\"carpet\"}],\"choropleth\":[{\"colorbar\":{\"outlinewidth\":0,\"ticks\":\"\"},\"type\":\"choropleth\"}],\"contour\":[{\"colorbar\":{\"outlinewidth\":0,\"ticks\":\"\"},\"colorscale\":[[0.0,\"#0d0887\"],[0.1111111111111111,\"#46039f\"],[0.2222222222222222,\"#7201a8\"],[0.3333333333333333,\"#9c179e\"],[0.4444444444444444,\"#bd3786\"],[0.5555555555555556,\"#d8576b\"],[0.6666666666666666,\"#ed7953\"],[0.7777777777777778,\"#fb9f3a\"],[0.8888888888888888,\"#fdca26\"],[1.0,\"#f0f921\"]],\"type\":\"contour\"}],\"contourcarpet\":[{\"colorbar\":{\"outlinewidth\":0,\"ticks\":\"\"},\"type\":\"contourcarpet\"}],\"heatmap\":[{\"colorbar\":{\"outlinewidth\":0,\"ticks\":\"\"},\"colorscale\":[[0.0,\"#0d0887\"],[0.1111111111111111,\"#46039f\"],[0.2222222222222222,\"#7201a8\"],[0.3333333333333333,\"#9c179e\"],[0.4444444444444444,\"#bd3786\"],[0.5555555555555556,\"#d8576b\"],[0.6666666666666666,\"#ed7953\"],[0.7777777777777778,\"#fb9f3a\"],[0.8888888888888888,\"#fdca26\"],[1.0,\"#f0f921\"]],\"type\":\"heatmap\"}],\"heatmapgl\":[{\"colorbar\":{\"outlinewidth\":0,\"ticks\":\"\"},\"colorscale\":[[0.0,\"#0d0887\"],[0.1111111111111111,\"#46039f\"],[0.2222222222222222,\"#7201a8\"],[0.3333333333333333,\"#9c179e\"],[0.4444444444444444,\"#bd3786\"],[0.5555555555555556,\"#d8576b\"],[0.6666666666666666,\"#ed7953\"],[0.7777777777777778,\"#fb9f3a\"],[0.8888888888888888,\"#fdca26\"],[1.0,\"#f0f921\"]],\"type\":\"heatmapgl\"}],\"histogram\":[{\"marker\":{\"pattern\":{\"fillmode\":\"overlay\",\"size\":10,\"solidity\":0.2}},\"type\":\"histogram\"}],\"histogram2d\":[{\"colorbar\":{\"outlinewidth\":0,\"ticks\":\"\"},\"colorscale\":[[0.0,\"#0d0887\"],[0.1111111111111111,\"#46039f\"],[0.2222222222222222,\"#7201a8\"],[0.3333333333333333,\"#9c179e\"],[0.4444444444444444,\"#bd3786\"],[0.5555555555555556,\"#d8576b\"],[0.6666666666666666,\"#ed7953\"],[0.7777777777777778,\"#fb9f3a\"],[0.8888888888888888,\"#fdca26\"],[1.0,\"#f0f921\"]],\"type\":\"histogram2d\"}],\"histogram2dcontour\":[{\"colorbar\":{\"outlinewidth\":0,\"ticks\":\"\"},\"colorscale\":[[0.0,\"#0d0887\"],[0.1111111111111111,\"#46039f\"],[0.2222222222222222,\"#7201a8\"],[0.3333333333333333,\"#9c179e\"],[0.4444444444444444,\"#bd3786\"],[0.5555555555555556,\"#d8576b\"],[0.6666666666666666,\"#ed7953\"],[0.7777777777777778,\"#fb9f3a\"],[0.8888888888888888,\"#fdca26\"],[1.0,\"#f0f921\"]],\"type\":\"histogram2dcontour\"}],\"mesh3d\":[{\"colorbar\":{\"outlinewidth\":0,\"ticks\":\"\"},\"type\":\"mesh3d\"}],\"parcoords\":[{\"line\":{\"colorbar\":{\"outlinewidth\":0,\"ticks\":\"\"}},\"type\":\"parcoords\"}],\"pie\":[{\"automargin\":true,\"type\":\"pie\"}],\"scatter\":[{\"marker\":{\"colorbar\":{\"outlinewidth\":0,\"ticks\":\"\"}},\"type\":\"scatter\"}],\"scatter3d\":[{\"line\":{\"colorbar\":{\"outlinewidth\":0,\"ticks\":\"\"}},\"marker\":{\"colorbar\":{\"outlinewidth\":0,\"ticks\":\"\"}},\"type\":\"scatter3d\"}],\"scattercarpet\":[{\"marker\":{\"colorbar\":{\"outlinewidth\":0,\"ticks\":\"\"}},\"type\":\"scattercarpet\"}],\"scattergeo\":[{\"marker\":{\"colorbar\":{\"outlinewidth\":0,\"ticks\":\"\"}},\"type\":\"scattergeo\"}],\"scattergl\":[{\"marker\":{\"colorbar\":{\"outlinewidth\":0,\"ticks\":\"\"}},\"type\":\"scattergl\"}],\"scattermapbox\":[{\"marker\":{\"colorbar\":{\"outlinewidth\":0,\"ticks\":\"\"}},\"type\":\"scattermapbox\"}],\"scatterpolar\":[{\"marker\":{\"colorbar\":{\"outlinewidth\":0,\"ticks\":\"\"}},\"type\":\"scatterpolar\"}],\"scatterpolargl\":[{\"marker\":{\"colorbar\":{\"outlinewidth\":0,\"ticks\":\"\"}},\"type\":\"scatterpolargl\"}],\"scatterternary\":[{\"marker\":{\"colorbar\":{\"outlinewidth\":0,\"ticks\":\"\"}},\"type\":\"scatterternary\"}],\"surface\":[{\"colorbar\":{\"outlinewidth\":0,\"ticks\":\"\"},\"colorscale\":[[0.0,\"#0d0887\"],[0.1111111111111111,\"#46039f\"],[0.2222222222222222,\"#7201a8\"],[0.3333333333333333,\"#9c179e\"],[0.4444444444444444,\"#bd3786\"],[0.5555555555555556,\"#d8576b\"],[0.6666666666666666,\"#ed7953\"],[0.7777777777777778,\"#fb9f3a\"],[0.8888888888888888,\"#fdca26\"],[1.0,\"#f0f921\"]],\"type\":\"surface\"}],\"table\":[{\"cells\":{\"fill\":{\"color\":\"#EBF0F8\"},\"line\":{\"color\":\"white\"}},\"header\":{\"fill\":{\"color\":\"#C8D4E3\"},\"line\":{\"color\":\"white\"}},\"type\":\"table\"}]},\"layout\":{\"annotationdefaults\":{\"arrowcolor\":\"#2a3f5f\",\"arrowhead\":0,\"arrowwidth\":1},\"autotypenumbers\":\"strict\",\"coloraxis\":{\"colorbar\":{\"outlinewidth\":0,\"ticks\":\"\"}},\"colorscale\":{\"diverging\":[[0,\"#8e0152\"],[0.1,\"#c51b7d\"],[0.2,\"#de77ae\"],[0.3,\"#f1b6da\"],[0.4,\"#fde0ef\"],[0.5,\"#f7f7f7\"],[0.6,\"#e6f5d0\"],[0.7,\"#b8e186\"],[0.8,\"#7fbc41\"],[0.9,\"#4d9221\"],[1,\"#276419\"]],\"sequential\":[[0.0,\"#0d0887\"],[0.1111111111111111,\"#46039f\"],[0.2222222222222222,\"#7201a8\"],[0.3333333333333333,\"#9c179e\"],[0.4444444444444444,\"#bd3786\"],[0.5555555555555556,\"#d8576b\"],[0.6666666666666666,\"#ed7953\"],[0.7777777777777778,\"#fb9f3a\"],[0.8888888888888888,\"#fdca26\"],[1.0,\"#f0f921\"]],\"sequentialminus\":[[0.0,\"#0d0887\"],[0.1111111111111111,\"#46039f\"],[0.2222222222222222,\"#7201a8\"],[0.3333333333333333,\"#9c179e\"],[0.4444444444444444,\"#bd3786\"],[0.5555555555555556,\"#d8576b\"],[0.6666666666666666,\"#ed7953\"],[0.7777777777777778,\"#fb9f3a\"],[0.8888888888888888,\"#fdca26\"],[1.0,\"#f0f921\"]]},\"colorway\":[\"#636efa\",\"#EF553B\",\"#00cc96\",\"#ab63fa\",\"#FFA15A\",\"#19d3f3\",\"#FF6692\",\"#B6E880\",\"#FF97FF\",\"#FECB52\"],\"font\":{\"color\":\"#2a3f5f\"},\"geo\":{\"bgcolor\":\"white\",\"lakecolor\":\"white\",\"landcolor\":\"#E5ECF6\",\"showlakes\":true,\"showland\":true,\"subunitcolor\":\"white\"},\"hoverlabel\":{\"align\":\"left\"},\"hovermode\":\"closest\",\"mapbox\":{\"style\":\"light\"},\"paper_bgcolor\":\"white\",\"plot_bgcolor\":\"#E5ECF6\",\"polar\":{\"angularaxis\":{\"gridcolor\":\"white\",\"linecolor\":\"white\",\"ticks\":\"\"},\"bgcolor\":\"#E5ECF6\",\"radialaxis\":{\"gridcolor\":\"white\",\"linecolor\":\"white\",\"ticks\":\"\"}},\"scene\":{\"xaxis\":{\"backgroundcolor\":\"#E5ECF6\",\"gridcolor\":\"white\",\"gridwidth\":2,\"linecolor\":\"white\",\"showbackground\":true,\"ticks\":\"\",\"zerolinecolor\":\"white\"},\"yaxis\":{\"backgroundcolor\":\"#E5ECF6\",\"gridcolor\":\"white\",\"gridwidth\":2,\"linecolor\":\"white\",\"showbackground\":true,\"ticks\":\"\",\"zerolinecolor\":\"white\"},\"zaxis\":{\"backgroundcolor\":\"#E5ECF6\",\"gridcolor\":\"white\",\"gridwidth\":2,\"linecolor\":\"white\",\"showbackground\":true,\"ticks\":\"\",\"zerolinecolor\":\"white\"}},\"shapedefaults\":{\"line\":{\"color\":\"#2a3f5f\"}},\"ternary\":{\"aaxis\":{\"gridcolor\":\"white\",\"linecolor\":\"white\",\"ticks\":\"\"},\"baxis\":{\"gridcolor\":\"white\",\"linecolor\":\"white\",\"ticks\":\"\"},\"bgcolor\":\"#E5ECF6\",\"caxis\":{\"gridcolor\":\"white\",\"linecolor\":\"white\",\"ticks\":\"\"}},\"title\":{\"x\":0.05},\"xaxis\":{\"automargin\":true,\"gridcolor\":\"white\",\"linecolor\":\"white\",\"ticks\":\"\",\"title\":{\"standoff\":15},\"zerolinecolor\":\"white\",\"zerolinewidth\":2},\"yaxis\":{\"automargin\":true,\"gridcolor\":\"white\",\"linecolor\":\"white\",\"ticks\":\"\",\"title\":{\"standoff\":15},\"zerolinecolor\":\"white\",\"zerolinewidth\":2}}},\"width\":1000,\"xaxis\":{\"anchor\":\"y\",\"domain\":[0.0,1.0],\"title\":{\"text\":\"date\"}},\"yaxis\":{\"anchor\":\"x\",\"domain\":[0.0,1.0],\"title\":{\"text\":\"num_sequences_total\"}}},                        {\"responsive\": true}                    ).then(function(){\n",
       "                            \n",
       "var gd = document.getElementById('75015713-ca35-4180-b026-309aac39cb2b');\n",
       "var x = new MutationObserver(function (mutations, observer) {{\n",
       "        var display = window.getComputedStyle(gd).display;\n",
       "        if (!display || display === 'none') {{\n",
       "            console.log([gd, 'removed!']);\n",
       "            Plotly.purge(gd);\n",
       "            observer.disconnect();\n",
       "        }}\n",
       "}});\n",
       "\n",
       "// Listen for the removal of the full notebook cells\n",
       "var notebookContainer = gd.closest('#notebook-container');\n",
       "if (notebookContainer) {{\n",
       "    x.observe(notebookContainer, {childList: true});\n",
       "}}\n",
       "\n",
       "// Listen for the clearing of the current output cell\n",
       "var outputEl = gd.closest('.output');\n",
       "if (outputEl) {{\n",
       "    x.observe(outputEl, {childList: true});\n",
       "}}\n",
       "\n",
       "                        })                };                });            </script>        </div>"
      ]
     },
     "metadata": {},
     "output_type": "display_data"
    }
   ],
   "source": [
    "casos = df.groupby(['date', 'variant'])['num_sequences_total'].sum().sort_values(ascending = False).reset_index() \n",
    "fig2 = px.bar(casos, x='date', y='num_sequences_total', color=\"variant\",width=1000, height=500)\n",
    "fig2.show()"
   ]
  },
  {
   "cell_type": "code",
   "execution_count": 190,
   "id": "ef22b882-a890-4e68-8d9a-d650500952be",
   "metadata": {
    "tags": []
   },
   "outputs": [
    {
     "data": {
      "text/plain": [
       "location      \n",
       "Bangladesh        1080\n",
       "Belgium           1080\n",
       "United States     1080\n",
       "United Kingdom    1080\n",
       "France            1080\n",
       "                  ... \n",
       "Montenegro         384\n",
       "Monaco             360\n",
       "Fiji               336\n",
       "Benin              336\n",
       "Brunei             240\n",
       "Length: 121, dtype: int64"
      ]
     },
     "execution_count": 190,
     "metadata": {},
     "output_type": "execute_result"
    }
   ],
   "source": [
    "#df3 = df.head(10).sort_values('perc_sequences',ascending=False)\n",
    "df2 = df[['location']].groupby(['location']).sum()\n",
    "\n",
    "df.filter(['location']).value_counts()"
   ]
  },
  {
   "cell_type": "markdown",
   "id": "67784691-36bb-4573-a669-abfd7b1dd422",
   "metadata": {},
   "source": [
    "### 5 países com maior número de sequenciamentos de variantes"
   ]
  },
  {
   "cell_type": "code",
   "execution_count": 485,
   "id": "a305e3e4-c669-4170-98be-c9505394af95",
   "metadata": {
    "collapsed": true,
    "jupyter": {
     "outputs_hidden": true,
     "source_hidden": true
    },
    "tags": []
   },
   "outputs": [
    {
     "data": {
      "image/png": "[encoded data removed]",
      "text/plain": [
       "<Figure size 482.897x523.44 with 1 Axes>"
      ]
     },
     "metadata": {},
     "output_type": "display_data"
    }
   ],
   "source": [
    "df.sort_values(by='num_sequences', ascending=False)\n",
    "sns.catplot(x=\"num_sequences\",y=\"location\", palette=\"Set2\", data=df,height=7.27, order=df['location'][:5], aspect=18.7/20.27);"
   ]
  },
  {
   "cell_type": "code",
   "execution_count": null,
   "id": "84415815-74fc-42c5-988a-5422ece0ec9f",
   "metadata": {},
   "outputs": [],
   "source": []
  },
  {
   "cell_type": "code",
   "execution_count": null,
   "id": "3907c069-df78-4b7f-a102-53e6067c81ee",
   "metadata": {},
   "outputs": [],
   "source": []
  },
  {
   "cell_type": "code",
   "execution_count": null,
   "id": "78ad1e47-f2f0-4ee8-8ba6-03034bb5b5c7",
   "metadata": {},
   "outputs": [],
   "source": []
  }
 ],
 "metadata": {
  "kernelspec": {
   "display_name": "Python 3",
   "language": "python",
   "name": "python3"
  },
  "language_info": {
   "codemirror_mode": {
    "name": "ipython",
    "version": 3
   },
   "file_extension": ".py",
   "mimetype": "text/x-python",
   "name": "python",
   "nbconvert_exporter": "python",
   "pygments_lexer": "ipython3",
   "version": "3.9.4"
  }
 },
 "nbformat": 4,
 "nbformat_minor": 5
}
