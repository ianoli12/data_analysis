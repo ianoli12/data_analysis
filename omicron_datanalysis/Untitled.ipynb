{
 "cells": [
  {
   "cell_type": "code",
   "execution_count": 4,
   "id": "009e597b-3137-4a7f-b5a8-93031f2e0697",
   "metadata": {},
   "outputs": [
    {
     "data": {
      "text/html": [
       "<img src=\"https://i.imgur.com/b4qvycU.jpg\" width=\"700\" height=\"80\"/>"
      ],
      "text/plain": [
       "<IPython.core.display.Image object>"
      ]
     },
     "execution_count": 4,
     "metadata": {},
     "output_type": "execute_result"
    }
   ],
   "source": [
    "from IPython.display import Image\n",
    "from IPython.core.display import HTML\n",
    "Image(url= \"https://i.imgur.com/b4qvycU.jpg\", width=700, height=80) "
   ]
  },
  {
   "cell_type": "markdown",
   "id": "06790286-a9bb-4c53-8390-b85e5b201c6a",
   "metadata": {},
   "source": [
    "### Importando os dados"
   ]
  },
  {
   "cell_type": "code",
   "execution_count": 5,
   "id": "9cc12abe-5f30-4b54-8885-a21fbb05e768",
   "metadata": {},
   "outputs": [],
   "source": [
    "from sklearn.preprocessing import LabelEncoder\n",
    "from mpl_toolkits.mplot3d import Axes3D\n",
    "import matplotlib.pyplot as plt # plotagem de dados\n",
    "import matplotlib.pyplot\n",
    "import numpy as np # algebra linear\n",
    "import os # acessar estrutura de diretórios\n",
    "import pandas as pd # processamento de dados\n",
    "import seaborn as sns\n",
    "import csv\n",
    "import warnings\n",
    "warnings.filterwarnings(\"ignore\")\n",
    "\n",
    "%matplotlib inline"
   ]
  },
  {
   "cell_type": "markdown",
   "id": "ee0e1344-3cb7-4948-81ad-d077cb9d9ff7",
   "metadata": {},
   "source": [
    "Esse dataset possui a localização, datas, sequenciamentos e outras informações pertinentes as variantes da COVID-19. Apesar do tema dessa análise ser Omicrôn, vamos precisar dos dados de outras variantes para compararmos a evolução dessa mutação em cada país. A base de dados possui os registros mais recentes de novas variantes a fim de proporsionar uma análise mais atual do problema.\n",
    "\n"
   ]
  },
  {
   "cell_type": "markdown",
   "id": "bd0ec982-3308-47f0-8cb2-51939780c0e7",
   "metadata": {},
   "source": [
    "##### Descrição\n",
    "\n",
    "###### location - este é o país para o qual as informações das variantes são fornecidas;\n",
    "###### date - data para a entrada de dados;\n",
    "###### variant - esta é a variante correspondente a esta entrada de dados;\n",
    "###### num_sequences - o número de sequências processadas (para o país, variante e data);\n",
    "###### perc_sequences - percentual de sequências do número total de sequências (para o país, variante e data);\n",
    "###### num_sequences_total - número total de sequências (para o país, variante e data);"
   ]
  },
  {
   "cell_type": "code",
   "execution_count": 6,
   "id": "36a4245b-9045-4501-bbc0-c7f54d753fc3",
   "metadata": {},
   "outputs": [
    {
     "data": {
      "text/html": [
       "<div>\n",
       "<style scoped>\n",
       "    .dataframe tbody tr th:only-of-type {\n",
       "        vertical-align: middle;\n",
       "    }\n",
       "\n",
       "    .dataframe tbody tr th {\n",
       "        vertical-align: top;\n",
       "    }\n",
       "\n",
       "    .dataframe thead th {\n",
       "        text-align: right;\n",
       "    }\n",
       "</style>\n",
       "<table border=\"1\" class=\"dataframe\">\n",
       "  <thead>\n",
       "    <tr style=\"text-align: right;\">\n",
       "      <th></th>\n",
       "      <th>location</th>\n",
       "      <th>date</th>\n",
       "      <th>variant</th>\n",
       "      <th>num_sequences</th>\n",
       "      <th>perc_sequences</th>\n",
       "      <th>num_sequences_total</th>\n",
       "    </tr>\n",
       "  </thead>\n",
       "  <tbody>\n",
       "    <tr>\n",
       "      <th>0</th>\n",
       "      <td>Angola</td>\n",
       "      <td>2020-07-06</td>\n",
       "      <td>Alpha</td>\n",
       "      <td>0</td>\n",
       "      <td>0.0</td>\n",
       "      <td>3</td>\n",
       "    </tr>\n",
       "    <tr>\n",
       "      <th>1</th>\n",
       "      <td>Angola</td>\n",
       "      <td>2020-07-06</td>\n",
       "      <td>B.1.1.277</td>\n",
       "      <td>0</td>\n",
       "      <td>0.0</td>\n",
       "      <td>3</td>\n",
       "    </tr>\n",
       "    <tr>\n",
       "      <th>2</th>\n",
       "      <td>Angola</td>\n",
       "      <td>2020-07-06</td>\n",
       "      <td>B.1.1.302</td>\n",
       "      <td>0</td>\n",
       "      <td>0.0</td>\n",
       "      <td>3</td>\n",
       "    </tr>\n",
       "    <tr>\n",
       "      <th>3</th>\n",
       "      <td>Angola</td>\n",
       "      <td>2020-07-06</td>\n",
       "      <td>B.1.1.519</td>\n",
       "      <td>0</td>\n",
       "      <td>0.0</td>\n",
       "      <td>3</td>\n",
       "    </tr>\n",
       "    <tr>\n",
       "      <th>4</th>\n",
       "      <td>Angola</td>\n",
       "      <td>2020-07-06</td>\n",
       "      <td>B.1.160</td>\n",
       "      <td>0</td>\n",
       "      <td>0.0</td>\n",
       "      <td>3</td>\n",
       "    </tr>\n",
       "  </tbody>\n",
       "</table>\n",
       "</div>"
      ],
      "text/plain": [
       "  location        date    variant  num_sequences  perc_sequences  \\\n",
       "0   Angola  2020-07-06      Alpha              0             0.0   \n",
       "1   Angola  2020-07-06  B.1.1.277              0             0.0   \n",
       "2   Angola  2020-07-06  B.1.1.302              0             0.0   \n",
       "3   Angola  2020-07-06  B.1.1.519              0             0.0   \n",
       "4   Angola  2020-07-06    B.1.160              0             0.0   \n",
       "\n",
       "   num_sequences_total  \n",
       "0                    3  \n",
       "1                    3  \n",
       "2                    3  \n",
       "3                    3  \n",
       "4                    3  "
      ]
     },
     "execution_count": 6,
     "metadata": {},
     "output_type": "execute_result"
    }
   ],
   "source": [
    "#df = pd.read_csv(\"covid-variants.csv\")\n",
    "#df.head(10)\n",
    "\n",
    "valores_incorretos = ['-','NaN','na','--','.','n/a']\n",
    "df = pd.read_csv(\"covid-variants.csv\", delimiter=',',na_values=valores_incorretos)\n",
    "df.head()"
   ]
  },
  {
   "cell_type": "markdown",
   "id": "deee0aa2-a674-4f74-830c-f806a43d7a07",
   "metadata": {},
   "source": [
    "### Verificando nulos e incorretos"
   ]
  },
  {
   "cell_type": "code",
   "execution_count": 7,
   "id": "e6b5dcab-970b-4694-8fd3-aa9085add1c6",
   "metadata": {},
   "outputs": [
    {
     "data": {
      "text/plain": [
       "location               0\n",
       "date                   0\n",
       "variant                0\n",
       "num_sequences          0\n",
       "perc_sequences         0\n",
       "num_sequences_total    0\n",
       "dtype: int64"
      ]
     },
     "execution_count": 7,
     "metadata": {},
     "output_type": "execute_result"
    }
   ],
   "source": [
    "df.isnull().sum()"
   ]
  },
  {
   "cell_type": "markdown",
   "id": "93e39272-46b4-403a-a6ae-25346c2f8b5b",
   "metadata": {},
   "source": [
    "### Definindo o tipo das colunas "
   ]
  },
  {
   "cell_type": "code",
   "execution_count": 8,
   "id": "b5d69ab5-98b5-44f5-8bcd-90cc64c017b0",
   "metadata": {},
   "outputs": [
    {
     "name": "stdout",
     "output_type": "stream",
     "text": [
      "<class 'pandas.core.frame.DataFrame'>\n",
      "RangeIndex: 100416 entries, 0 to 100415\n",
      "Data columns (total 6 columns):\n",
      " #   Column               Non-Null Count   Dtype  \n",
      "---  ------               --------------   -----  \n",
      " 0   location             100416 non-null  object \n",
      " 1   date                 100416 non-null  object \n",
      " 2   variant              100416 non-null  object \n",
      " 3   num_sequences        100416 non-null  int64  \n",
      " 4   perc_sequences       100416 non-null  float64\n",
      " 5   num_sequences_total  100416 non-null  int64  \n",
      "dtypes: float64(1), int64(2), object(3)\n",
      "memory usage: 4.6+ MB\n"
     ]
    }
   ],
   "source": [
    "# Conforme observado abaixo, vemos que algumas colunas são tipo object.\n",
    "# Para não haver conflitos na análise, vamos tipar essas colunas.\n",
    "\n",
    "df.info()"
   ]
  },
  {
   "cell_type": "code",
   "execution_count": 9,
   "id": "f861de25-75bc-4164-98c0-c5daecb29e70",
   "metadata": {
    "tags": []
   },
   "outputs": [],
   "source": [
    "colunas = ['location', 'date', 'variant']\n",
    "\n",
    "# Mudando o tipo de dados das colunas por meio do laço For\n",
    "for index, coluna in enumerate(colunas):\n",
    "    if index < 1:\n",
    "        df[f'{coluna}'] = df[f'{coluna}'].astype(\"string\")\n",
    "    elif index > 0 and index < 2:\n",
    "        df[f'{coluna}'] = df[f'{coluna}'].values.astype(\"datetime64\")\n",
    "    else:\n",
    "        df[f'{coluna}'] = df[f'{coluna}'].astype(\"string\")"
   ]
  },
  {
   "cell_type": "code",
   "execution_count": 10,
   "id": "37a7a4b6-e0a2-4f3a-9617-719165d1f9ae",
   "metadata": {},
   "outputs": [
    {
     "name": "stdout",
     "output_type": "stream",
     "text": [
      "<class 'pandas.core.frame.DataFrame'>\n",
      "RangeIndex: 100416 entries, 0 to 100415\n",
      "Data columns (total 6 columns):\n",
      " #   Column               Non-Null Count   Dtype         \n",
      "---  ------               --------------   -----         \n",
      " 0   location             100416 non-null  string        \n",
      " 1   date                 100416 non-null  datetime64[ns]\n",
      " 2   variant              100416 non-null  string        \n",
      " 3   num_sequences        100416 non-null  int64         \n",
      " 4   perc_sequences       100416 non-null  float64       \n",
      " 5   num_sequences_total  100416 non-null  int64         \n",
      "dtypes: datetime64[ns](1), float64(1), int64(2), string(2)\n",
      "memory usage: 4.6 MB\n"
     ]
    }
   ],
   "source": [
    "# Pronto. Colunas alteradas.\n",
    "df.info()"
   ]
  },
  {
   "cell_type": "markdown",
   "id": "6904e500-a388-4a18-8a8f-6ab10b997cc2",
   "metadata": {},
   "source": [
    "### Quais são as variantes a serem analisadas?"
   ]
  },
  {
   "cell_type": "code",
   "execution_count": 11,
   "id": "efa3ae97-8d61-41e3-80dd-ea123d416e58",
   "metadata": {
    "tags": []
   },
   "outputs": [
    {
     "data": {
      "text/html": [
       "<div>\n",
       "<style scoped>\n",
       "    .dataframe tbody tr th:only-of-type {\n",
       "        vertical-align: middle;\n",
       "    }\n",
       "\n",
       "    .dataframe tbody tr th {\n",
       "        vertical-align: top;\n",
       "    }\n",
       "\n",
       "    .dataframe thead th {\n",
       "        text-align: right;\n",
       "    }\n",
       "</style>\n",
       "<table border=\"1\" class=\"dataframe\">\n",
       "  <thead>\n",
       "    <tr style=\"text-align: right;\">\n",
       "      <th></th>\n",
       "    </tr>\n",
       "    <tr>\n",
       "      <th>variant</th>\n",
       "    </tr>\n",
       "  </thead>\n",
       "  <tbody>\n",
       "    <tr>\n",
       "      <th>Alpha</th>\n",
       "    </tr>\n",
       "    <tr>\n",
       "      <th>B.1.1.277</th>\n",
       "    </tr>\n",
       "    <tr>\n",
       "      <th>B.1.1.302</th>\n",
       "    </tr>\n",
       "    <tr>\n",
       "      <th>B.1.1.519</th>\n",
       "    </tr>\n",
       "    <tr>\n",
       "      <th>B.1.160</th>\n",
       "    </tr>\n",
       "    <tr>\n",
       "      <th>B.1.177</th>\n",
       "    </tr>\n",
       "    <tr>\n",
       "      <th>B.1.221</th>\n",
       "    </tr>\n",
       "    <tr>\n",
       "      <th>B.1.258</th>\n",
       "    </tr>\n",
       "    <tr>\n",
       "      <th>B.1.367</th>\n",
       "    </tr>\n",
       "    <tr>\n",
       "      <th>B.1.620</th>\n",
       "    </tr>\n",
       "    <tr>\n",
       "      <th>Beta</th>\n",
       "    </tr>\n",
       "    <tr>\n",
       "      <th>Delta</th>\n",
       "    </tr>\n",
       "    <tr>\n",
       "      <th>Epsilon</th>\n",
       "    </tr>\n",
       "    <tr>\n",
       "      <th>Eta</th>\n",
       "    </tr>\n",
       "    <tr>\n",
       "      <th>Gamma</th>\n",
       "    </tr>\n",
       "    <tr>\n",
       "      <th>Iota</th>\n",
       "    </tr>\n",
       "    <tr>\n",
       "      <th>Kappa</th>\n",
       "    </tr>\n",
       "    <tr>\n",
       "      <th>Lambda</th>\n",
       "    </tr>\n",
       "    <tr>\n",
       "      <th>Mu</th>\n",
       "    </tr>\n",
       "    <tr>\n",
       "      <th>Omicron</th>\n",
       "    </tr>\n",
       "    <tr>\n",
       "      <th>S:677H.Robin1</th>\n",
       "    </tr>\n",
       "    <tr>\n",
       "      <th>S:677P.Pelican</th>\n",
       "    </tr>\n",
       "    <tr>\n",
       "      <th>non_who</th>\n",
       "    </tr>\n",
       "    <tr>\n",
       "      <th>others</th>\n",
       "    </tr>\n",
       "  </tbody>\n",
       "</table>\n",
       "</div>"
      ],
      "text/plain": [
       "Empty DataFrame\n",
       "Columns: []\n",
       "Index: [Alpha, B.1.1.277, B.1.1.302, B.1.1.519, B.1.160, B.1.177, B.1.221, B.1.258, B.1.367, B.1.620, Beta, Delta, Epsilon, Eta, Gamma, Iota, Kappa, Lambda, Mu, Omicron, S:677H.Robin1, S:677P.Pelican, non_who, others]"
      ]
     },
     "execution_count": 11,
     "metadata": {},
     "output_type": "execute_result"
    }
   ],
   "source": [
    "df2 = df[['variant']].groupby(['variant']).sum()\n",
    "df2"
   ]
  },
  {
   "cell_type": "markdown",
   "id": "9641247e-111a-46d4-9adb-67fd64c95863",
   "metadata": {},
   "source": [
    "### Quais é o total de sequenciamentos de variantes por país?"
   ]
  },
  {
   "cell_type": "code",
   "execution_count": 48,
   "id": "18e3d61c-e8f0-4691-b3e1-dab011419349",
   "metadata": {
    "tags": []
   },
   "outputs": [
    {
     "data": {
      "text/plain": [
       "pandas.core.frame.DataFrame"
      ]
     },
     "execution_count": 48,
     "metadata": {},
     "output_type": "execute_result"
    }
   ],
   "source": [
    "dt1=df[['location','variant','perc_sequences','num_sequences']].groupby(['location']).sum()\n",
    "\n",
    "#dt1.plot(kind='barh',order=dt1['num_sequences'][:10],figsize=(10,10))\n",
    "df3 = dt1.sort_values('perc_sequences',ascending=False)\n",
    "\n",
    "sns.barplot(x=df3.index,y='perc_sequences', data=df3,palette='OrRd_r',aggfunc=[np.max])\n",
    "\n",
    "plt.xticks(rotation=60)\n",
    "plt.tight_layout()\n",
    "# plt.xlim(2,6) - limita o numero de dados que aparecem em X\n",
    "# ,order=df3['location'][:4]"
   ]
  },
  {
   "cell_type": "code",
   "execution_count": 190,
   "id": "ef22b882-a890-4e68-8d9a-d650500952be",
   "metadata": {
    "tags": []
   },
   "outputs": [
    {
     "data": {
      "text/plain": [
       "location      \n",
       "Bangladesh        1080\n",
       "Belgium           1080\n",
       "United States     1080\n",
       "United Kingdom    1080\n",
       "France            1080\n",
       "                  ... \n",
       "Montenegro         384\n",
       "Monaco             360\n",
       "Fiji               336\n",
       "Benin              336\n",
       "Brunei             240\n",
       "Length: 121, dtype: int64"
      ]
     },
     "execution_count": 190,
     "metadata": {},
     "output_type": "execute_result"
    }
   ],
   "source": [
    "#df3 = df.head(10).sort_values('perc_sequences',ascending=False)\n",
    "df2 = df[['location']].groupby(['location']).sum()\n",
    "\n",
    "df.filter(['location']).value_counts()"
   ]
  },
  {
   "cell_type": "code",
   "execution_count": null,
   "id": "504ab88f-1f08-4866-a959-4ec3162451c7",
   "metadata": {},
   "outputs": [],
   "source": [
    "sns.barplot(x='location',y='perc_sequences', data=df,palette='OrRd_r')\n",
    "plt.xticks(rotation=60)\n",
    "plt.tight_layout()"
   ]
  },
  {
   "cell_type": "code",
   "execution_count": 89,
   "id": "6d7baebd-f7a2-4754-b6e0-0847fd4ff490",
   "metadata": {},
   "outputs": [
    {
     "data": {
      "text/html": [
       "<div>\n",
       "<style scoped>\n",
       "    .dataframe tbody tr th:only-of-type {\n",
       "        vertical-align: middle;\n",
       "    }\n",
       "\n",
       "    .dataframe tbody tr th {\n",
       "        vertical-align: top;\n",
       "    }\n",
       "\n",
       "    .dataframe thead th {\n",
       "        text-align: right;\n",
       "    }\n",
       "</style>\n",
       "<table border=\"1\" class=\"dataframe\">\n",
       "  <thead>\n",
       "    <tr style=\"text-align: right;\">\n",
       "      <th></th>\n",
       "      <th>location</th>\n",
       "      <th>date</th>\n",
       "      <th>variant</th>\n",
       "      <th>num_sequences</th>\n",
       "      <th>perc_sequences</th>\n",
       "      <th>num_sequences_total</th>\n",
       "    </tr>\n",
       "  </thead>\n",
       "  <tbody>\n",
       "    <tr>\n",
       "      <th>0</th>\n",
       "      <td>Angola</td>\n",
       "      <td>2020-07-06</td>\n",
       "      <td>Alpha</td>\n",
       "      <td>0</td>\n",
       "      <td>0.0</td>\n",
       "      <td>3</td>\n",
       "    </tr>\n",
       "    <tr>\n",
       "      <th>1</th>\n",
       "      <td>Angola</td>\n",
       "      <td>2020-07-06</td>\n",
       "      <td>B.1.1.277</td>\n",
       "      <td>0</td>\n",
       "      <td>0.0</td>\n",
       "      <td>3</td>\n",
       "    </tr>\n",
       "    <tr>\n",
       "      <th>2</th>\n",
       "      <td>Angola</td>\n",
       "      <td>2020-07-06</td>\n",
       "      <td>B.1.1.302</td>\n",
       "      <td>0</td>\n",
       "      <td>0.0</td>\n",
       "      <td>3</td>\n",
       "    </tr>\n",
       "    <tr>\n",
       "      <th>3</th>\n",
       "      <td>Angola</td>\n",
       "      <td>2020-07-06</td>\n",
       "      <td>B.1.1.519</td>\n",
       "      <td>0</td>\n",
       "      <td>0.0</td>\n",
       "      <td>3</td>\n",
       "    </tr>\n",
       "    <tr>\n",
       "      <th>4</th>\n",
       "      <td>Angola</td>\n",
       "      <td>2020-07-06</td>\n",
       "      <td>B.1.160</td>\n",
       "      <td>0</td>\n",
       "      <td>0.0</td>\n",
       "      <td>3</td>\n",
       "    </tr>\n",
       "  </tbody>\n",
       "</table>\n",
       "</div>"
      ],
      "text/plain": [
       "  location       date    variant  num_sequences  perc_sequences  \\\n",
       "0   Angola 2020-07-06      Alpha              0             0.0   \n",
       "1   Angola 2020-07-06  B.1.1.277              0             0.0   \n",
       "2   Angola 2020-07-06  B.1.1.302              0             0.0   \n",
       "3   Angola 2020-07-06  B.1.1.519              0             0.0   \n",
       "4   Angola 2020-07-06    B.1.160              0             0.0   \n",
       "\n",
       "   num_sequences_total  \n",
       "0                    3  \n",
       "1                    3  \n",
       "2                    3  \n",
       "3                    3  \n",
       "4                    3  "
      ]
     },
     "execution_count": 89,
     "metadata": {},
     "output_type": "execute_result"
    }
   ],
   "source": [
    "df.head(5)"
   ]
  },
  {
   "cell_type": "code",
   "execution_count": 49,
   "id": "a305e3e4-c669-4170-98be-c9505394af95",
   "metadata": {
    "tags": []
   },
   "outputs": [
    {
     "data": {
      "image/png": "[encoded data removed]",
      "text/plain": [
       "<Figure size 1014.28x1099.44 with 1 Axes>"
      ]
     },
     "metadata": {
      "needs_background": "light"
     },
     "output_type": "display_data"
    }
   ],
   "source": [
    "sns.catplot(x=\"num_sequences\",y=\"location\", palette=\"Set2\", data=df,height=15.27, aspect=18.7/20.27);\n",
    "df.sort_values(by='num_sequences', ascending=False)\n",
    "plt.xticks(rotation=65)\n",
    "plt.show()"
   ]
  },
  {
   "cell_type": "code",
   "execution_count": 51,
   "id": "84415815-74fc-42c5-988a-5422ece0ec9f",
   "metadata": {},
   "outputs": [
    {
     "ename": "NameError",
     "evalue": "name 'gpd' is not defined",
     "output_type": "error",
     "traceback": [
      "\u001b[1;31m---------------------------------------------------------------------------\u001b[0m",
      "\u001b[1;31mNameError\u001b[0m                                 Traceback (most recent call last)",
      "\u001b[1;32m<ipython-input-51-b00bc3ca824f>\u001b[0m in \u001b[0;36m<module>\u001b[1;34m\u001b[0m\n\u001b[1;32m----> 1\u001b[1;33m df1 = gpd.read_file(\n\u001b[0m\u001b[0;32m      2\u001b[0m                gpd.datasets.get_path(\"num_sequences\"))\n\u001b[0;32m      3\u001b[0m \u001b[0mdf3\u001b[0m\u001b[1;33m.\u001b[0m\u001b[0mhead\u001b[0m\u001b[1;33m(\u001b[0m\u001b[1;33m)\u001b[0m\u001b[1;33m\u001b[0m\u001b[1;33m\u001b[0m\u001b[0m\n\u001b[0;32m      4\u001b[0m \u001b[1;31m#df1.plot(color=\"lightgrey\")\u001b[0m\u001b[1;33m\u001b[0m\u001b[1;33m\u001b[0m\u001b[1;33m\u001b[0m\u001b[0m\n",
      "\u001b[1;31mNameError\u001b[0m: name 'gpd' is not defined"
     ]
    }
   ],
   "source": [
    "df1 = gpd.read_file(\n",
    "               gpd.datasets.get_path(\"covid_omicron_dataset\"))\n",
    "df1.head()\n",
    "#df1.plot(color=\"lightgrey\")"
   ]
  },
  {
   "cell_type": "code",
   "execution_count": 161,
   "id": "1313fb61-e23f-4f37-978c-9c3a85ccce9e",
   "metadata": {},
   "outputs": [
    {
     "data": {
      "text/html": [
       "<div>\n",
       "<style scoped>\n",
       "    .dataframe tbody tr th:only-of-type {\n",
       "        vertical-align: middle;\n",
       "    }\n",
       "\n",
       "    .dataframe tbody tr th {\n",
       "        vertical-align: top;\n",
       "    }\n",
       "\n",
       "    .dataframe thead th {\n",
       "        text-align: right;\n",
       "    }\n",
       "</style>\n",
       "<table border=\"1\" class=\"dataframe\">\n",
       "  <thead>\n",
       "    <tr style=\"text-align: right;\">\n",
       "      <th></th>\n",
       "      <th>perc_sequences</th>\n",
       "      <th>num_sequences</th>\n",
       "    </tr>\n",
       "    <tr>\n",
       "      <th>location</th>\n",
       "      <th></th>\n",
       "      <th></th>\n",
       "    </tr>\n",
       "  </thead>\n",
       "  <tbody>\n",
       "    <tr>\n",
       "      <th>United States</th>\n",
       "      <td>6738.15</td>\n",
       "      <td>2420758</td>\n",
       "    </tr>\n",
       "    <tr>\n",
       "      <th>United Kingdom</th>\n",
       "      <td>6232.85</td>\n",
       "      <td>1703122</td>\n",
       "    </tr>\n",
       "    <tr>\n",
       "      <th>Germany</th>\n",
       "      <td>6598.02</td>\n",
       "      <td>358070</td>\n",
       "    </tr>\n",
       "    <tr>\n",
       "      <th>Denmark</th>\n",
       "      <td>6547.48</td>\n",
       "      <td>335124</td>\n",
       "    </tr>\n",
       "    <tr>\n",
       "      <th>Canada</th>\n",
       "      <td>6761.20</td>\n",
       "      <td>226219</td>\n",
       "    </tr>\n",
       "    <tr>\n",
       "      <th>Japan</th>\n",
       "      <td>6848.17</td>\n",
       "      <td>215319</td>\n",
       "    </tr>\n",
       "    <tr>\n",
       "      <th>France</th>\n",
       "      <td>6571.21</td>\n",
       "      <td>164917</td>\n",
       "    </tr>\n",
       "    <tr>\n",
       "      <th>Sweden</th>\n",
       "      <td>6499.92</td>\n",
       "      <td>152958</td>\n",
       "    </tr>\n",
       "    <tr>\n",
       "      <th>Switzerland</th>\n",
       "      <td>6535.87</td>\n",
       "      <td>121486</td>\n",
       "    </tr>\n",
       "    <tr>\n",
       "      <th>India</th>\n",
       "      <td>6698.44</td>\n",
       "      <td>111933</td>\n",
       "    </tr>\n",
       "  </tbody>\n",
       "</table>\n",
       "</div>"
      ],
      "text/plain": [
       "                perc_sequences  num_sequences\n",
       "location                                     \n",
       "United States          6738.15        2420758\n",
       "United Kingdom         6232.85        1703122\n",
       "Germany                6598.02         358070\n",
       "Denmark                6547.48         335124\n",
       "Canada                 6761.20         226219\n",
       "Japan                  6848.17         215319\n",
       "France                 6571.21         164917\n",
       "Sweden                 6499.92         152958\n",
       "Switzerland            6535.87         121486\n",
       "India                  6698.44         111933"
      ]
     },
     "execution_count": 161,
     "metadata": {},
     "output_type": "execute_result"
    }
   ],
   "source": [
    "dt3=df[['location','num_sequences']].groupby(['location']).sum()\n",
    "df3.sort_values('num_sequences',ascending=False).head(10)\n"
   ]
  },
  {
   "cell_type": "code",
   "execution_count": 157,
   "id": "3907c069-df78-4b7f-a102-53e6067c81ee",
   "metadata": {},
   "outputs": [
    {
     "data": {
      "text/html": [
       "<div>\n",
       "<style scoped>\n",
       "    .dataframe tbody tr th:only-of-type {\n",
       "        vertical-align: middle;\n",
       "    }\n",
       "\n",
       "    .dataframe tbody tr th {\n",
       "        vertical-align: top;\n",
       "    }\n",
       "\n",
       "    .dataframe thead th {\n",
       "        text-align: right;\n",
       "    }\n",
       "</style>\n",
       "<table border=\"1\" class=\"dataframe\">\n",
       "  <thead>\n",
       "    <tr style=\"text-align: right;\">\n",
       "      <th></th>\n",
       "      <th>num_sequences</th>\n",
       "      <th>location</th>\n",
       "      <th>date</th>\n",
       "      <th>variant</th>\n",
       "      <th>perc_sequences</th>\n",
       "      <th>num_sequences_total</th>\n",
       "    </tr>\n",
       "  </thead>\n",
       "  <tbody>\n",
       "    <tr>\n",
       "      <th>0</th>\n",
       "      <td>0</td>\n",
       "      <td>84173</td>\n",
       "      <td>84173</td>\n",
       "      <td>84173</td>\n",
       "      <td>84173</td>\n",
       "      <td>84173</td>\n",
       "    </tr>\n",
       "    <tr>\n",
       "      <th>1</th>\n",
       "      <td>1</td>\n",
       "      <td>2753</td>\n",
       "      <td>2753</td>\n",
       "      <td>2753</td>\n",
       "      <td>2753</td>\n",
       "      <td>2753</td>\n",
       "    </tr>\n",
       "    <tr>\n",
       "      <th>2</th>\n",
       "      <td>2</td>\n",
       "      <td>1405</td>\n",
       "      <td>1405</td>\n",
       "      <td>1405</td>\n",
       "      <td>1405</td>\n",
       "      <td>1405</td>\n",
       "    </tr>\n",
       "    <tr>\n",
       "      <th>3</th>\n",
       "      <td>3</td>\n",
       "      <td>905</td>\n",
       "      <td>905</td>\n",
       "      <td>905</td>\n",
       "      <td>905</td>\n",
       "      <td>905</td>\n",
       "    </tr>\n",
       "    <tr>\n",
       "      <th>4</th>\n",
       "      <td>4</td>\n",
       "      <td>631</td>\n",
       "      <td>631</td>\n",
       "      <td>631</td>\n",
       "      <td>631</td>\n",
       "      <td>631</td>\n",
       "    </tr>\n",
       "    <tr>\n",
       "      <th>...</th>\n",
       "      <td>...</td>\n",
       "      <td>...</td>\n",
       "      <td>...</td>\n",
       "      <td>...</td>\n",
       "      <td>...</td>\n",
       "      <td>...</td>\n",
       "    </tr>\n",
       "    <tr>\n",
       "      <th>1558</th>\n",
       "      <td>116690</td>\n",
       "      <td>1</td>\n",
       "      <td>1</td>\n",
       "      <td>1</td>\n",
       "      <td>1</td>\n",
       "      <td>1</td>\n",
       "    </tr>\n",
       "    <tr>\n",
       "      <th>1559</th>\n",
       "      <td>129262</td>\n",
       "      <td>1</td>\n",
       "      <td>1</td>\n",
       "      <td>1</td>\n",
       "      <td>1</td>\n",
       "      <td>1</td>\n",
       "    </tr>\n",
       "    <tr>\n",
       "      <th>1560</th>\n",
       "      <td>133718</td>\n",
       "      <td>1</td>\n",
       "      <td>1</td>\n",
       "      <td>1</td>\n",
       "      <td>1</td>\n",
       "      <td>1</td>\n",
       "    </tr>\n",
       "    <tr>\n",
       "      <th>1561</th>\n",
       "      <td>136047</td>\n",
       "      <td>1</td>\n",
       "      <td>1</td>\n",
       "      <td>1</td>\n",
       "      <td>1</td>\n",
       "      <td>1</td>\n",
       "    </tr>\n",
       "    <tr>\n",
       "      <th>1562</th>\n",
       "      <td>142280</td>\n",
       "      <td>1</td>\n",
       "      <td>1</td>\n",
       "      <td>1</td>\n",
       "      <td>1</td>\n",
       "      <td>1</td>\n",
       "    </tr>\n",
       "  </tbody>\n",
       "</table>\n",
       "<p>1563 rows × 6 columns</p>\n",
       "</div>"
      ],
      "text/plain": [
       "      num_sequences  location   date  variant  perc_sequences  \\\n",
       "0                 0     84173  84173    84173           84173   \n",
       "1                 1      2753   2753     2753            2753   \n",
       "2                 2      1405   1405     1405            1405   \n",
       "3                 3       905    905      905             905   \n",
       "4                 4       631    631      631             631   \n",
       "...             ...       ...    ...      ...             ...   \n",
       "1558         116690         1      1        1               1   \n",
       "1559         129262         1      1        1               1   \n",
       "1560         133718         1      1        1               1   \n",
       "1561         136047         1      1        1               1   \n",
       "1562         142280         1      1        1               1   \n",
       "\n",
       "      num_sequences_total  \n",
       "0                   84173  \n",
       "1                    2753  \n",
       "2                    1405  \n",
       "3                     905  \n",
       "4                     631  \n",
       "...                   ...  \n",
       "1558                    1  \n",
       "1559                    1  \n",
       "1560                    1  \n",
       "1561                    1  \n",
       "1562                    1  \n",
       "\n",
       "[1563 rows x 6 columns]"
      ]
     },
     "execution_count": 157,
     "metadata": {},
     "output_type": "execute_result"
    }
   ],
   "source": [
    "#df[['location','num_sequences']].sort_values('num_sequences',ascending=False)\n",
    "df.groupby(['num_sequences']).count().reset_index()\n"
   ]
  },
  {
   "cell_type": "code",
   "execution_count": null,
   "id": "e7edee14-6ed1-48be-8c13-8f1e1fada1a1",
   "metadata": {},
   "outputs": [],
   "source": []
  }
 ],
 "metadata": {
  "kernelspec": {
   "display_name": "Python 3",
   "language": "python",
   "name": "python3"
  },
  "language_info": {
   "codemirror_mode": {
    "name": "ipython",
    "version": 3
   },
   "file_extension": ".py",
   "mimetype": "text/x-python",
   "name": "python",
   "nbconvert_exporter": "python",
   "pygments_lexer": "ipython3",
   "version": "3.9.4"
  }
 },
 "nbformat": 4,
 "nbformat_minor": 5
}
