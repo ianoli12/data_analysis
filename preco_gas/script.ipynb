{
 "cells": [
  {
   "cell_type": "code",
   "execution_count": 327,
   "id": "7754ea2b-0ba0-4da4-b202-83a7d8a78154",
   "metadata": {},
   "outputs": [
    {
     "data": {
      "text/html": [
       "<img src=\"https://i.imgur.com/rLmjLpl.jpg\" width=\"900\" height=\"100\"/>"
      ],
      "text/plain": [
       "<IPython.core.display.Image object>"
      ]
     },
     "execution_count": 327,
     "metadata": {},
     "output_type": "execute_result"
    }
   ],
   "source": [
    "from IPython.display import Image\n",
    "from IPython.core.display import HTML\n",
    "Image(url= \"https://i.imgur.com/rLmjLpl.jpg\", width=900, height=100) "
   ]
  },
  {
   "cell_type": "markdown",
   "id": "925bc94e-f60f-4116-9359-30595bb9e054",
   "metadata": {
    "tags": []
   },
   "source": [
    "# PREÇOS DE GÁS NO BRASIL - ANÁLISE EXPLORATÓRIA\n",
    "\n",
    "#### Esse dataset possui dados de preços de gás no Brasil entre 2004 e 2019.\n",
    "#### A Agência Nacional do Petróleo, Gás Natural e Biocombustíveis (ANP) divulga semanalmente os preços do gás, diesel e outros combustíveis utilizados no transporte em todo o país. Esses conjuntos de dados trazem o valor médio por litro, número de postos analisados e outras informações agrupadas por regiões e estados de todo o país.\n",
    "#### Iremos realizar a análise exploratória mostrando informações de maior relevância.\n",
    "\n",
    "Segue abaixo uma breve explicação de cada coluna existente:\n",
    "\n",
    "DATA INICIAL - Data de início de análise dos postos\n",
    "DATA FINAL - Data final de análise dos postos\n",
    "\n",
    "REGIÃO - Região em que os postos foram analisados\n",
    "\n",
    "ESTADO - Estado em que os postos foram analisados\n",
    "\n",
    "PRODUTO - GNV, ETANOL HIDRATADO, GASOLINA....\n",
    "\n",
    "NÚMERO DE POSTOS PESQUISADOS - Somatória de postos de gasolina analisados\n",
    "\n",
    "UNIDADE DE MEDIDA - R$ / l, R$ / M...\n",
    "\n",
    "PREÇO MÉDIO REVENDA - Preço médio na qual o produto foi revendido\n",
    "\n",
    "DESVIO PADRÃO REVENDA - Preço padrão na qual o produto foi revendido\n",
    "\n",
    "PREÇO MÍNIMO REVENDA - Preço mínimo na qual o produto foi revendido\n",
    "\n",
    "PREÇO MÁXIMO REVENDA - Preço máximo na qual o produto foi revendido\n",
    "\n",
    "MARGEM MÉDIA REVENDA - Margem média de preço na qual o produto foi revendido\n",
    "\n",
    "COEF DE VARIAÇÃO REVENDA - Fornece a variação de dados obtidos em relação à média\n",
    "\n",
    "PREÇO MÉDIO DISTRIBUIÇÃO - Preço média na qual um produto foi distribuído\n",
    "\n",
    "DESVIO PADRÃO DISTRIBUIÇÃO - Dispersão padrão dos dados de distribuição dos produtos \n",
    "\n",
    "PREÇO MÍNIMO DISTRIBUIÇÃO - Peço mínimo de distribuição dos produtos\n",
    "\n",
    "PREÇO MÁXIMO DISTRIBUIÇÃO - Peço máximo de distribuição dos produtos\n",
    "\n",
    "COEF DE VARIAÇÃO DISTRIBUIÇÃO - Fornece a variação de dados obtidos em relação à distribuição\n",
    "\n",
    "MÊS - Janeiro, Fevereiro...\n",
    "\n",
    "ANO - 2009,2010....\n"
   ]
  },
  {
   "cell_type": "code",
   "execution_count": 328,
   "id": "51359230-815c-4895-9dbb-78e6953489f0",
   "metadata": {
    "tags": []
   },
   "outputs": [],
   "source": [
    "from sklearn.preprocessing import LabelEncoder\n",
    "from mpl_toolkits.mplot3d import Axes3D\n",
    "import matplotlib.pyplot as plt # plotagem de dados\n",
    "import matplotlib.pyplot\n",
    "import numpy as np # algebra linear\n",
    "import os # acessar estrutura de diretórios\n",
    "import pandas as pd # processamento de dados\n",
    "import seaborn as sns\n",
    "import csv\n",
    "import warnings\n",
    "warnings.filterwarnings(\"ignore\")\n",
    "\n",
    "%matplotlib inline"
   ]
  },
  {
   "cell_type": "markdown",
   "id": "f56e5c65-0d89-4d9d-bfe3-cac97011c92c",
   "metadata": {},
   "source": [
    "### 1 - Importando e visualizando os dados.\n",
    "### 2 - Algumas colunas possuem dados com o caractere \"-\" e por isso não podem ser \n",
    "###     convertidas para números, portanto, não estão exatamente nulas. \n",
    "### 3 - Vamos substituir esses dados pelo valor NaN e depois substituir pela mediana dos dados dessa coluna."
   ]
  },
  {
   "cell_type": "code",
   "execution_count": 329,
   "id": "bronze-demand",
   "metadata": {},
   "outputs": [
    {
     "data": {
      "text/html": [
       "<div>\n",
       "<style scoped>\n",
       "    .dataframe tbody tr th:only-of-type {\n",
       "        vertical-align: middle;\n",
       "    }\n",
       "\n",
       "    .dataframe tbody tr th {\n",
       "        vertical-align: top;\n",
       "    }\n",
       "\n",
       "    .dataframe thead th {\n",
       "        text-align: right;\n",
       "    }\n",
       "</style>\n",
       "<table border=\"1\" class=\"dataframe\">\n",
       "  <thead>\n",
       "    <tr style=\"text-align: right;\">\n",
       "      <th></th>\n",
       "      <th>DATA INICIAL</th>\n",
       "      <th>DATA FINAL</th>\n",
       "      <th>REGIÃO</th>\n",
       "      <th>ESTADO</th>\n",
       "      <th>PRODUTO</th>\n",
       "      <th>NÚMERO DE POSTOS PESQUISADOS</th>\n",
       "      <th>UNIDADE DE MEDIDA</th>\n",
       "      <th>PREÇO MÉDIO REVENDA</th>\n",
       "      <th>DESVIO PADRÃO REVENDA</th>\n",
       "      <th>PREÇO MÍNIMO REVENDA</th>\n",
       "      <th>PREÇO MÁXIMO REVENDA</th>\n",
       "      <th>MARGEM MÉDIA REVENDA</th>\n",
       "      <th>COEF DE VARIAÇÃO REVENDA</th>\n",
       "      <th>PREÇO MÉDIO DISTRIBUIÇÃO</th>\n",
       "      <th>DESVIO PADRÃO DISTRIBUIÇÃO</th>\n",
       "      <th>PREÇO MÍNIMO DISTRIBUIÇÃO</th>\n",
       "      <th>PREÇO MÁXIMO DISTRIBUIÇÃO</th>\n",
       "      <th>COEF DE VARIAÇÃO DISTRIBUIÇÃO</th>\n",
       "      <th>MÊS</th>\n",
       "      <th>ANO</th>\n",
       "    </tr>\n",
       "  </thead>\n",
       "  <tbody>\n",
       "    <tr>\n",
       "      <th>0</th>\n",
       "      <td>2004-05-09</td>\n",
       "      <td>2004-05-15</td>\n",
       "      <td>CENTRO OESTE</td>\n",
       "      <td>DISTRITO FEDERAL</td>\n",
       "      <td>ETANOL HIDRATADO</td>\n",
       "      <td>127</td>\n",
       "      <td>R$/l</td>\n",
       "      <td>1.288</td>\n",
       "      <td>0.016</td>\n",
       "      <td>1.19</td>\n",
       "      <td>1.350</td>\n",
       "      <td>0.463</td>\n",
       "      <td>0.012</td>\n",
       "      <td>0.825</td>\n",
       "      <td>0.110</td>\n",
       "      <td>0.4201</td>\n",
       "      <td>0.96660</td>\n",
       "      <td>0.133</td>\n",
       "      <td>5</td>\n",
       "      <td>2004</td>\n",
       "    </tr>\n",
       "    <tr>\n",
       "      <th>1</th>\n",
       "      <td>2004-05-09</td>\n",
       "      <td>2004-05-15</td>\n",
       "      <td>CENTRO OESTE</td>\n",
       "      <td>GOIAS</td>\n",
       "      <td>ETANOL HIDRATADO</td>\n",
       "      <td>387</td>\n",
       "      <td>R$/l</td>\n",
       "      <td>1.162</td>\n",
       "      <td>0.114</td>\n",
       "      <td>0.89</td>\n",
       "      <td>1.449</td>\n",
       "      <td>0.399</td>\n",
       "      <td>0.098</td>\n",
       "      <td>0.763</td>\n",
       "      <td>0.088</td>\n",
       "      <td>0.5013</td>\n",
       "      <td>1.05000</td>\n",
       "      <td>0.115</td>\n",
       "      <td>5</td>\n",
       "      <td>2004</td>\n",
       "    </tr>\n",
       "    <tr>\n",
       "      <th>2</th>\n",
       "      <td>2004-05-09</td>\n",
       "      <td>2004-05-15</td>\n",
       "      <td>CENTRO OESTE</td>\n",
       "      <td>MATO GROSSO</td>\n",
       "      <td>ETANOL HIDRATADO</td>\n",
       "      <td>192</td>\n",
       "      <td>R$/l</td>\n",
       "      <td>1.389</td>\n",
       "      <td>0.097</td>\n",
       "      <td>1.18</td>\n",
       "      <td>1.760</td>\n",
       "      <td>0.419</td>\n",
       "      <td>0.070</td>\n",
       "      <td>0.970</td>\n",
       "      <td>0.095</td>\n",
       "      <td>0.5614</td>\n",
       "      <td>1.16100</td>\n",
       "      <td>0.098</td>\n",
       "      <td>5</td>\n",
       "      <td>2004</td>\n",
       "    </tr>\n",
       "    <tr>\n",
       "      <th>3</th>\n",
       "      <td>2004-05-09</td>\n",
       "      <td>2004-05-15</td>\n",
       "      <td>CENTRO OESTE</td>\n",
       "      <td>MATO GROSSO DO SUL</td>\n",
       "      <td>ETANOL HIDRATADO</td>\n",
       "      <td>162</td>\n",
       "      <td>R$/l</td>\n",
       "      <td>1.262</td>\n",
       "      <td>0.070</td>\n",
       "      <td>1.09</td>\n",
       "      <td>1.509</td>\n",
       "      <td>0.432</td>\n",
       "      <td>0.055</td>\n",
       "      <td>0.830</td>\n",
       "      <td>0.119</td>\n",
       "      <td>0.5991</td>\n",
       "      <td>1.22242</td>\n",
       "      <td>0.143</td>\n",
       "      <td>5</td>\n",
       "      <td>2004</td>\n",
       "    </tr>\n",
       "    <tr>\n",
       "      <th>4</th>\n",
       "      <td>2004-05-09</td>\n",
       "      <td>2004-05-15</td>\n",
       "      <td>NORDESTE</td>\n",
       "      <td>ALAGOAS</td>\n",
       "      <td>ETANOL HIDRATADO</td>\n",
       "      <td>103</td>\n",
       "      <td>R$/l</td>\n",
       "      <td>1.181</td>\n",
       "      <td>0.078</td>\n",
       "      <td>1.05</td>\n",
       "      <td>1.400</td>\n",
       "      <td>0.240</td>\n",
       "      <td>0.066</td>\n",
       "      <td>0.941</td>\n",
       "      <td>0.077</td>\n",
       "      <td>0.7441</td>\n",
       "      <td>1.03170</td>\n",
       "      <td>0.082</td>\n",
       "      <td>5</td>\n",
       "      <td>2004</td>\n",
       "    </tr>\n",
       "  </tbody>\n",
       "</table>\n",
       "</div>"
      ],
      "text/plain": [
       "  DATA INICIAL  DATA FINAL        REGIÃO              ESTADO  \\\n",
       "0   2004-05-09  2004-05-15  CENTRO OESTE    DISTRITO FEDERAL   \n",
       "1   2004-05-09  2004-05-15  CENTRO OESTE               GOIAS   \n",
       "2   2004-05-09  2004-05-15  CENTRO OESTE         MATO GROSSO   \n",
       "3   2004-05-09  2004-05-15  CENTRO OESTE  MATO GROSSO DO SUL   \n",
       "4   2004-05-09  2004-05-15      NORDESTE             ALAGOAS   \n",
       "\n",
       "            PRODUTO  NÚMERO DE POSTOS PESQUISADOS UNIDADE DE MEDIDA  \\\n",
       "0  ETANOL HIDRATADO                           127              R$/l   \n",
       "1  ETANOL HIDRATADO                           387              R$/l   \n",
       "2  ETANOL HIDRATADO                           192              R$/l   \n",
       "3  ETANOL HIDRATADO                           162              R$/l   \n",
       "4  ETANOL HIDRATADO                           103              R$/l   \n",
       "\n",
       "   PREÇO MÉDIO REVENDA  DESVIO PADRÃO REVENDA  PREÇO MÍNIMO REVENDA  \\\n",
       "0                1.288                  0.016                  1.19   \n",
       "1                1.162                  0.114                  0.89   \n",
       "2                1.389                  0.097                  1.18   \n",
       "3                1.262                  0.070                  1.09   \n",
       "4                1.181                  0.078                  1.05   \n",
       "\n",
       "   PREÇO MÁXIMO REVENDA  MARGEM MÉDIA REVENDA  COEF DE VARIAÇÃO REVENDA  \\\n",
       "0                 1.350                 0.463                     0.012   \n",
       "1                 1.449                 0.399                     0.098   \n",
       "2                 1.760                 0.419                     0.070   \n",
       "3                 1.509                 0.432                     0.055   \n",
       "4                 1.400                 0.240                     0.066   \n",
       "\n",
       "   PREÇO MÉDIO DISTRIBUIÇÃO  DESVIO PADRÃO DISTRIBUIÇÃO  \\\n",
       "0                     0.825                       0.110   \n",
       "1                     0.763                       0.088   \n",
       "2                     0.970                       0.095   \n",
       "3                     0.830                       0.119   \n",
       "4                     0.941                       0.077   \n",
       "\n",
       "   PREÇO MÍNIMO DISTRIBUIÇÃO  PREÇO MÁXIMO DISTRIBUIÇÃO  \\\n",
       "0                     0.4201                    0.96660   \n",
       "1                     0.5013                    1.05000   \n",
       "2                     0.5614                    1.16100   \n",
       "3                     0.5991                    1.22242   \n",
       "4                     0.7441                    1.03170   \n",
       "\n",
       "   COEF DE VARIAÇÃO DISTRIBUIÇÃO  MÊS   ANO  \n",
       "0                          0.133    5  2004  \n",
       "1                          0.115    5  2004  \n",
       "2                          0.098    5  2004  \n",
       "3                          0.143    5  2004  \n",
       "4                          0.082    5  2004  "
      ]
     },
     "execution_count": 329,
     "metadata": {},
     "output_type": "execute_result"
    }
   ],
   "source": [
    "#df = pd.read_table(\"2004-2019.tsv\")\n",
    "valores_incorretos = ['-','NaN','na','--','.','n/a']\n",
    "df = pd.read_csv(\"2004-2019.tsv\", delimiter='\\t',na_values=valores_incorretos)\n",
    "df.drop('Unnamed: 0',inplace=True,axis=1) #deleta a coluna Unnamed: 0\n",
    "df.head()"
   ]
  },
  {
   "cell_type": "code",
   "execution_count": 330,
   "id": "coral-regulation",
   "metadata": {},
   "outputs": [
    {
     "data": {
      "text/html": [
       "<div>\n",
       "<style scoped>\n",
       "    .dataframe tbody tr th:only-of-type {\n",
       "        vertical-align: middle;\n",
       "    }\n",
       "\n",
       "    .dataframe tbody tr th {\n",
       "        vertical-align: top;\n",
       "    }\n",
       "\n",
       "    .dataframe thead th {\n",
       "        text-align: right;\n",
       "    }\n",
       "</style>\n",
       "<table border=\"1\" class=\"dataframe\">\n",
       "  <thead>\n",
       "    <tr style=\"text-align: right;\">\n",
       "      <th></th>\n",
       "      <th>NÚMERO DE POSTOS PESQUISADOS</th>\n",
       "      <th>PREÇO MÉDIO REVENDA</th>\n",
       "      <th>DESVIO PADRÃO REVENDA</th>\n",
       "      <th>PREÇO MÍNIMO REVENDA</th>\n",
       "      <th>PREÇO MÁXIMO REVENDA</th>\n",
       "      <th>MARGEM MÉDIA REVENDA</th>\n",
       "      <th>COEF DE VARIAÇÃO REVENDA</th>\n",
       "      <th>PREÇO MÉDIO DISTRIBUIÇÃO</th>\n",
       "      <th>DESVIO PADRÃO DISTRIBUIÇÃO</th>\n",
       "      <th>PREÇO MÍNIMO DISTRIBUIÇÃO</th>\n",
       "      <th>PREÇO MÁXIMO DISTRIBUIÇÃO</th>\n",
       "      <th>COEF DE VARIAÇÃO DISTRIBUIÇÃO</th>\n",
       "      <th>MÊS</th>\n",
       "      <th>ANO</th>\n",
       "    </tr>\n",
       "  </thead>\n",
       "  <tbody>\n",
       "    <tr>\n",
       "      <th>count</th>\n",
       "      <td>106823.000000</td>\n",
       "      <td>106823.000000</td>\n",
       "      <td>106823.000000</td>\n",
       "      <td>106823.000000</td>\n",
       "      <td>106823.000000</td>\n",
       "      <td>103392.000000</td>\n",
       "      <td>106823.000000</td>\n",
       "      <td>103423.000000</td>\n",
       "      <td>103423.000000</td>\n",
       "      <td>103423.000000</td>\n",
       "      <td>103423.000000</td>\n",
       "      <td>103423.000000</td>\n",
       "      <td>106823.000000</td>\n",
       "      <td>106823.000000</td>\n",
       "    </tr>\n",
       "    <tr>\n",
       "      <th>mean</th>\n",
       "      <td>233.770976</td>\n",
       "      <td>10.870780</td>\n",
       "      <td>0.657227</td>\n",
       "      <td>9.416038</td>\n",
       "      <td>12.537731</td>\n",
       "      <td>2.225151</td>\n",
       "      <td>0.045418</td>\n",
       "      <td>8.557966</td>\n",
       "      <td>0.559404</td>\n",
       "      <td>7.413641</td>\n",
       "      <td>9.803920</td>\n",
       "      <td>0.046636</td>\n",
       "      <td>6.484006</td>\n",
       "      <td>2011.802271</td>\n",
       "    </tr>\n",
       "    <tr>\n",
       "      <th>std</th>\n",
       "      <td>403.282519</td>\n",
       "      <td>17.752533</td>\n",
       "      <td>1.349169</td>\n",
       "      <td>15.092193</td>\n",
       "      <td>20.841497</td>\n",
       "      <td>4.375085</td>\n",
       "      <td>0.025066</td>\n",
       "      <td>13.603255</td>\n",
       "      <td>1.257212</td>\n",
       "      <td>11.680812</td>\n",
       "      <td>15.933194</td>\n",
       "      <td>0.042134</td>\n",
       "      <td>3.443391</td>\n",
       "      <td>4.391530</td>\n",
       "    </tr>\n",
       "    <tr>\n",
       "      <th>min</th>\n",
       "      <td>1.000000</td>\n",
       "      <td>0.766000</td>\n",
       "      <td>0.000000</td>\n",
       "      <td>0.590000</td>\n",
       "      <td>0.999000</td>\n",
       "      <td>0.001000</td>\n",
       "      <td>0.000000</td>\n",
       "      <td>0.506000</td>\n",
       "      <td>0.000000</td>\n",
       "      <td>0.325700</td>\n",
       "      <td>0.599200</td>\n",
       "      <td>0.000000</td>\n",
       "      <td>1.000000</td>\n",
       "      <td>2004.000000</td>\n",
       "    </tr>\n",
       "    <tr>\n",
       "      <th>25%</th>\n",
       "      <td>42.000000</td>\n",
       "      <td>2.072000</td>\n",
       "      <td>0.072000</td>\n",
       "      <td>1.900000</td>\n",
       "      <td>2.310000</td>\n",
       "      <td>0.282000</td>\n",
       "      <td>0.029000</td>\n",
       "      <td>1.795000</td>\n",
       "      <td>0.047000</td>\n",
       "      <td>1.674400</td>\n",
       "      <td>1.945600</td>\n",
       "      <td>0.021000</td>\n",
       "      <td>4.000000</td>\n",
       "      <td>2008.000000</td>\n",
       "    </tr>\n",
       "    <tr>\n",
       "      <th>50%</th>\n",
       "      <td>104.000000</td>\n",
       "      <td>2.718000</td>\n",
       "      <td>0.114000</td>\n",
       "      <td>2.510000</td>\n",
       "      <td>2.999000</td>\n",
       "      <td>0.383000</td>\n",
       "      <td>0.041000</td>\n",
       "      <td>2.335000</td>\n",
       "      <td>0.077000</td>\n",
       "      <td>2.219700</td>\n",
       "      <td>2.507000</td>\n",
       "      <td>0.030000</td>\n",
       "      <td>6.000000</td>\n",
       "      <td>2012.000000</td>\n",
       "    </tr>\n",
       "    <tr>\n",
       "      <th>75%</th>\n",
       "      <td>243.000000</td>\n",
       "      <td>3.752000</td>\n",
       "      <td>0.191000</td>\n",
       "      <td>3.499000</td>\n",
       "      <td>4.150000</td>\n",
       "      <td>0.560000</td>\n",
       "      <td>0.058000</td>\n",
       "      <td>3.306000</td>\n",
       "      <td>0.151000</td>\n",
       "      <td>3.142600</td>\n",
       "      <td>3.520000</td>\n",
       "      <td>0.061000</td>\n",
       "      <td>9.000000</td>\n",
       "      <td>2016.000000</td>\n",
       "    </tr>\n",
       "    <tr>\n",
       "      <th>max</th>\n",
       "      <td>4167.000000</td>\n",
       "      <td>99.357000</td>\n",
       "      <td>10.748000</td>\n",
       "      <td>90.000000</td>\n",
       "      <td>120.000000</td>\n",
       "      <td>36.847000</td>\n",
       "      <td>0.395000</td>\n",
       "      <td>83.137000</td>\n",
       "      <td>18.385000</td>\n",
       "      <td>83.000000</td>\n",
       "      <td>94.500000</td>\n",
       "      <td>0.780000</td>\n",
       "      <td>12.000000</td>\n",
       "      <td>2019.000000</td>\n",
       "    </tr>\n",
       "  </tbody>\n",
       "</table>\n",
       "</div>"
      ],
      "text/plain": [
       "       NÚMERO DE POSTOS PESQUISADOS  PREÇO MÉDIO REVENDA  \\\n",
       "count                 106823.000000        106823.000000   \n",
       "mean                     233.770976            10.870780   \n",
       "std                      403.282519            17.752533   \n",
       "min                        1.000000             0.766000   \n",
       "25%                       42.000000             2.072000   \n",
       "50%                      104.000000             2.718000   \n",
       "75%                      243.000000             3.752000   \n",
       "max                     4167.000000            99.357000   \n",
       "\n",
       "       DESVIO PADRÃO REVENDA  PREÇO MÍNIMO REVENDA  PREÇO MÁXIMO REVENDA  \\\n",
       "count          106823.000000         106823.000000         106823.000000   \n",
       "mean                0.657227              9.416038             12.537731   \n",
       "std                 1.349169             15.092193             20.841497   \n",
       "min                 0.000000              0.590000              0.999000   \n",
       "25%                 0.072000              1.900000              2.310000   \n",
       "50%                 0.114000              2.510000              2.999000   \n",
       "75%                 0.191000              3.499000              4.150000   \n",
       "max                10.748000             90.000000            120.000000   \n",
       "\n",
       "       MARGEM MÉDIA REVENDA  COEF DE VARIAÇÃO REVENDA  \\\n",
       "count         103392.000000             106823.000000   \n",
       "mean               2.225151                  0.045418   \n",
       "std                4.375085                  0.025066   \n",
       "min                0.001000                  0.000000   \n",
       "25%                0.282000                  0.029000   \n",
       "50%                0.383000                  0.041000   \n",
       "75%                0.560000                  0.058000   \n",
       "max               36.847000                  0.395000   \n",
       "\n",
       "       PREÇO MÉDIO DISTRIBUIÇÃO  DESVIO PADRÃO DISTRIBUIÇÃO  \\\n",
       "count             103423.000000               103423.000000   \n",
       "mean                   8.557966                    0.559404   \n",
       "std                   13.603255                    1.257212   \n",
       "min                    0.506000                    0.000000   \n",
       "25%                    1.795000                    0.047000   \n",
       "50%                    2.335000                    0.077000   \n",
       "75%                    3.306000                    0.151000   \n",
       "max                   83.137000                   18.385000   \n",
       "\n",
       "       PREÇO MÍNIMO DISTRIBUIÇÃO  PREÇO MÁXIMO DISTRIBUIÇÃO  \\\n",
       "count              103423.000000              103423.000000   \n",
       "mean                    7.413641                   9.803920   \n",
       "std                    11.680812                  15.933194   \n",
       "min                     0.325700                   0.599200   \n",
       "25%                     1.674400                   1.945600   \n",
       "50%                     2.219700                   2.507000   \n",
       "75%                     3.142600                   3.520000   \n",
       "max                    83.000000                  94.500000   \n",
       "\n",
       "       COEF DE VARIAÇÃO DISTRIBUIÇÃO            MÊS            ANO  \n",
       "count                  103423.000000  106823.000000  106823.000000  \n",
       "mean                        0.046636       6.484006    2011.802271  \n",
       "std                         0.042134       3.443391       4.391530  \n",
       "min                         0.000000       1.000000    2004.000000  \n",
       "25%                         0.021000       4.000000    2008.000000  \n",
       "50%                         0.030000       6.000000    2012.000000  \n",
       "75%                         0.061000       9.000000    2016.000000  \n",
       "max                         0.780000      12.000000    2019.000000  "
      ]
     },
     "execution_count": 330,
     "metadata": {},
     "output_type": "execute_result"
    }
   ],
   "source": [
    "df.describe()"
   ]
  },
  {
   "cell_type": "markdown",
   "id": "676c221f-bc90-4336-927b-0e623f4c05fe",
   "metadata": {},
   "source": [
    "### Tipos de dados das colunas"
   ]
  },
  {
   "cell_type": "code",
   "execution_count": 331,
   "id": "split-specific",
   "metadata": {},
   "outputs": [
    {
     "name": "stdout",
     "output_type": "stream",
     "text": [
      "<class 'pandas.core.frame.DataFrame'>\n",
      "RangeIndex: 106823 entries, 0 to 106822\n",
      "Data columns (total 20 columns):\n",
      " #   Column                         Non-Null Count   Dtype  \n",
      "---  ------                         --------------   -----  \n",
      " 0   DATA INICIAL                   106823 non-null  object \n",
      " 1   DATA FINAL                     106823 non-null  object \n",
      " 2   REGIÃO                         106823 non-null  object \n",
      " 3   ESTADO                         106823 non-null  object \n",
      " 4   PRODUTO                        106823 non-null  object \n",
      " 5   NÚMERO DE POSTOS PESQUISADOS   106823 non-null  int64  \n",
      " 6   UNIDADE DE MEDIDA              106823 non-null  object \n",
      " 7   PREÇO MÉDIO REVENDA            106823 non-null  float64\n",
      " 8   DESVIO PADRÃO REVENDA          106823 non-null  float64\n",
      " 9   PREÇO MÍNIMO REVENDA           106823 non-null  float64\n",
      " 10  PREÇO MÁXIMO REVENDA           106823 non-null  float64\n",
      " 11  MARGEM MÉDIA REVENDA           103392 non-null  float64\n",
      " 12  COEF DE VARIAÇÃO REVENDA       106823 non-null  float64\n",
      " 13  PREÇO MÉDIO DISTRIBUIÇÃO       103423 non-null  float64\n",
      " 14  DESVIO PADRÃO DISTRIBUIÇÃO     103423 non-null  float64\n",
      " 15  PREÇO MÍNIMO DISTRIBUIÇÃO      103423 non-null  float64\n",
      " 16  PREÇO MÁXIMO DISTRIBUIÇÃO      103423 non-null  float64\n",
      " 17  COEF DE VARIAÇÃO DISTRIBUIÇÃO  103423 non-null  float64\n",
      " 18  MÊS                            106823 non-null  int64  \n",
      " 19  ANO                            106823 non-null  int64  \n",
      "dtypes: float64(11), int64(3), object(6)\n",
      "memory usage: 16.3+ MB\n"
     ]
    }
   ],
   "source": [
    "df.info()"
   ]
  },
  {
   "cell_type": "code",
   "execution_count": 332,
   "id": "fluid-console",
   "metadata": {},
   "outputs": [
    {
     "data": {
      "text/plain": [
       "Index(['DATA INICIAL', 'DATA FINAL', 'REGIÃO', 'ESTADO', 'PRODUTO',\n",
       "       'NÚMERO DE POSTOS PESQUISADOS', 'UNIDADE DE MEDIDA',\n",
       "       'PREÇO MÉDIO REVENDA', 'DESVIO PADRÃO REVENDA', 'PREÇO MÍNIMO REVENDA',\n",
       "       'PREÇO MÁXIMO REVENDA', 'MARGEM MÉDIA REVENDA',\n",
       "       'COEF DE VARIAÇÃO REVENDA', 'PREÇO MÉDIO DISTRIBUIÇÃO',\n",
       "       'DESVIO PADRÃO DISTRIBUIÇÃO', 'PREÇO MÍNIMO DISTRIBUIÇÃO',\n",
       "       'PREÇO MÁXIMO DISTRIBUIÇÃO', 'COEF DE VARIAÇÃO DISTRIBUIÇÃO', 'MÊS',\n",
       "       'ANO'],\n",
       "      dtype='object')"
      ]
     },
     "execution_count": 332,
     "metadata": {},
     "output_type": "execute_result"
    }
   ],
   "source": [
    "df.columns"
   ]
  },
  {
   "cell_type": "markdown",
   "id": "1dd3e19f-eecf-4216-bdea-e8d13568f3f5",
   "metadata": {},
   "source": [
    "### Alterando os nomes de algumas colunas"
   ]
  },
  {
   "cell_type": "code",
   "execution_count": 333,
   "id": "laughing-consumer",
   "metadata": {},
   "outputs": [],
   "source": [
    "df = df.rename(columns={'DATA INICIAL': 'DATA_INICIAL',\n",
    "                        'DATA FINAL': 'DATA_FINAL',\n",
    "                        'REGIÃO': 'REGIAO',\n",
    "                        'NÚMERO DE POSTOS PESQUISADOS': 'NUMERO_POSTOS_PESQUISADOS',\n",
    "                        'UNIDADE DE MEDIDA': 'UNIDADE_DE_MEDIDA',\n",
    "                        'PREÇO MÉDIO REVENDA': 'PRECO_MEDIO_REVENDA',\n",
    "                        'DESVIO PADRÃO REVENDA': 'DESVIO_PADR_REVENDA',\n",
    "                        'PREÇO MÍNIMO REVENDA': 'PRECO_MIN_REVENDA',\n",
    "                        'PREÇO MÁXIMO REVENDA': 'PRECO_MAX_REVENDA',\n",
    "                        'MARGEM MÉDIA REVENDA': 'MARGEM_MED_REVENDA',\n",
    "                        'COEF DE VARIAÇÃO REVENDA': 'COEF_VARIACAO_REVENDA',\n",
    "                        'PREÇO MÉDIO DISTRIBUIÇÃO': 'PRECO_MED_DISTRIBUICAO',\n",
    "                        'DESVIO PADRÃO DISTRIBUIÇÃO': 'DESVIO_PADR_DISTRIB',\n",
    "                        'PREÇO MÍNIMO DISTRIBUIÇÃO': 'PRECO_MIN_DISTRIB',\n",
    "                        'PREÇO MÁXIMO DISTRIBUIÇÃO': 'PRECO_MAX_DISTRIB',\n",
    "                        'COEF DE VARIAÇÃO DISTRIBUIÇÃO': 'COEF_VARIACAO_DISTRIB',\n",
    "                        'MÊS': 'MES'})\n",
    "# Ou podemos usar o comando df.columns.str.replace(' ', '_')"
   ]
  },
  {
   "cell_type": "code",
   "execution_count": 334,
   "id": "enhanced-yield",
   "metadata": {
    "scrolled": true
   },
   "outputs": [
    {
     "data": {
      "text/html": [
       "<div>\n",
       "<style scoped>\n",
       "    .dataframe tbody tr th:only-of-type {\n",
       "        vertical-align: middle;\n",
       "    }\n",
       "\n",
       "    .dataframe tbody tr th {\n",
       "        vertical-align: top;\n",
       "    }\n",
       "\n",
       "    .dataframe thead th {\n",
       "        text-align: right;\n",
       "    }\n",
       "</style>\n",
       "<table border=\"1\" class=\"dataframe\">\n",
       "  <thead>\n",
       "    <tr style=\"text-align: right;\">\n",
       "      <th></th>\n",
       "      <th>DATA_INICIAL</th>\n",
       "      <th>DATA_FINAL</th>\n",
       "      <th>REGIAO</th>\n",
       "      <th>ESTADO</th>\n",
       "      <th>PRODUTO</th>\n",
       "      <th>NUMERO_POSTOS_PESQUISADOS</th>\n",
       "      <th>UNIDADE_DE_MEDIDA</th>\n",
       "      <th>PRECO_MEDIO_REVENDA</th>\n",
       "      <th>DESVIO_PADR_REVENDA</th>\n",
       "      <th>PRECO_MIN_REVENDA</th>\n",
       "      <th>PRECO_MAX_REVENDA</th>\n",
       "      <th>MARGEM_MED_REVENDA</th>\n",
       "      <th>COEF_VARIACAO_REVENDA</th>\n",
       "      <th>PRECO_MED_DISTRIBUICAO</th>\n",
       "      <th>DESVIO_PADR_DISTRIB</th>\n",
       "      <th>PRECO_MIN_DISTRIB</th>\n",
       "      <th>PRECO_MAX_DISTRIB</th>\n",
       "      <th>COEF_VARIACAO_DISTRIB</th>\n",
       "      <th>MES</th>\n",
       "      <th>ANO</th>\n",
       "    </tr>\n",
       "  </thead>\n",
       "  <tbody>\n",
       "    <tr>\n",
       "      <th>0</th>\n",
       "      <td>2004-05-09</td>\n",
       "      <td>2004-05-15</td>\n",
       "      <td>CENTRO OESTE</td>\n",
       "      <td>DISTRITO FEDERAL</td>\n",
       "      <td>ETANOL HIDRATADO</td>\n",
       "      <td>127</td>\n",
       "      <td>R$/l</td>\n",
       "      <td>1.288</td>\n",
       "      <td>0.016</td>\n",
       "      <td>1.19</td>\n",
       "      <td>1.350</td>\n",
       "      <td>0.463</td>\n",
       "      <td>0.012</td>\n",
       "      <td>0.825</td>\n",
       "      <td>0.110</td>\n",
       "      <td>0.4201</td>\n",
       "      <td>0.96660</td>\n",
       "      <td>0.133</td>\n",
       "      <td>5</td>\n",
       "      <td>2004</td>\n",
       "    </tr>\n",
       "    <tr>\n",
       "      <th>1</th>\n",
       "      <td>2004-05-09</td>\n",
       "      <td>2004-05-15</td>\n",
       "      <td>CENTRO OESTE</td>\n",
       "      <td>GOIAS</td>\n",
       "      <td>ETANOL HIDRATADO</td>\n",
       "      <td>387</td>\n",
       "      <td>R$/l</td>\n",
       "      <td>1.162</td>\n",
       "      <td>0.114</td>\n",
       "      <td>0.89</td>\n",
       "      <td>1.449</td>\n",
       "      <td>0.399</td>\n",
       "      <td>0.098</td>\n",
       "      <td>0.763</td>\n",
       "      <td>0.088</td>\n",
       "      <td>0.5013</td>\n",
       "      <td>1.05000</td>\n",
       "      <td>0.115</td>\n",
       "      <td>5</td>\n",
       "      <td>2004</td>\n",
       "    </tr>\n",
       "    <tr>\n",
       "      <th>2</th>\n",
       "      <td>2004-05-09</td>\n",
       "      <td>2004-05-15</td>\n",
       "      <td>CENTRO OESTE</td>\n",
       "      <td>MATO GROSSO</td>\n",
       "      <td>ETANOL HIDRATADO</td>\n",
       "      <td>192</td>\n",
       "      <td>R$/l</td>\n",
       "      <td>1.389</td>\n",
       "      <td>0.097</td>\n",
       "      <td>1.18</td>\n",
       "      <td>1.760</td>\n",
       "      <td>0.419</td>\n",
       "      <td>0.070</td>\n",
       "      <td>0.970</td>\n",
       "      <td>0.095</td>\n",
       "      <td>0.5614</td>\n",
       "      <td>1.16100</td>\n",
       "      <td>0.098</td>\n",
       "      <td>5</td>\n",
       "      <td>2004</td>\n",
       "    </tr>\n",
       "    <tr>\n",
       "      <th>3</th>\n",
       "      <td>2004-05-09</td>\n",
       "      <td>2004-05-15</td>\n",
       "      <td>CENTRO OESTE</td>\n",
       "      <td>MATO GROSSO DO SUL</td>\n",
       "      <td>ETANOL HIDRATADO</td>\n",
       "      <td>162</td>\n",
       "      <td>R$/l</td>\n",
       "      <td>1.262</td>\n",
       "      <td>0.070</td>\n",
       "      <td>1.09</td>\n",
       "      <td>1.509</td>\n",
       "      <td>0.432</td>\n",
       "      <td>0.055</td>\n",
       "      <td>0.830</td>\n",
       "      <td>0.119</td>\n",
       "      <td>0.5991</td>\n",
       "      <td>1.22242</td>\n",
       "      <td>0.143</td>\n",
       "      <td>5</td>\n",
       "      <td>2004</td>\n",
       "    </tr>\n",
       "    <tr>\n",
       "      <th>4</th>\n",
       "      <td>2004-05-09</td>\n",
       "      <td>2004-05-15</td>\n",
       "      <td>NORDESTE</td>\n",
       "      <td>ALAGOAS</td>\n",
       "      <td>ETANOL HIDRATADO</td>\n",
       "      <td>103</td>\n",
       "      <td>R$/l</td>\n",
       "      <td>1.181</td>\n",
       "      <td>0.078</td>\n",
       "      <td>1.05</td>\n",
       "      <td>1.400</td>\n",
       "      <td>0.240</td>\n",
       "      <td>0.066</td>\n",
       "      <td>0.941</td>\n",
       "      <td>0.077</td>\n",
       "      <td>0.7441</td>\n",
       "      <td>1.03170</td>\n",
       "      <td>0.082</td>\n",
       "      <td>5</td>\n",
       "      <td>2004</td>\n",
       "    </tr>\n",
       "  </tbody>\n",
       "</table>\n",
       "</div>"
      ],
      "text/plain": [
       "  DATA_INICIAL  DATA_FINAL        REGIAO              ESTADO  \\\n",
       "0   2004-05-09  2004-05-15  CENTRO OESTE    DISTRITO FEDERAL   \n",
       "1   2004-05-09  2004-05-15  CENTRO OESTE               GOIAS   \n",
       "2   2004-05-09  2004-05-15  CENTRO OESTE         MATO GROSSO   \n",
       "3   2004-05-09  2004-05-15  CENTRO OESTE  MATO GROSSO DO SUL   \n",
       "4   2004-05-09  2004-05-15      NORDESTE             ALAGOAS   \n",
       "\n",
       "            PRODUTO  NUMERO_POSTOS_PESQUISADOS UNIDADE_DE_MEDIDA  \\\n",
       "0  ETANOL HIDRATADO                        127              R$/l   \n",
       "1  ETANOL HIDRATADO                        387              R$/l   \n",
       "2  ETANOL HIDRATADO                        192              R$/l   \n",
       "3  ETANOL HIDRATADO                        162              R$/l   \n",
       "4  ETANOL HIDRATADO                        103              R$/l   \n",
       "\n",
       "   PRECO_MEDIO_REVENDA  DESVIO_PADR_REVENDA  PRECO_MIN_REVENDA  \\\n",
       "0                1.288                0.016               1.19   \n",
       "1                1.162                0.114               0.89   \n",
       "2                1.389                0.097               1.18   \n",
       "3                1.262                0.070               1.09   \n",
       "4                1.181                0.078               1.05   \n",
       "\n",
       "   PRECO_MAX_REVENDA  MARGEM_MED_REVENDA  COEF_VARIACAO_REVENDA  \\\n",
       "0              1.350               0.463                  0.012   \n",
       "1              1.449               0.399                  0.098   \n",
       "2              1.760               0.419                  0.070   \n",
       "3              1.509               0.432                  0.055   \n",
       "4              1.400               0.240                  0.066   \n",
       "\n",
       "   PRECO_MED_DISTRIBUICAO  DESVIO_PADR_DISTRIB  PRECO_MIN_DISTRIB  \\\n",
       "0                   0.825                0.110             0.4201   \n",
       "1                   0.763                0.088             0.5013   \n",
       "2                   0.970                0.095             0.5614   \n",
       "3                   0.830                0.119             0.5991   \n",
       "4                   0.941                0.077             0.7441   \n",
       "\n",
       "   PRECO_MAX_DISTRIB  COEF_VARIACAO_DISTRIB  MES   ANO  \n",
       "0            0.96660                  0.133    5  2004  \n",
       "1            1.05000                  0.115    5  2004  \n",
       "2            1.16100                  0.098    5  2004  \n",
       "3            1.22242                  0.143    5  2004  \n",
       "4            1.03170                  0.082    5  2004  "
      ]
     },
     "execution_count": 334,
     "metadata": {},
     "output_type": "execute_result"
    }
   ],
   "source": [
    "df.head()"
   ]
  },
  {
   "cell_type": "markdown",
   "id": "1c4a0126-0822-4b35-81c1-8c1b23c68ddb",
   "metadata": {},
   "source": [
    "### Somatória dos valores nulos por coluna"
   ]
  },
  {
   "cell_type": "code",
   "execution_count": 335,
   "id": "adopted-omega",
   "metadata": {},
   "outputs": [
    {
     "data": {
      "text/plain": [
       "DATA_INICIAL                    0\n",
       "DATA_FINAL                      0\n",
       "REGIAO                          0\n",
       "ESTADO                          0\n",
       "PRODUTO                         0\n",
       "NUMERO_POSTOS_PESQUISADOS       0\n",
       "UNIDADE_DE_MEDIDA               0\n",
       "PRECO_MEDIO_REVENDA             0\n",
       "DESVIO_PADR_REVENDA             0\n",
       "PRECO_MIN_REVENDA               0\n",
       "PRECO_MAX_REVENDA               0\n",
       "MARGEM_MED_REVENDA           3431\n",
       "COEF_VARIACAO_REVENDA           0\n",
       "PRECO_MED_DISTRIBUICAO       3400\n",
       "DESVIO_PADR_DISTRIB          3400\n",
       "PRECO_MIN_DISTRIB            3400\n",
       "PRECO_MAX_DISTRIB            3400\n",
       "COEF_VARIACAO_DISTRIB        3400\n",
       "MES                             0\n",
       "ANO                             0\n",
       "dtype: int64"
      ]
     },
     "execution_count": 335,
     "metadata": {},
     "output_type": "execute_result"
    }
   ],
   "source": [
    "df.isnull().sum()"
   ]
  },
  {
   "cell_type": "markdown",
   "id": "67782b85-e549-4d3b-a682-ec2fedd9cc27",
   "metadata": {},
   "source": [
    "### Exemplo: Na linha 106813 podemos ver que existem valores NaN"
   ]
  },
  {
   "cell_type": "code",
   "execution_count": 336,
   "id": "dominant-active",
   "metadata": {},
   "outputs": [
    {
     "data": {
      "text/html": [
       "<div>\n",
       "<style scoped>\n",
       "    .dataframe tbody tr th:only-of-type {\n",
       "        vertical-align: middle;\n",
       "    }\n",
       "\n",
       "    .dataframe tbody tr th {\n",
       "        vertical-align: top;\n",
       "    }\n",
       "\n",
       "    .dataframe thead th {\n",
       "        text-align: right;\n",
       "    }\n",
       "</style>\n",
       "<table border=\"1\" class=\"dataframe\">\n",
       "  <thead>\n",
       "    <tr style=\"text-align: right;\">\n",
       "      <th></th>\n",
       "      <th>DATA_INICIAL</th>\n",
       "      <th>DATA_FINAL</th>\n",
       "      <th>REGIAO</th>\n",
       "      <th>ESTADO</th>\n",
       "      <th>PRODUTO</th>\n",
       "      <th>NUMERO_POSTOS_PESQUISADOS</th>\n",
       "      <th>UNIDADE_DE_MEDIDA</th>\n",
       "      <th>PRECO_MEDIO_REVENDA</th>\n",
       "      <th>DESVIO_PADR_REVENDA</th>\n",
       "      <th>PRECO_MIN_REVENDA</th>\n",
       "      <th>PRECO_MAX_REVENDA</th>\n",
       "      <th>MARGEM_MED_REVENDA</th>\n",
       "      <th>COEF_VARIACAO_REVENDA</th>\n",
       "      <th>PRECO_MED_DISTRIBUICAO</th>\n",
       "      <th>DESVIO_PADR_DISTRIB</th>\n",
       "      <th>PRECO_MIN_DISTRIB</th>\n",
       "      <th>PRECO_MAX_DISTRIB</th>\n",
       "      <th>COEF_VARIACAO_DISTRIB</th>\n",
       "      <th>MES</th>\n",
       "      <th>ANO</th>\n",
       "    </tr>\n",
       "  </thead>\n",
       "  <tbody>\n",
       "    <tr>\n",
       "      <th>106813</th>\n",
       "      <td>2019-06-23</td>\n",
       "      <td>2019-06-29</td>\n",
       "      <td>SUDESTE</td>\n",
       "      <td>MINAS GERAIS</td>\n",
       "      <td>GNV</td>\n",
       "      <td>6</td>\n",
       "      <td>R$/m3</td>\n",
       "      <td>3.548</td>\n",
       "      <td>0.1</td>\n",
       "      <td>3.495</td>\n",
       "      <td>3.699</td>\n",
       "      <td>NaN</td>\n",
       "      <td>0.028</td>\n",
       "      <td>NaN</td>\n",
       "      <td>NaN</td>\n",
       "      <td>NaN</td>\n",
       "      <td>NaN</td>\n",
       "      <td>NaN</td>\n",
       "      <td>6</td>\n",
       "      <td>2019</td>\n",
       "    </tr>\n",
       "  </tbody>\n",
       "</table>\n",
       "</div>"
      ],
      "text/plain": [
       "       DATA_INICIAL  DATA_FINAL   REGIAO        ESTADO PRODUTO  \\\n",
       "106813   2019-06-23  2019-06-29  SUDESTE  MINAS GERAIS     GNV   \n",
       "\n",
       "        NUMERO_POSTOS_PESQUISADOS UNIDADE_DE_MEDIDA  PRECO_MEDIO_REVENDA  \\\n",
       "106813                          6             R$/m3                3.548   \n",
       "\n",
       "        DESVIO_PADR_REVENDA  PRECO_MIN_REVENDA  PRECO_MAX_REVENDA  \\\n",
       "106813                  0.1              3.495              3.699   \n",
       "\n",
       "        MARGEM_MED_REVENDA  COEF_VARIACAO_REVENDA  PRECO_MED_DISTRIBUICAO  \\\n",
       "106813                 NaN                  0.028                     NaN   \n",
       "\n",
       "        DESVIO_PADR_DISTRIB  PRECO_MIN_DISTRIB  PRECO_MAX_DISTRIB  \\\n",
       "106813                  NaN                NaN                NaN   \n",
       "\n",
       "        COEF_VARIACAO_DISTRIB  MES   ANO  \n",
       "106813                    NaN    6  2019  "
      ]
     },
     "execution_count": 336,
     "metadata": {},
     "output_type": "execute_result"
    }
   ],
   "source": [
    "df.iloc[[106813]]"
   ]
  },
  {
   "cell_type": "markdown",
   "id": "72361278-3372-4073-9895-78beeabafccb",
   "metadata": {},
   "source": [
    "### Tratando os tipos \"Object\""
   ]
  },
  {
   "cell_type": "code",
   "execution_count": 337,
   "id": "67e4e8a9-ee63-4240-901c-5288757671ff",
   "metadata": {},
   "outputs": [],
   "source": [
    "# Colocando as colunas em um vetor\n",
    "colunas = ['DATA_INICIAL', 'DATA_FINAL', 'REGIAO', 'ESTADO','PRODUTO', 'NUMERO_POSTOS_PESQUISADOS', \n",
    "'UNIDADE_DE_MEDIDA','PRECO_MEDIO_REVENDA', 'DESVIO_PADR_REVENDA', 'PRECO_MIN_REVENDA',\n",
    "'PRECO_MAX_REVENDA', 'MARGEM_MED_REVENDA', 'COEF_VARIACAO_REVENDA','PRECO_MED_DISTRIBUICAO', \n",
    "'DESVIO_PADR_DISTRIB', 'PRECO_MIN_DISTRIB','PRECO_MAX_DISTRIB', 'COEF_VARIACAO_DISTRIB', \n",
    "'MES', 'ANO']\n",
    "\n",
    "# Mudando o tipo de dados das colunas por meio do laço For\n",
    "for index, coluna in enumerate(colunas):\n",
    "    if index < 2:\n",
    "        df[f'{coluna}'] = df[f'{coluna}'].values.astype('datetime64')\n",
    "    elif index > 1 and index < 5 or index == 6:\n",
    "        df[f'{coluna}'] = df[f'{coluna}'].astype(\"string\")\n",
    "    elif index > 6 and index < 18:\n",
    "        df[f'{coluna}'] = df[f'{coluna}'].astype(float)\n",
    "    else:\n",
    "        df[f'{coluna}'].astype(int)"
   ]
  },
  {
   "cell_type": "code",
   "execution_count": 338,
   "id": "e78488bd-639e-4e44-a4c8-34afd9d3c9a6",
   "metadata": {},
   "outputs": [
    {
     "name": "stdout",
     "output_type": "stream",
     "text": [
      "<class 'pandas.core.frame.DataFrame'>\n",
      "RangeIndex: 106823 entries, 0 to 106822\n",
      "Data columns (total 20 columns):\n",
      " #   Column                     Non-Null Count   Dtype         \n",
      "---  ------                     --------------   -----         \n",
      " 0   DATA_INICIAL               106823 non-null  datetime64[ns]\n",
      " 1   DATA_FINAL                 106823 non-null  datetime64[ns]\n",
      " 2   REGIAO                     106823 non-null  string        \n",
      " 3   ESTADO                     106823 non-null  string        \n",
      " 4   PRODUTO                    106823 non-null  string        \n",
      " 5   NUMERO_POSTOS_PESQUISADOS  106823 non-null  int64         \n",
      " 6   UNIDADE_DE_MEDIDA          106823 non-null  string        \n",
      " 7   PRECO_MEDIO_REVENDA        106823 non-null  float64       \n",
      " 8   DESVIO_PADR_REVENDA        106823 non-null  float64       \n",
      " 9   PRECO_MIN_REVENDA          106823 non-null  float64       \n",
      " 10  PRECO_MAX_REVENDA          106823 non-null  float64       \n",
      " 11  MARGEM_MED_REVENDA         103392 non-null  float64       \n",
      " 12  COEF_VARIACAO_REVENDA      106823 non-null  float64       \n",
      " 13  PRECO_MED_DISTRIBUICAO     103423 non-null  float64       \n",
      " 14  DESVIO_PADR_DISTRIB        103423 non-null  float64       \n",
      " 15  PRECO_MIN_DISTRIB          103423 non-null  float64       \n",
      " 16  PRECO_MAX_DISTRIB          103423 non-null  float64       \n",
      " 17  COEF_VARIACAO_DISTRIB      103423 non-null  float64       \n",
      " 18  MES                        106823 non-null  int64         \n",
      " 19  ANO                        106823 non-null  int64         \n",
      "dtypes: datetime64[ns](2), float64(11), int64(3), string(4)\n",
      "memory usage: 16.3 MB\n"
     ]
    }
   ],
   "source": [
    "# Pronto. Os tipos \"Object\" de cada coluna foram substituídos pelos tipos corretos\n",
    "df.info()"
   ]
  },
  {
   "cell_type": "markdown",
   "id": "10a2f5e7-d72f-47b2-a417-6b182fce5a5d",
   "metadata": {},
   "source": [
    "### Substituindo os valores NaN"
   ]
  },
  {
   "cell_type": "code",
   "execution_count": 339,
   "id": "38abf655-3577-4eac-b93e-7c01cd0bcfc9",
   "metadata": {},
   "outputs": [
    {
     "data": {
      "text/plain": [
       "[0.383, 2.335, 0.077, 2.2197, 2.507, 0.03]"
      ]
     },
     "execution_count": 339,
     "metadata": {},
     "output_type": "execute_result"
    }
   ],
   "source": [
    "# Precisamos substituir os valores NaN pelas médias dos valores de cada coluna separadamente.\n",
    "# Vamos começar coletando as médias dos valores que não estão nulos\n",
    "\n",
    "nan_colunas=[\n",
    "    'MARGEM_MED_REVENDA',\n",
    "    'PRECO_MED_DISTRIBUICAO',\n",
    "    'DESVIO_PADR_DISTRIB',\n",
    "    'PRECO_MIN_DISTRIB',\n",
    "    'PRECO_MAX_DISTRIB',\n",
    "    'COEF_VARIACAO_DISTRIB'\n",
    "]\n",
    "\n",
    "df_medianas=[]\n",
    "for x in nan_colunas:\n",
    "    df_medianas.append(df[f'{x}'].median())\n",
    "df_medianas"
   ]
  },
  {
   "cell_type": "code",
   "execution_count": 340,
   "id": "3506d16d-2e9d-41d8-bfcd-bfd6b0ac62cc",
   "metadata": {},
   "outputs": [
    {
     "data": {
      "text/plain": [
       "DATA_INICIAL                 0\n",
       "DATA_FINAL                   0\n",
       "REGIAO                       0\n",
       "ESTADO                       0\n",
       "PRODUTO                      0\n",
       "NUMERO_POSTOS_PESQUISADOS    0\n",
       "UNIDADE_DE_MEDIDA            0\n",
       "PRECO_MEDIO_REVENDA          0\n",
       "DESVIO_PADR_REVENDA          0\n",
       "PRECO_MIN_REVENDA            0\n",
       "PRECO_MAX_REVENDA            0\n",
       "MARGEM_MED_REVENDA           0\n",
       "COEF_VARIACAO_REVENDA        0\n",
       "PRECO_MED_DISTRIBUICAO       0\n",
       "DESVIO_PADR_DISTRIB          0\n",
       "PRECO_MIN_DISTRIB            0\n",
       "PRECO_MAX_DISTRIB            0\n",
       "COEF_VARIACAO_DISTRIB        0\n",
       "MES                          0\n",
       "ANO                          0\n",
       "dtype: int64"
      ]
     },
     "execution_count": 340,
     "metadata": {},
     "output_type": "execute_result"
    }
   ],
   "source": [
    "# Agora que temos a média de cada coluna, basta substituir os valores das médias em cada campo com valores NaN\n",
    "for index,command in enumerate(nan_colunas):\n",
    "    df[f'{command}'].fillna(df_medianas[index],inplace=True)\n",
    "\n",
    "df.isnull().sum()"
   ]
  },
  {
   "cell_type": "markdown",
   "id": "6d23cf90-72af-455d-aaf4-14f8cc08de69",
   "metadata": {},
   "source": [
    "### Visualizando os dados"
   ]
  },
  {
   "cell_type": "code",
   "execution_count": 341,
   "id": "extensive-straight",
   "metadata": {
    "tags": []
   },
   "outputs": [],
   "source": [
    "# Vamos criar as variáveis com os dados que iremos precisar\n",
    "\n",
    "df_geral = df.filter(['ANO','ESTADO','MARGEM_MED_REVENDA','PRECO_MED_DISTRIBUICAO','DESVIO_PADR_DISTRIB',\n",
    "                      'PRECO_MIN_DISTRIB','PRECO_MAX_DISTRIB','COEF_VARIACAO_DISTRIB']).copy()\n",
    "dt1=df[['ANO','ESTADO','PRECO_MIN_DISTRIB','PRECO_MAX_DISTRIB']].groupby(['ESTADO','ANO']).mean()\n"
   ]
  },
  {
   "cell_type": "markdown",
   "id": "981756e4-8ad1-42d9-97af-108f8610c41b",
   "metadata": {},
   "source": [
    "### Quais são os tipos de combustíveis?"
   ]
  },
  {
   "cell_type": "code",
   "execution_count": 342,
   "id": "9eaf29bd-1b31-42e2-927e-8b3f0f661267",
   "metadata": {
    "tags": []
   },
   "outputs": [
    {
     "data": {
      "text/html": [
       "<div>\n",
       "<style scoped>\n",
       "    .dataframe tbody tr th:only-of-type {\n",
       "        vertical-align: middle;\n",
       "    }\n",
       "\n",
       "    .dataframe tbody tr th {\n",
       "        vertical-align: top;\n",
       "    }\n",
       "\n",
       "    .dataframe thead th {\n",
       "        text-align: right;\n",
       "    }\n",
       "</style>\n",
       "<table border=\"1\" class=\"dataframe\">\n",
       "  <thead>\n",
       "    <tr style=\"text-align: right;\">\n",
       "      <th></th>\n",
       "    </tr>\n",
       "    <tr>\n",
       "      <th>PRODUTO</th>\n",
       "    </tr>\n",
       "  </thead>\n",
       "  <tbody>\n",
       "    <tr>\n",
       "      <th>ETANOL HIDRATADO</th>\n",
       "    </tr>\n",
       "    <tr>\n",
       "      <th>GASOLINA COMUM</th>\n",
       "    </tr>\n",
       "    <tr>\n",
       "      <th>GLP</th>\n",
       "    </tr>\n",
       "    <tr>\n",
       "      <th>GNV</th>\n",
       "    </tr>\n",
       "    <tr>\n",
       "      <th>ÓLEO DIESEL</th>\n",
       "    </tr>\n",
       "    <tr>\n",
       "      <th>ÓLEO DIESEL S10</th>\n",
       "    </tr>\n",
       "  </tbody>\n",
       "</table>\n",
       "</div>"
      ],
      "text/plain": [
       "Empty DataFrame\n",
       "Columns: []\n",
       "Index: [ETANOL HIDRATADO, GASOLINA COMUM, GLP, GNV, ÓLEO DIESEL, ÓLEO DIESEL S10]"
      ]
     },
     "execution_count": 342,
     "metadata": {},
     "output_type": "execute_result"
    }
   ],
   "source": [
    "df2 = df[['PRODUTO']].groupby(['PRODUTO']).sum()\n",
    "df2"
   ]
  },
  {
   "cell_type": "markdown",
   "id": "9e5d1bcd-69d8-46db-b180-98c8df773f33",
   "metadata": {},
   "source": [
    "### Qual é o número de postos pesquisados por produto?"
   ]
  },
  {
   "cell_type": "code",
   "execution_count": 351,
   "id": "091306af-9db4-4f21-a600-d679c8f1cbab",
   "metadata": {},
   "outputs": [
    {
     "data": {
      "text/html": [
       "<div>\n",
       "<style scoped>\n",
       "    .dataframe tbody tr th:only-of-type {\n",
       "        vertical-align: middle;\n",
       "    }\n",
       "\n",
       "    .dataframe tbody tr th {\n",
       "        vertical-align: top;\n",
       "    }\n",
       "\n",
       "    .dataframe thead th {\n",
       "        text-align: right;\n",
       "    }\n",
       "</style>\n",
       "<table border=\"1\" class=\"dataframe\">\n",
       "  <thead>\n",
       "    <tr style=\"text-align: right;\">\n",
       "      <th></th>\n",
       "      <th>NUMERO_POSTOS_PESQUISADOS</th>\n",
       "    </tr>\n",
       "    <tr>\n",
       "      <th>PRODUTO</th>\n",
       "      <th></th>\n",
       "    </tr>\n",
       "  </thead>\n",
       "  <tbody>\n",
       "    <tr>\n",
       "      <th>GNV</th>\n",
       "      <td>377385</td>\n",
       "    </tr>\n",
       "    <tr>\n",
       "      <th>ÓLEO DIESEL S10</th>\n",
       "      <td>1274777</td>\n",
       "    </tr>\n",
       "    <tr>\n",
       "      <th>ÓLEO DIESEL</th>\n",
       "      <td>5022817</td>\n",
       "    </tr>\n",
       "    <tr>\n",
       "      <th>GLP</th>\n",
       "      <td>5532433</td>\n",
       "    </tr>\n",
       "    <tr>\n",
       "      <th>ETANOL HIDRATADO</th>\n",
       "      <td>6151637</td>\n",
       "    </tr>\n",
       "    <tr>\n",
       "      <th>GASOLINA COMUM</th>\n",
       "      <td>6613068</td>\n",
       "    </tr>\n",
       "  </tbody>\n",
       "</table>\n",
       "</div>"
      ],
      "text/plain": [
       "                  NUMERO_POSTOS_PESQUISADOS\n",
       "PRODUTO                                    \n",
       "GNV                                  377385\n",
       "ÓLEO DIESEL S10                     1274777\n",
       "ÓLEO DIESEL                         5022817\n",
       "GLP                                 5532433\n",
       "ETANOL HIDRATADO                    6151637\n",
       "GASOLINA COMUM                      6613068"
      ]
     },
     "execution_count": 351,
     "metadata": {},
     "output_type": "execute_result"
    }
   ],
   "source": [
    "dt1=df[['PRODUTO','NUMERO_POSTOS_PESQUISADOS']].groupby(['PRODUTO']).sum()\n",
    "g = dt1.sort_values(by='NUMERO_POSTOS_PESQUISADOS', ascending=True)\n",
    "g"
   ]
  },
  {
   "cell_type": "markdown",
   "id": "6115ed0a-eef5-411e-b2e4-62177e1f1931",
   "metadata": {},
   "source": [
    "### Qual o total de postos pesquisados de 2005 até 2019 em todo o Brasil?"
   ]
  },
  {
   "cell_type": "code",
   "execution_count": 127,
   "id": "690b626e-0112-431b-a772-cfb28d2c963b",
   "metadata": {
    "tags": []
   },
   "outputs": [
    {
     "data": {
      "text/plain": [
       "<AxesSubplot:xlabel='ANO'>"
      ]
     },
     "execution_count": 127,
     "metadata": {},
     "output_type": "execute_result"
    },
    {
     "data": {
      "image/png": "[encoded data removed]",
      "text/plain": [
       "<Figure size 576x288 with 1 Axes>"
      ]
     },
     "metadata": {
      "needs_background": "light"
     },
     "output_type": "display_data"
    }
   ],
   "source": [
    "dt1=df[['ANO','ESTADO','NUMERO_POSTOS_PESQUISADOS']].groupby(['ESTADO','ANO']).sum()\n",
    "#dt1.pivot_table(index=['ESTADO'], columns=['ANO'], values=['NUMERO_POSTOS_PESQUISADOS'])\n",
    "dt1_teste = dt1.query('ANO > 2014')\n",
    "grafico_pos_pesquisados=df[['ANO','NUMERO_POSTOS_PESQUISADOS']].groupby(['ANO']).sum()\n",
    "grafico_pos_pesquisados.plot(kind='bar',figsize=(8,4))"
   ]
  },
  {
   "cell_type": "markdown",
   "id": "3fdaafb2-f0ca-4fbb-915a-c8920a1e11cb",
   "metadata": {},
   "source": [
    "### TOP 10 - Média de Postos Pesquisados por Estado ao longo de 9 anos"
   ]
  },
  {
   "cell_type": "code",
   "execution_count": 128,
   "id": "a91899f9-8c54-44cd-ae70-7928c7ec767b",
   "metadata": {},
   "outputs": [
    {
     "data": {
      "text/plain": [
       "<AxesSubplot:xlabel='NUMERO_POSTOS_PESQUISADOS', ylabel='ESTADO'>"
      ]
     },
     "execution_count": 128,
     "metadata": {},
     "output_type": "execute_result"
    },
    {
     "data": {
      "image/png": "[encoded data removed]",
      "text/plain": [
       "<Figure size 432x288 with 1 Axes>"
      ]
     },
     "metadata": {
      "needs_background": "light"
     },
     "output_type": "display_data"
    }
   ],
   "source": [
    "df_menor = df.copy()\n",
    "result = df.groupby([\"ESTADO\"])['NUMERO_POSTOS_PESQUISADOS'].aggregate(np.mean).reset_index().sort_values('NUMERO_POSTOS_PESQUISADOS',ascending=False)\n",
    "sns.barplot(y='ESTADO', x=\"NUMERO_POSTOS_PESQUISADOS\", data=result, order=result['ESTADO'][:10],palette=\"Blues_d\") "
   ]
  },
  {
   "cell_type": "markdown",
   "id": "9687d0b6-38da-43ce-8972-8caf0569e35a",
   "metadata": {},
   "source": [
    "### Qual o número de postos pesquisados por Estado em 2019?"
   ]
  },
  {
   "cell_type": "code",
   "execution_count": 352,
   "id": "a1f98458-3773-4f6d-aba3-f10ee815d3cc",
   "metadata": {
    "tags": []
   },
   "outputs": [
    {
     "data": {
      "text/plain": [
       "<AxesSubplot:ylabel='ESTADO,ANO'>"
      ]
     },
     "execution_count": 352,
     "metadata": {},
     "output_type": "execute_result"
    },
    {
     "data": {
      "image/png": "[encoded data removed]",
      "text/plain": [
       "<Figure size 720x504 with 1 Axes>"
      ]
     },
     "metadata": {
      "needs_background": "light"
     },
     "output_type": "display_data"
    }
   ],
   "source": [
    "dt1=df[['ANO','ESTADO','NUMERO_POSTOS_PESQUISADOS']].groupby(['ESTADO','ANO']).sum()\n",
    "dt1_teste = dt1.query('ANO == [2019]').sort_values(by='NUMERO_POSTOS_PESQUISADOS', ascending=True)\n",
    "dt1_teste.sort_values(by='NUMERO_POSTOS_PESQUISADOS').plot(kind='barh',figsize=(10,7))"
   ]
  },
  {
   "cell_type": "markdown",
   "id": "999f8fd5-bda2-4819-b5f0-a305581cda98",
   "metadata": {},
   "source": [
    "### Qual é a MÉDIA de preços mínimos e máximos de distribuição por Estado em 2019?"
   ]
  },
  {
   "cell_type": "code",
   "execution_count": 320,
   "id": "480c7cf4-427b-4413-8dd5-670060849621",
   "metadata": {},
   "outputs": [
    {
     "data": {
      "text/plain": [
       "<AxesSubplot:ylabel='ESTADO,ANO'>"
      ]
     },
     "execution_count": 320,
     "metadata": {},
     "output_type": "execute_result"
    },
    {
     "data": {
      "image/png": "[encoded data removed]",
      "text/plain": [
       "<Figure size 432x504 with 1 Axes>"
      ]
     },
     "metadata": {
      "needs_background": "light"
     },
     "output_type": "display_data"
    }
   ],
   "source": [
    "dt1=df[['ANO','ESTADO','PRECO_MIN_DISTRIB']].groupby(['ESTADO','ANO']).mean()\n",
    "dt2=df[['ANO','ESTADO','PRECO_MAX_DISTRIB']].groupby(['ESTADO','ANO']).mean()\n",
    "\n",
    "# MÉDIA DE PREÇO MÍNIMO DE DISTRIUBIÇÃO\n",
    "teste1 = dt1.query('ANO == [2019]').sort_values(by='PRECO_MIN_DISTRIB', ascending=True)\n",
    "teste1.plot(kind='barh',figsize=(6,7)) "
   ]
  },
  {
   "cell_type": "markdown",
   "id": "80d2a95f-2d23-4212-a792-9093ef7d28ba",
   "metadata": {},
   "source": [
    "### Média de preço máximo de distribuição"
   ]
  },
  {
   "cell_type": "code",
   "execution_count": 354,
   "id": "1b8c3a8a-ee01-4b7b-a798-eb091a576ac0",
   "metadata": {
    "tags": []
   },
   "outputs": [
    {
     "data": {
      "text/plain": [
       "<AxesSubplot:ylabel='ESTADO,ANO'>"
      ]
     },
     "execution_count": 354,
     "metadata": {},
     "output_type": "execute_result"
    },
    {
     "data": {
      "image/png": "[encoded data removed]",
      "text/plain": [
       "<Figure size 504x504 with 1 Axes>"
      ]
     },
     "metadata": {
      "needs_background": "light"
     },
     "output_type": "display_data"
    }
   ],
   "source": [
    "teste2 = dt2.query('ANO == [2019]').sort_values(by='PRECO_MAX_DISTRIB', ascending=True)\n",
    "teste2.plot(kind='barh',figsize=(7,7)) "
   ]
  },
  {
   "cell_type": "markdown",
   "id": "607f102b-f582-45f9-82f8-e4b2d6e730ca",
   "metadata": {},
   "source": [
    "## Conforme observado, efetuamos a limpeza, padronização e visualização dos dados."
   ]
  },
  {
   "cell_type": "code",
   "execution_count": null,
   "id": "4334bc6f-e233-476f-bb57-be57fa666771",
   "metadata": {},
   "outputs": [],
   "source": []
  }
 ],
 "metadata": {
  "interpreter": {
   "hash": "bfd25f1df0b695321c8067ba68e6f86142b08331c3be2b87d808e2fac74e4047"
  },
  "kernelspec": {
   "display_name": "Python 3",
   "language": "python",
   "name": "python3"
  },
  "language_info": {
   "codemirror_mode": {
    "name": "ipython",
    "version": 3
   },
   "file_extension": ".py",
   "mimetype": "text/x-python",
   "name": "python",
   "nbconvert_exporter": "python",
   "pygments_lexer": "ipython3",
   "version": "3.9.4"
  }
 },
 "nbformat": 4,
 "nbformat_minor": 5
}
